{
 "cells": [
  {
   "cell_type": "code",
   "execution_count": 1,
   "id": "7a20b6a3",
   "metadata": {
    "ExecuteTime": {
     "end_time": "2022-02-08T20:36:43.821954Z",
     "start_time": "2022-02-08T20:36:43.625750Z"
    }
   },
   "outputs": [],
   "source": [
    "from sklearn import datasets\n",
    "from sklearn import metrics\n",
    "from sklearn.ensemble import AdaBoostClassifier, AdaBoostRegressor\n",
    "from sklearn.model_selection import train_test_split\n",
    "from sklearn.metrics import classification_report\n",
    "from sklearn.tree import DecisionTreeClassifier"
   ]
  },
  {
   "cell_type": "code",
   "execution_count": 2,
   "id": "de2470b1",
   "metadata": {
    "ExecuteTime": {
     "end_time": "2022-02-08T20:36:43.828216Z",
     "start_time": "2022-02-08T20:36:43.824758Z"
    }
   },
   "outputs": [],
   "source": [
    "def get_report(model, X_test, y_true):\n",
    "    y_pred = model.predict(X_test)\n",
    "    print(classification_report(y_true, y_pred, digits=4))"
   ]
  },
  {
   "cell_type": "markdown",
   "id": "d0310fac",
   "metadata": {},
   "source": [
    "# Dataset"
   ]
  },
  {
   "cell_type": "code",
   "execution_count": 3,
   "id": "9c386c72",
   "metadata": {
    "ExecuteTime": {
     "end_time": "2022-02-08T20:36:43.835521Z",
     "start_time": "2022-02-08T20:36:43.829836Z"
    }
   },
   "outputs": [],
   "source": [
    "iris = datasets.load_iris()\n",
    "X = iris.data\n",
    "y = iris.target\n",
    "X_train, X_test, y_train, y_test = train_test_split(X, y, test_size=0.25)"
   ]
  },
  {
   "cell_type": "markdown",
   "id": "30227c25",
   "metadata": {},
   "source": [
    "# AdaBoost\n",
    "Гиперпараметры:\n",
    "\n",
    "- base_estimators: указывает оценщик базового типа, то есть алгоритм, который будет использоваться в качестве слабого ученика. По умолчанию = DecisionTreeClassifier(max_depth = 1) - decision stump (пень).  \n",
    "- n_estimators: максимальное количество оценщиков, при котором бустинг прекращается. По умолчанию = 50  \n",
    "- learning_rate: скорость обучения уменьшает вклад каждого классификатора на learning_rate. Существует компромисс между learning_rate и n_estimators. по умолчанию = 1.  \n",
    "- random_state: делает вывод модели воспроизводимым. по умолчанию = None  \n",
    "- loss: только для регрессора. Функция потерь используется при обновлении весов после каждой итерации бустинга. {‘Linear’, ‘square’, ‘exponential’}, по умолчанию = ’linear’  \n",
    "- algorithm: SAMME.R сходится быстрее, но надо, чтоб слабые ученики имели метод predict_proba"
   ]
  },
  {
   "cell_type": "code",
   "execution_count": 4,
   "id": "52fb119d",
   "metadata": {
    "ExecuteTime": {
     "end_time": "2022-02-08T20:36:43.839996Z",
     "start_time": "2022-02-08T20:36:43.836893Z"
    }
   },
   "outputs": [],
   "source": [
    "RANDOM_STATE = 42"
   ]
  },
  {
   "cell_type": "code",
   "execution_count": 5,
   "id": "1344e2d5",
   "metadata": {
    "ExecuteTime": {
     "end_time": "2022-02-08T20:36:43.918589Z",
     "start_time": "2022-02-08T20:36:43.841619Z"
    }
   },
   "outputs": [],
   "source": [
    "ada_clf = AdaBoostClassifier(n_estimators=50, learning_rate=1, random_state=RANDOM_STATE)\n",
    "model = ada_clf.fit(X_train, y_train)\n",
    "y_pred = model.predict(X_test)"
   ]
  },
  {
   "cell_type": "code",
   "execution_count": 6,
   "id": "c3d72a01",
   "metadata": {
    "ExecuteTime": {
     "end_time": "2022-02-08T20:36:43.928717Z",
     "start_time": "2022-02-08T20:36:43.920439Z"
    }
   },
   "outputs": [
    {
     "name": "stdout",
     "output_type": "stream",
     "text": [
      "              precision    recall  f1-score   support\n",
      "\n",
      "           0     1.0000    1.0000    1.0000        11\n",
      "           1     0.8571    0.9231    0.8889        13\n",
      "           2     0.9231    0.8571    0.8889        14\n",
      "\n",
      "    accuracy                         0.9211        38\n",
      "   macro avg     0.9267    0.9267    0.9259        38\n",
      "weighted avg     0.9228    0.9211    0.9211        38\n",
      "\n"
     ]
    }
   ],
   "source": [
    "print(classification_report(y_test, y_pred, digits=4))"
   ]
  },
  {
   "cell_type": "code",
   "execution_count": 7,
   "id": "5cdbd31b",
   "metadata": {
    "ExecuteTime": {
     "end_time": "2022-02-08T20:36:43.940519Z",
     "start_time": "2022-02-08T20:36:43.933360Z"
    }
   },
   "outputs": [
    {
     "data": {
      "text/plain": [
       "['sepal length (cm)',\n",
       " 'sepal width (cm)',\n",
       " 'petal length (cm)',\n",
       " 'petal width (cm)']"
      ]
     },
     "execution_count": 7,
     "metadata": {},
     "output_type": "execute_result"
    }
   ],
   "source": [
    "iris['feature_names']"
   ]
  },
  {
   "cell_type": "code",
   "execution_count": 8,
   "id": "a918879d",
   "metadata": {
    "ExecuteTime": {
     "end_time": "2022-02-08T20:36:43.948758Z",
     "start_time": "2022-02-08T20:36:43.942268Z"
    }
   },
   "outputs": [
    {
     "data": {
      "text/plain": [
       "array([0.  , 0.  , 0.48, 0.52])"
      ]
     },
     "execution_count": 8,
     "metadata": {},
     "output_type": "execute_result"
    }
   ],
   "source": [
    "ada_clf.feature_importances_"
   ]
  },
  {
   "cell_type": "markdown",
   "id": "d6b69408",
   "metadata": {},
   "source": [
    "Можем попробовать использовать другие base learners."
   ]
  },
  {
   "cell_type": "code",
   "execution_count": 9,
   "id": "ad84c165",
   "metadata": {
    "ExecuteTime": {
     "end_time": "2022-02-08T20:36:43.966472Z",
     "start_time": "2022-02-08T20:36:43.950416Z"
    }
   },
   "outputs": [
    {
     "name": "stdout",
     "output_type": "stream",
     "text": [
      "              precision    recall  f1-score   support\n",
      "\n",
      "           0     1.0000    1.0000    1.0000        39\n",
      "           1     1.0000    1.0000    1.0000        37\n",
      "           2     1.0000    1.0000    1.0000        36\n",
      "\n",
      "    accuracy                         1.0000       112\n",
      "   macro avg     1.0000    1.0000    1.0000       112\n",
      "weighted avg     1.0000    1.0000    1.0000       112\n",
      "\n",
      "              precision    recall  f1-score   support\n",
      "\n",
      "           0     1.0000    1.0000    1.0000        11\n",
      "           1     0.9167    0.8462    0.8800        13\n",
      "           2     0.8667    0.9286    0.8966        14\n",
      "\n",
      "    accuracy                         0.9211        38\n",
      "   macro avg     0.9278    0.9249    0.9255        38\n",
      "weighted avg     0.9224    0.9211    0.9208        38\n",
      "\n"
     ]
    }
   ],
   "source": [
    "ada_clf = AdaBoostClassifier(\n",
    "    DecisionTreeClassifier(max_depth=4), \n",
    "    n_estimators=25, \n",
    "    learning_rate=0.1,\n",
    "    random_state=RANDOM_STATE)\n",
    "ada_clf.fit(X_train, y_train)\n",
    "\n",
    "get_report(ada_clf, X_train, y_train)\n",
    "get_report(ada_clf, X_test, y_test)"
   ]
  },
  {
   "cell_type": "code",
   "execution_count": 10,
   "id": "bb52c129",
   "metadata": {
    "ExecuteTime": {
     "end_time": "2022-02-08T20:36:43.974197Z",
     "start_time": "2022-02-08T20:36:43.969460Z"
    }
   },
   "outputs": [
    {
     "data": {
      "text/plain": [
       "array([0.        , 0.        , 0.05427136, 0.94572864])"
      ]
     },
     "execution_count": 10,
     "metadata": {},
     "output_type": "execute_result"
    }
   ],
   "source": [
    "ada_clf.feature_importances_"
   ]
  },
  {
   "cell_type": "code",
   "execution_count": 11,
   "id": "cea1ae38",
   "metadata": {
    "ExecuteTime": {
     "end_time": "2022-02-08T20:36:44.267816Z",
     "start_time": "2022-02-08T20:36:43.975944Z"
    }
   },
   "outputs": [
    {
     "name": "stdout",
     "output_type": "stream",
     "text": [
      "              precision    recall  f1-score   support\n",
      "\n",
      "           0     1.0000    1.0000    1.0000        39\n",
      "           1     1.0000    1.0000    1.0000        37\n",
      "           2     1.0000    1.0000    1.0000        36\n",
      "\n",
      "    accuracy                         1.0000       112\n",
      "   macro avg     1.0000    1.0000    1.0000       112\n",
      "weighted avg     1.0000    1.0000    1.0000       112\n",
      "\n",
      "              precision    recall  f1-score   support\n",
      "\n",
      "           0     1.0000    1.0000    1.0000        11\n",
      "           1     0.9167    0.8462    0.8800        13\n",
      "           2     0.8667    0.9286    0.8966        14\n",
      "\n",
      "    accuracy                         0.9211        38\n",
      "   macro avg     0.9278    0.9249    0.9255        38\n",
      "weighted avg     0.9224    0.9211    0.9208        38\n",
      "\n"
     ]
    }
   ],
   "source": [
    "from sklearn.svm import SVC\n",
    "\n",
    "svc = SVC(probability=True, kernel='linear')\n",
    "ada_clf = AdaBoostClassifier(svc, n_estimators=50)\n",
    "ada_clf.fit(X_train, y_train)\n",
    "\n",
    "get_report(ada_clf, X_train, y_train)\n",
    "get_report(ada_clf, X_test, y_test)"
   ]
  },
  {
   "cell_type": "markdown",
   "id": "0cd10748",
   "metadata": {},
   "source": [
    "# Gradient Boosting\n",
    "Вместо обновления весов обучающих экземпляров, как в AdaBoost, Gradient Boosting подгоняет новую модель к остаточным ошибкам."
   ]
  },
  {
   "cell_type": "markdown",
   "id": "41d41a1b",
   "metadata": {
    "ExecuteTime": {
     "end_time": "2021-11-05T09:49:11.906385Z",
     "start_time": "2021-11-05T09:49:11.896115Z"
    }
   },
   "source": [
    "Гиперпараметры:\n",
    "- loss: {‘deviance’, ‘exponential’}, default = ’deviance’ Функция потерь для оптимизации. «deviance» означает отклонение (= логистическая регрессия) для классификации с вероятностными выходными данными. Для потери «экспоненциального» повышения градиента восстанавливает алгоритм AdaBoost.\n",
    "- learning_rate: float, по умолчанию = 0.1, уменьшает вклад каждого дерева на learning_rate. Существует компромисс между learning_rate и n_estimators.\n",
    "- n_estimators: int, default = 100 Количество выполняемых этапов повышения. Повышение градиента довольно устойчиво к переобучению, поэтому большое количество обычно приводит к лучшей производительности.\n",
    "- subsample: float, default = 1.0 Доля выборки, которая будет использоваться для подбора отдельных слабых учеников.\n",
    "- criterion: {‘friedman_mse’, ‘mse’, ‘mae’}, default = ’friedman_mse’ Функция для измерения качества разделения.\n",
    "- min_samples_split: int или float, по умолчанию = 2 Минимальное количество выборок, необходимых для разделения внутреннего узла.\n",
    "Если int, то считайте min_samples_split минимальным числом.  \n",
    "Если float, то min_samples_split - это дробная часть, а ceil(min_samples_split * n_samples) - минимальное количество выборок для каждого разделения.  \n",
    "- min_samples_leaf: int или float, по умолчанию = 1 Минимальное количество выборок, которое требуется для конечного узла.\n",
    "- max_depth: int, по умолчанию = 3 максимальная глубина индивидуальных оценок регрессии.\n",
    "- min_impurity_decrease: float, default = 0.0 Узел будет разделен, если это разделение вызовет уменьшение примеси больше или равное этому значению.\n",
    "- init: estimator или «zero», по умолчанию = None. Объект оценщика, который используется для вычисления начальных прогнозов. init должен предоставлять fit и pred_proba. Если «zero», исходные необработанные прогнозы устанавливаются на ноль. По умолчанию используется DummyEstimator, предсказывающий априорные значения классов.\n",
    "- max_features: {‘auto’, ‘sqrt’, ‘log2’}, int или float, default = None Число признаков, которые следует учитывать при поиске наилучшего разделения:\n",
    "Если int, то учитывайте особенности max_features при каждом разбиении.   \n",
    "Если float, то max_features является дробной частью, а функции int (max_features * n_features) учитываются при каждом разбиении.  \n",
    "Если «авто», то max_features = sqrt(n_features).  \n",
    "Если «sqrt», то max_features = sqrt(n_features).  \n",
    "Если «log2», то max_features = log2(n_features).  \n",
    "Если None, то max_features = n_features.  \n",
    "Выбор max_features < n_features приводит к уменьшению дисперсии и увеличению смещения сильного ученика.  "
   ]
  },
  {
   "cell_type": "code",
   "execution_count": 12,
   "id": "01fbec1c",
   "metadata": {
    "ExecuteTime": {
     "end_time": "2022-02-08T20:36:44.272318Z",
     "start_time": "2022-02-08T20:36:44.269976Z"
    }
   },
   "outputs": [],
   "source": [
    "from sklearn.ensemble import GradientBoostingClassifier"
   ]
  },
  {
   "cell_type": "code",
   "execution_count": 13,
   "id": "e720abc7",
   "metadata": {
    "ExecuteTime": {
     "end_time": "2022-02-08T20:36:44.279665Z",
     "start_time": "2022-02-08T20:36:44.274054Z"
    }
   },
   "outputs": [
    {
     "data": {
      "text/plain": [
       "GradientBoostingClassifier()"
      ]
     },
     "execution_count": 13,
     "metadata": {},
     "output_type": "execute_result"
    }
   ],
   "source": [
    "GradientBoostingClassifier()"
   ]
  },
  {
   "cell_type": "code",
   "execution_count": 14,
   "id": "d4e7ff48",
   "metadata": {
    "ExecuteTime": {
     "end_time": "2022-02-08T20:36:44.312071Z",
     "start_time": "2022-02-08T20:36:44.281194Z"
    }
   },
   "outputs": [
    {
     "name": "stdout",
     "output_type": "stream",
     "text": [
      "              precision    recall  f1-score   support\n",
      "\n",
      "           0     1.0000    1.0000    1.0000        39\n",
      "           1     1.0000    1.0000    1.0000        37\n",
      "           2     1.0000    1.0000    1.0000        36\n",
      "\n",
      "    accuracy                         1.0000       112\n",
      "   macro avg     1.0000    1.0000    1.0000       112\n",
      "weighted avg     1.0000    1.0000    1.0000       112\n",
      "\n",
      "              precision    recall  f1-score   support\n",
      "\n",
      "           0     1.0000    1.0000    1.0000        11\n",
      "           1     0.9167    0.8462    0.8800        13\n",
      "           2     0.8667    0.9286    0.8966        14\n",
      "\n",
      "    accuracy                         0.9211        38\n",
      "   macro avg     0.9278    0.9249    0.9255        38\n",
      "weighted avg     0.9224    0.9211    0.9208        38\n",
      "\n"
     ]
    }
   ],
   "source": [
    "gb_clf = GradientBoostingClassifier(\n",
    "    n_estimators=10,\n",
    "    random_state=RANDOM_STATE)\n",
    "gb_clf.fit(X_train, y_train)\n",
    "\n",
    "get_report(gb_clf, X_train, y_train)\n",
    "get_report(gb_clf, X_test, y_test)"
   ]
  },
  {
   "cell_type": "markdown",
   "id": "2cfa269b",
   "metadata": {
    "ExecuteTime": {
     "end_time": "2020-01-11T12:18:31.218648Z",
     "start_time": "2020-01-11T12:18:31.214083Z"
    }
   },
   "source": [
    "# XGBoost"
   ]
  },
  {
   "cell_type": "markdown",
   "id": "770e70bc",
   "metadata": {},
   "source": [
    "Рекомендованный способ устанаваливать xgboost:"
   ]
  },
  {
   "cell_type": "code",
   "execution_count": 15,
   "id": "c933f1df",
   "metadata": {
    "ExecuteTime": {
     "end_time": "2022-02-08T20:36:52.985025Z",
     "start_time": "2022-02-08T20:36:44.313774Z"
    }
   },
   "outputs": [
    {
     "name": "stdout",
     "output_type": "stream",
     "text": [
      "Collecting package metadata (current_repodata.json): done\n",
      "Solving environment: done\n",
      "\n",
      "\n",
      "==> WARNING: A newer version of conda exists. <==\n",
      "  current version: 4.10.1\n",
      "  latest version: 4.11.0\n",
      "\n",
      "Please update conda by running\n",
      "\n",
      "    $ conda update -n base -c defaults conda\n",
      "\n",
      "\n",
      "\n",
      "# All requested packages already installed.\n",
      "\n"
     ]
    }
   ],
   "source": [
    "!conda install -c conda-forge xgboost"
   ]
  },
  {
   "cell_type": "markdown",
   "id": "7a3d9284",
   "metadata": {},
   "source": [
    "При установке через pip xgboost может убивать ноутбук при запуске тренировки."
   ]
  },
  {
   "cell_type": "code",
   "execution_count": 16,
   "id": "3a90a2a2",
   "metadata": {
    "ExecuteTime": {
     "end_time": "2022-02-08T20:36:53.085875Z",
     "start_time": "2022-02-08T20:36:52.987743Z"
    }
   },
   "outputs": [],
   "source": [
    "from xgboost import XGBClassifier"
   ]
  },
  {
   "cell_type": "code",
   "execution_count": 17,
   "id": "b3352832",
   "metadata": {
    "ExecuteTime": {
     "end_time": "2022-02-08T20:36:53.128199Z",
     "start_time": "2022-02-08T20:36:53.087665Z"
    },
    "scrolled": true
   },
   "outputs": [
    {
     "name": "stdout",
     "output_type": "stream",
     "text": [
      "[22:36:53] WARNING: /Users/runner/miniforge3/conda-bld/xgboost-split_1643227205751/work/src/learner.cc:1115: Starting in XGBoost 1.3.0, the default evaluation metric used with the objective 'multi:softprob' was changed from 'merror' to 'mlogloss'. Explicitly set eval_metric if you'd like to restore the old behavior.\n",
      "              precision    recall  f1-score   support\n",
      "\n",
      "           0     1.0000    1.0000    1.0000        11\n",
      "           1     0.9167    0.8462    0.8800        13\n",
      "           2     0.8667    0.9286    0.8966        14\n",
      "\n",
      "    accuracy                         0.9211        38\n",
      "   macro avg     0.9278    0.9249    0.9255        38\n",
      "weighted avg     0.9224    0.9211    0.9208        38\n",
      "\n"
     ]
    }
   ],
   "source": [
    "xgb_clf = XGBClassifier(max_depth=3,\n",
    "                        n_estimators=10,\n",
    "                        use_label_encoder=False)\n",
    "xgb_clf.fit(X_train, y_train)\n",
    "\n",
    "get_report(xgb_clf, X_test, y_test)"
   ]
  },
  {
   "cell_type": "code",
   "execution_count": 18,
   "id": "ee3635fa",
   "metadata": {
    "ExecuteTime": {
     "end_time": "2022-02-08T20:36:53.135704Z",
     "start_time": "2022-02-08T20:36:53.130376Z"
    }
   },
   "outputs": [
    {
     "data": {
      "text/plain": [
       "XGBClassifier(base_score=None, booster=None, colsample_bylevel=None,\n",
       "              colsample_bynode=None, colsample_bytree=None,\n",
       "              enable_categorical=False, gamma=None, gpu_id=None,\n",
       "              importance_type=None, interaction_constraints=None,\n",
       "              learning_rate=None, max_delta_step=None, max_depth=None,\n",
       "              min_child_weight=None, missing=nan, monotone_constraints=None,\n",
       "              n_estimators=100, n_jobs=None, num_parallel_tree=None,\n",
       "              predictor=None, random_state=None, reg_alpha=None,\n",
       "              reg_lambda=None, scale_pos_weight=None, subsample=None,\n",
       "              tree_method=None, validate_parameters=None, verbosity=None)"
      ]
     },
     "execution_count": 18,
     "metadata": {},
     "output_type": "execute_result"
    }
   ],
   "source": [
    "XGBClassifier()"
   ]
  },
  {
   "cell_type": "markdown",
   "id": "7429ca55",
   "metadata": {},
   "source": [
    "# CatBoost"
   ]
  },
  {
   "cell_type": "markdown",
   "id": "16de69fd",
   "metadata": {},
   "source": [
    "Запустим на том же наборе данных, чтоб посмотреть, как в базовом варианте работает catboost."
   ]
  },
  {
   "cell_type": "code",
   "execution_count": 19,
   "id": "963a286e",
   "metadata": {
    "ExecuteTime": {
     "end_time": "2022-02-08T20:36:53.167480Z",
     "start_time": "2022-02-08T20:36:53.137658Z"
    }
   },
   "outputs": [],
   "source": [
    "from catboost import CatBoostClassifier"
   ]
  },
  {
   "cell_type": "code",
   "execution_count": 20,
   "id": "cbd66dcd",
   "metadata": {
    "ExecuteTime": {
     "end_time": "2022-02-08T20:36:53.239317Z",
     "start_time": "2022-02-08T20:36:53.169476Z"
    }
   },
   "outputs": [
    {
     "name": "stdout",
     "output_type": "stream",
     "text": [
      "0:\tlearn: 0.4565511\ttotal: 49.9ms\tremaining: 49.9ms\n",
      "1:\tlearn: 0.2708126\ttotal: 50.5ms\tremaining: 0us\n",
      "              precision    recall  f1-score   support\n",
      "\n",
      "           0     1.0000    0.9091    0.9524        11\n",
      "           1     0.8000    0.9231    0.8571        13\n",
      "           2     0.9231    0.8571    0.8889        14\n",
      "\n",
      "    accuracy                         0.8947        38\n",
      "   macro avg     0.9077    0.8964    0.8995        38\n",
      "weighted avg     0.9032    0.8947    0.8964        38\n",
      "\n"
     ]
    }
   ],
   "source": [
    "cb = CatBoostClassifier(iterations=2,\n",
    "                          learning_rate=1,\n",
    "                          depth=2)\n",
    "cb.fit(X_train, y_train)\n",
    "\n",
    "get_report(cb, X_test, y_test)"
   ]
  },
  {
   "cell_type": "markdown",
   "id": "3c03374c",
   "metadata": {},
   "source": [
    "Загрузим титаник, чтоб поработать с более \"реальными\" данными и посмотреть на функционал catboost."
   ]
  },
  {
   "cell_type": "code",
   "execution_count": 21,
   "id": "6e4874bd",
   "metadata": {
    "ExecuteTime": {
     "end_time": "2022-02-08T20:36:53.611855Z",
     "start_time": "2022-02-08T20:36:53.241456Z"
    }
   },
   "outputs": [
    {
     "data": {
      "text/html": [
       "<div>\n",
       "<style scoped>\n",
       "    .dataframe tbody tr th:only-of-type {\n",
       "        vertical-align: middle;\n",
       "    }\n",
       "\n",
       "    .dataframe tbody tr th {\n",
       "        vertical-align: top;\n",
       "    }\n",
       "\n",
       "    .dataframe thead th {\n",
       "        text-align: right;\n",
       "    }\n",
       "</style>\n",
       "<table border=\"1\" class=\"dataframe\">\n",
       "  <thead>\n",
       "    <tr style=\"text-align: right;\">\n",
       "      <th></th>\n",
       "      <th>PassengerId</th>\n",
       "      <th>Survived</th>\n",
       "      <th>Pclass</th>\n",
       "      <th>Name</th>\n",
       "      <th>Sex</th>\n",
       "      <th>Age</th>\n",
       "      <th>SibSp</th>\n",
       "      <th>Parch</th>\n",
       "      <th>Ticket</th>\n",
       "      <th>Fare</th>\n",
       "      <th>Cabin</th>\n",
       "      <th>Embarked</th>\n",
       "    </tr>\n",
       "  </thead>\n",
       "  <tbody>\n",
       "    <tr>\n",
       "      <th>0</th>\n",
       "      <td>1</td>\n",
       "      <td>0</td>\n",
       "      <td>3</td>\n",
       "      <td>Braund, Mr. Owen Harris</td>\n",
       "      <td>male</td>\n",
       "      <td>22.0</td>\n",
       "      <td>1</td>\n",
       "      <td>0</td>\n",
       "      <td>A/5 21171</td>\n",
       "      <td>7.2500</td>\n",
       "      <td>NaN</td>\n",
       "      <td>S</td>\n",
       "    </tr>\n",
       "    <tr>\n",
       "      <th>1</th>\n",
       "      <td>2</td>\n",
       "      <td>1</td>\n",
       "      <td>1</td>\n",
       "      <td>Cumings, Mrs. John Bradley (Florence Briggs Th...</td>\n",
       "      <td>female</td>\n",
       "      <td>38.0</td>\n",
       "      <td>1</td>\n",
       "      <td>0</td>\n",
       "      <td>PC 17599</td>\n",
       "      <td>71.2833</td>\n",
       "      <td>C85</td>\n",
       "      <td>C</td>\n",
       "    </tr>\n",
       "    <tr>\n",
       "      <th>2</th>\n",
       "      <td>3</td>\n",
       "      <td>1</td>\n",
       "      <td>3</td>\n",
       "      <td>Heikkinen, Miss. Laina</td>\n",
       "      <td>female</td>\n",
       "      <td>26.0</td>\n",
       "      <td>0</td>\n",
       "      <td>0</td>\n",
       "      <td>STON/O2. 3101282</td>\n",
       "      <td>7.9250</td>\n",
       "      <td>NaN</td>\n",
       "      <td>S</td>\n",
       "    </tr>\n",
       "    <tr>\n",
       "      <th>3</th>\n",
       "      <td>4</td>\n",
       "      <td>1</td>\n",
       "      <td>1</td>\n",
       "      <td>Futrelle, Mrs. Jacques Heath (Lily May Peel)</td>\n",
       "      <td>female</td>\n",
       "      <td>35.0</td>\n",
       "      <td>1</td>\n",
       "      <td>0</td>\n",
       "      <td>113803</td>\n",
       "      <td>53.1000</td>\n",
       "      <td>C123</td>\n",
       "      <td>S</td>\n",
       "    </tr>\n",
       "    <tr>\n",
       "      <th>4</th>\n",
       "      <td>5</td>\n",
       "      <td>0</td>\n",
       "      <td>3</td>\n",
       "      <td>Allen, Mr. William Henry</td>\n",
       "      <td>male</td>\n",
       "      <td>35.0</td>\n",
       "      <td>0</td>\n",
       "      <td>0</td>\n",
       "      <td>373450</td>\n",
       "      <td>8.0500</td>\n",
       "      <td>NaN</td>\n",
       "      <td>S</td>\n",
       "    </tr>\n",
       "  </tbody>\n",
       "</table>\n",
       "</div>"
      ],
      "text/plain": [
       "   PassengerId  Survived  Pclass  \\\n",
       "0            1         0       3   \n",
       "1            2         1       1   \n",
       "2            3         1       3   \n",
       "3            4         1       1   \n",
       "4            5         0       3   \n",
       "\n",
       "                                                Name     Sex   Age  SibSp  \\\n",
       "0                            Braund, Mr. Owen Harris    male  22.0      1   \n",
       "1  Cumings, Mrs. John Bradley (Florence Briggs Th...  female  38.0      1   \n",
       "2                             Heikkinen, Miss. Laina  female  26.0      0   \n",
       "3       Futrelle, Mrs. Jacques Heath (Lily May Peel)  female  35.0      1   \n",
       "4                           Allen, Mr. William Henry    male  35.0      0   \n",
       "\n",
       "   Parch            Ticket     Fare Cabin Embarked  \n",
       "0      0         A/5 21171   7.2500   NaN        S  \n",
       "1      0          PC 17599  71.2833   C85        C  \n",
       "2      0  STON/O2. 3101282   7.9250   NaN        S  \n",
       "3      0            113803  53.1000  C123        S  \n",
       "4      0            373450   8.0500   NaN        S  "
      ]
     },
     "execution_count": 21,
     "metadata": {},
     "output_type": "execute_result"
    }
   ],
   "source": [
    "from catboost.datasets import titanic\n",
    "import numpy as np\n",
    "\n",
    "train_df, test_df = titanic()\n",
    "\n",
    "train_df.head()"
   ]
  },
  {
   "cell_type": "code",
   "execution_count": 22,
   "id": "abf69236",
   "metadata": {
    "ExecuteTime": {
     "end_time": "2022-02-08T20:36:53.623203Z",
     "start_time": "2022-02-08T20:36:53.619226Z"
    }
   },
   "outputs": [
    {
     "data": {
      "text/plain": [
       "(891, 12)"
      ]
     },
     "execution_count": 22,
     "metadata": {},
     "output_type": "execute_result"
    }
   ],
   "source": [
    "train_df.shape"
   ]
  },
  {
   "cell_type": "code",
   "execution_count": 23,
   "id": "3ef3cd82",
   "metadata": {
    "ExecuteTime": {
     "end_time": "2022-02-08T20:36:53.629745Z",
     "start_time": "2022-02-08T20:36:53.624582Z"
    }
   },
   "outputs": [
    {
     "data": {
      "text/plain": [
       "891"
      ]
     },
     "execution_count": 23,
     "metadata": {},
     "output_type": "execute_result"
    }
   ],
   "source": [
    "train_df.Name.nunique()"
   ]
  },
  {
   "cell_type": "markdown",
   "id": "e2e2d43d",
   "metadata": {},
   "source": [
    "## Подготовка признаков\n",
    "Проверим наличие отсутствующих переменных:"
   ]
  },
  {
   "cell_type": "code",
   "execution_count": 24,
   "id": "1ec42490",
   "metadata": {
    "ExecuteTime": {
     "end_time": "2022-02-08T20:36:53.638760Z",
     "start_time": "2022-02-08T20:36:53.631583Z"
    }
   },
   "outputs": [
    {
     "data": {
      "text/plain": [
       "Age         177\n",
       "Cabin       687\n",
       "Embarked      2\n",
       "dtype: int64"
      ]
     },
     "execution_count": 24,
     "metadata": {},
     "output_type": "execute_result"
    }
   ],
   "source": [
    "null_value_stats = train_df.isnull().sum(axis=0)\n",
    "null_value_stats[null_value_stats != 0]"
   ]
  },
  {
   "cell_type": "markdown",
   "id": "6d9596cf",
   "metadata": {},
   "source": [
    "Заполним отсутствующие значения в **`Age`**, **`Cabin`** и **`Embarked`** значением вне распределения данных, чтоб модель легко могла легко отличить эти значения от \"нормальных\":"
   ]
  },
  {
   "cell_type": "code",
   "execution_count": 25,
   "id": "1a5b1f35",
   "metadata": {
    "ExecuteTime": {
     "end_time": "2022-02-08T20:36:53.644941Z",
     "start_time": "2022-02-08T20:36:53.640673Z"
    }
   },
   "outputs": [],
   "source": [
    "train_df.fillna(-999, inplace=True)\n",
    "test_df.fillna(-999, inplace=True)"
   ]
  },
  {
   "cell_type": "code",
   "execution_count": 26,
   "id": "ffe2ca36",
   "metadata": {
    "ExecuteTime": {
     "end_time": "2022-02-08T20:36:53.661482Z",
     "start_time": "2022-02-08T20:36:53.646580Z"
    }
   },
   "outputs": [
    {
     "data": {
      "text/html": [
       "<div>\n",
       "<style scoped>\n",
       "    .dataframe tbody tr th:only-of-type {\n",
       "        vertical-align: middle;\n",
       "    }\n",
       "\n",
       "    .dataframe tbody tr th {\n",
       "        vertical-align: top;\n",
       "    }\n",
       "\n",
       "    .dataframe thead th {\n",
       "        text-align: right;\n",
       "    }\n",
       "</style>\n",
       "<table border=\"1\" class=\"dataframe\">\n",
       "  <thead>\n",
       "    <tr style=\"text-align: right;\">\n",
       "      <th></th>\n",
       "      <th>PassengerId</th>\n",
       "      <th>Survived</th>\n",
       "      <th>Pclass</th>\n",
       "      <th>Name</th>\n",
       "      <th>Sex</th>\n",
       "      <th>Age</th>\n",
       "      <th>SibSp</th>\n",
       "      <th>Parch</th>\n",
       "      <th>Ticket</th>\n",
       "      <th>Fare</th>\n",
       "      <th>Cabin</th>\n",
       "      <th>Embarked</th>\n",
       "    </tr>\n",
       "  </thead>\n",
       "  <tbody>\n",
       "    <tr>\n",
       "      <th>0</th>\n",
       "      <td>1</td>\n",
       "      <td>0</td>\n",
       "      <td>3</td>\n",
       "      <td>Braund, Mr. Owen Harris</td>\n",
       "      <td>male</td>\n",
       "      <td>22.0</td>\n",
       "      <td>1</td>\n",
       "      <td>0</td>\n",
       "      <td>A/5 21171</td>\n",
       "      <td>7.2500</td>\n",
       "      <td>-999</td>\n",
       "      <td>S</td>\n",
       "    </tr>\n",
       "    <tr>\n",
       "      <th>1</th>\n",
       "      <td>2</td>\n",
       "      <td>1</td>\n",
       "      <td>1</td>\n",
       "      <td>Cumings, Mrs. John Bradley (Florence Briggs Th...</td>\n",
       "      <td>female</td>\n",
       "      <td>38.0</td>\n",
       "      <td>1</td>\n",
       "      <td>0</td>\n",
       "      <td>PC 17599</td>\n",
       "      <td>71.2833</td>\n",
       "      <td>C85</td>\n",
       "      <td>C</td>\n",
       "    </tr>\n",
       "    <tr>\n",
       "      <th>2</th>\n",
       "      <td>3</td>\n",
       "      <td>1</td>\n",
       "      <td>3</td>\n",
       "      <td>Heikkinen, Miss. Laina</td>\n",
       "      <td>female</td>\n",
       "      <td>26.0</td>\n",
       "      <td>0</td>\n",
       "      <td>0</td>\n",
       "      <td>STON/O2. 3101282</td>\n",
       "      <td>7.9250</td>\n",
       "      <td>-999</td>\n",
       "      <td>S</td>\n",
       "    </tr>\n",
       "    <tr>\n",
       "      <th>3</th>\n",
       "      <td>4</td>\n",
       "      <td>1</td>\n",
       "      <td>1</td>\n",
       "      <td>Futrelle, Mrs. Jacques Heath (Lily May Peel)</td>\n",
       "      <td>female</td>\n",
       "      <td>35.0</td>\n",
       "      <td>1</td>\n",
       "      <td>0</td>\n",
       "      <td>113803</td>\n",
       "      <td>53.1000</td>\n",
       "      <td>C123</td>\n",
       "      <td>S</td>\n",
       "    </tr>\n",
       "    <tr>\n",
       "      <th>4</th>\n",
       "      <td>5</td>\n",
       "      <td>0</td>\n",
       "      <td>3</td>\n",
       "      <td>Allen, Mr. William Henry</td>\n",
       "      <td>male</td>\n",
       "      <td>35.0</td>\n",
       "      <td>0</td>\n",
       "      <td>0</td>\n",
       "      <td>373450</td>\n",
       "      <td>8.0500</td>\n",
       "      <td>-999</td>\n",
       "      <td>S</td>\n",
       "    </tr>\n",
       "  </tbody>\n",
       "</table>\n",
       "</div>"
      ],
      "text/plain": [
       "   PassengerId  Survived  Pclass  \\\n",
       "0            1         0       3   \n",
       "1            2         1       1   \n",
       "2            3         1       3   \n",
       "3            4         1       1   \n",
       "4            5         0       3   \n",
       "\n",
       "                                                Name     Sex   Age  SibSp  \\\n",
       "0                            Braund, Mr. Owen Harris    male  22.0      1   \n",
       "1  Cumings, Mrs. John Bradley (Florence Briggs Th...  female  38.0      1   \n",
       "2                             Heikkinen, Miss. Laina  female  26.0      0   \n",
       "3       Futrelle, Mrs. Jacques Heath (Lily May Peel)  female  35.0      1   \n",
       "4                           Allen, Mr. William Henry    male  35.0      0   \n",
       "\n",
       "   Parch            Ticket     Fare Cabin Embarked  \n",
       "0      0         A/5 21171   7.2500  -999        S  \n",
       "1      0          PC 17599  71.2833   C85        C  \n",
       "2      0  STON/O2. 3101282   7.9250  -999        S  \n",
       "3      0            113803  53.1000  C123        S  \n",
       "4      0            373450   8.0500  -999        S  "
      ]
     },
     "execution_count": 26,
     "metadata": {},
     "output_type": "execute_result"
    }
   ],
   "source": [
    "train_df.head()"
   ]
  },
  {
   "cell_type": "markdown",
   "id": "fea4eac1",
   "metadata": {},
   "source": [
    "Выделяем признаки и целевую переменную:"
   ]
  },
  {
   "cell_type": "code",
   "execution_count": 27,
   "id": "d5a4f697",
   "metadata": {
    "ExecuteTime": {
     "end_time": "2022-02-08T20:36:53.670306Z",
     "start_time": "2022-02-08T20:36:53.665193Z"
    }
   },
   "outputs": [],
   "source": [
    "X = train_df.drop('Survived', axis=1)\n",
    "y = train_df.Survived"
   ]
  },
  {
   "cell_type": "markdown",
   "id": "af984299",
   "metadata": {},
   "source": [
    "Наши признаки - разных типов (числовые, категориальные, строки, которые обычно должны обрабатываться определенным образом (например, кодированием с помощью представления bag of words)). Но в нашем случае мы могли бы рассматривать эти строчные признаки как категоричные - вся тяжелая работа выполняется внутри CatBoost!"
   ]
  },
  {
   "cell_type": "code",
   "execution_count": 28,
   "id": "43d3a308",
   "metadata": {
    "ExecuteTime": {
     "end_time": "2022-02-08T20:36:53.680521Z",
     "start_time": "2022-02-08T20:36:53.672947Z"
    }
   },
   "outputs": [
    {
     "name": "stdout",
     "output_type": "stream",
     "text": [
      "PassengerId      int64\n",
      "Pclass           int64\n",
      "Name            object\n",
      "Sex             object\n",
      "Age            float64\n",
      "SibSp            int64\n",
      "Parch            int64\n",
      "Ticket          object\n",
      "Fare           float64\n",
      "Cabin           object\n",
      "Embarked        object\n",
      "dtype: object\n"
     ]
    }
   ],
   "source": [
    "print(X.dtypes)\n",
    "\n",
    "categorical_features_indices = np.where(X.dtypes != np.float64)[0]"
   ]
  },
  {
   "cell_type": "code",
   "execution_count": 29,
   "id": "c8f8ed05",
   "metadata": {
    "ExecuteTime": {
     "end_time": "2022-02-08T20:36:53.687168Z",
     "start_time": "2022-02-08T20:36:53.682528Z"
    }
   },
   "outputs": [
    {
     "data": {
      "text/plain": [
       "(11,)"
      ]
     },
     "execution_count": 29,
     "metadata": {},
     "output_type": "execute_result"
    }
   ],
   "source": [
    "X.columns.shape"
   ]
  },
  {
   "cell_type": "code",
   "execution_count": 30,
   "id": "2c4acef4",
   "metadata": {
    "ExecuteTime": {
     "end_time": "2022-02-08T20:36:53.693368Z",
     "start_time": "2022-02-08T20:36:53.689087Z"
    }
   },
   "outputs": [
    {
     "data": {
      "text/plain": [
       "array([ 0,  1,  2,  3,  5,  6,  7,  9, 10])"
      ]
     },
     "execution_count": 30,
     "metadata": {},
     "output_type": "execute_result"
    }
   ],
   "source": [
    "categorical_features_indices"
   ]
  },
  {
   "cell_type": "markdown",
   "id": "52546fc3",
   "metadata": {},
   "source": [
    "Разделяем данные на трен. и тест."
   ]
  },
  {
   "cell_type": "code",
   "execution_count": 31,
   "id": "f0910146",
   "metadata": {
    "ExecuteTime": {
     "end_time": "2022-02-08T20:36:53.700425Z",
     "start_time": "2022-02-08T20:36:53.695206Z"
    }
   },
   "outputs": [],
   "source": [
    "from sklearn.model_selection import train_test_split\n",
    "\n",
    "X_train, X_validation, y_train, y_validation = train_test_split(X, y, train_size=0.75, random_state=RANDOM_STATE)\n",
    "\n",
    "X_test = test_df"
   ]
  },
  {
   "cell_type": "markdown",
   "id": "61a65e8c",
   "metadata": {},
   "source": [
    "## База catboost"
   ]
  },
  {
   "cell_type": "markdown",
   "id": "494a9d2d",
   "metadata": {},
   "source": [
    "Необходимые импорты."
   ]
  },
  {
   "cell_type": "code",
   "execution_count": 32,
   "id": "d7c6d1c4",
   "metadata": {
    "ExecuteTime": {
     "end_time": "2022-02-08T20:36:53.704793Z",
     "start_time": "2022-02-08T20:36:53.702244Z"
    }
   },
   "outputs": [],
   "source": [
    "from catboost import CatBoostClassifier, Pool, metrics, cv\n",
    "import catboost\n",
    "from sklearn.metrics import accuracy_score"
   ]
  },
  {
   "cell_type": "markdown",
   "id": "eb932a71",
   "metadata": {},
   "source": [
    "### Тренировка модели\n",
    "Создадим саму модель. Мы пойдем сюда с параметрами по умолчанию, поскольку они почти всегда обеспечивают действительно хорошую основу. Единственное, что мы хотели бы указать здесь, это параметр custom_loss, так как это даст нам возможность видеть, что происходит с точки зрения этой метрики качества модели - точности, а также иметь возможность отслеживать лог-потери, как это было бы быть более плавным на наборе данных такого размера."
   ]
  },
  {
   "cell_type": "code",
   "execution_count": 33,
   "id": "e6b85a57",
   "metadata": {
    "ExecuteTime": {
     "end_time": "2022-02-08T20:36:53.710626Z",
     "start_time": "2022-02-08T20:36:53.706952Z"
    }
   },
   "outputs": [],
   "source": [
    "model = CatBoostClassifier(\n",
    "    custom_loss=[catboost.metrics.Accuracy()],\n",
    "    random_seed=42,\n",
    "    logging_level='Silent'\n",
    ")"
   ]
  },
  {
   "cell_type": "code",
   "execution_count": 34,
   "id": "112c811a",
   "metadata": {
    "ExecuteTime": {
     "end_time": "2022-02-08T20:36:56.378820Z",
     "start_time": "2022-02-08T20:36:53.712567Z"
    }
   },
   "outputs": [
    {
     "data": {
      "application/vnd.jupyter.widget-view+json": {
       "model_id": "25b58f5ba7564109969cf2dc24fe6131",
       "version_major": 2,
       "version_minor": 0
      },
      "text/plain": [
       "MetricVisualizer(layout=Layout(align_self='stretch', height='500px'))"
      ]
     },
     "metadata": {},
     "output_type": "display_data"
    }
   ],
   "source": [
    "model.fit(\n",
    "    X_train, y_train,\n",
    "    cat_features=categorical_features_indices,\n",
    "    eval_set=(X_validation, y_validation),\n",
    "#     logging_level='Verbose',  # если раскомменируем, будет больше логов\n",
    "    plot=True\n",
    ");"
   ]
  },
  {
   "cell_type": "markdown",
   "id": "6e39f6aa",
   "metadata": {},
   "source": [
    "Логи по факту не нужны (есть график), но график не сохраняется, лучше его ещё отдельно заплотить матплотлибом. График катбуста выделяет также лучшую итерацию с точки зрения целевой метрики на валидационном наборе данных.  \n",
    "На графике можем переключаться между метриками. Видим, что лучшая точность - на 150 итерации 0.829.\n",
    "\n",
    "Для логов можно поставить `verbose=200`, тогда будет принтиться только каждая 200ая итерация."
   ]
  },
  {
   "cell_type": "markdown",
   "id": "bcd7ac18",
   "metadata": {},
   "source": [
    "Посмотрим, что внутри модели."
   ]
  },
  {
   "cell_type": "code",
   "execution_count": 35,
   "id": "8d92a519",
   "metadata": {
    "ExecuteTime": {
     "end_time": "2022-02-08T20:36:56.383608Z",
     "start_time": "2022-02-08T20:36:56.380103Z"
    }
   },
   "outputs": [
    {
     "data": {
      "text/plain": [
       "{'_init_params': {'random_seed': 42,\n",
       "  'logging_level': 'Silent',\n",
       "  'custom_loss': ['Accuracy']},\n",
       " '_object': <_catboost._CatBoost at 0x1801f07c0>,\n",
       " '_is_fitted_': True,\n",
       " '_random_seed': 42,\n",
       " '_learning_rate': 0.028682999312877655,\n",
       " '_tree_count': 344,\n",
       " '_n_features_in': 11,\n",
       " '_prediction_values_change': [0.0,\n",
       "  17.05148508476817,\n",
       "  0.0,\n",
       "  26.414280626854776,\n",
       "  10.048601966528931,\n",
       "  7.7453349687619255,\n",
       "  10.353779233548105,\n",
       "  5.765308612507676,\n",
       "  5.797149420756516,\n",
       "  7.919648988938338,\n",
       "  8.904411097335606]}"
      ]
     },
     "execution_count": 35,
     "metadata": {},
     "output_type": "execute_result"
    }
   ],
   "source": [
    "vars(model)"
   ]
  },
  {
   "cell_type": "code",
   "execution_count": 36,
   "id": "f391e6e7",
   "metadata": {
    "ExecuteTime": {
     "end_time": "2022-02-08T20:36:56.389047Z",
     "start_time": "2022-02-08T20:36:56.384673Z"
    }
   },
   "outputs": [
    {
     "data": {
      "text/plain": [
       "dict_keys(['Accuracy', 'Logloss'])"
      ]
     },
     "execution_count": 36,
     "metadata": {},
     "output_type": "execute_result"
    }
   ],
   "source": [
    "model.get_evals_result()['learn'].keys()"
   ]
  },
  {
   "cell_type": "code",
   "execution_count": 37,
   "id": "0da8e53e",
   "metadata": {
    "ExecuteTime": {
     "end_time": "2022-02-08T20:36:56.585028Z",
     "start_time": "2022-02-08T20:36:56.390256Z"
    }
   },
   "outputs": [
    {
     "data": {
      "image/png": "[encoded data removed]",
      "text/plain": [
       "<Figure size 432x288 with 1 Axes>"
      ]
     },
     "metadata": {
      "needs_background": "light"
     },
     "output_type": "display_data"
    }
   ],
   "source": [
    "plt.plot(model.get_evals_result()['learn']['Accuracy'], label='train loss')\n",
    "plt.plot(model.get_evals_result()['validation']['Accuracy'], label='val loss')\n",
    "plt.legend()\n",
    "plt.show()"
   ]
  },
  {
   "cell_type": "markdown",
   "id": "aab1f7ed",
   "metadata": {},
   "source": [
    "### Кросс-валидация"
   ]
  },
  {
   "cell_type": "code",
   "execution_count": 38,
   "id": "4e5da5a4",
   "metadata": {
    "ExecuteTime": {
     "end_time": "2022-02-08T20:36:56.589518Z",
     "start_time": "2022-02-08T20:36:56.586887Z"
    }
   },
   "outputs": [],
   "source": [
    "cv_params = model.get_params()"
   ]
  },
  {
   "cell_type": "code",
   "execution_count": 39,
   "id": "0983f9c8",
   "metadata": {
    "ExecuteTime": {
     "end_time": "2022-02-08T20:36:56.595756Z",
     "start_time": "2022-02-08T20:36:56.591605Z"
    }
   },
   "outputs": [
    {
     "data": {
      "text/plain": [
       "{'random_seed': 42, 'logging_level': 'Silent', 'custom_loss': ['Accuracy']}"
      ]
     },
     "execution_count": 39,
     "metadata": {},
     "output_type": "execute_result"
    }
   ],
   "source": [
    "cv_params"
   ]
  },
  {
   "cell_type": "code",
   "execution_count": 40,
   "id": "49e34a67",
   "metadata": {
    "ExecuteTime": {
     "end_time": "2022-02-08T20:36:56.600365Z",
     "start_time": "2022-02-08T20:36:56.597427Z"
    }
   },
   "outputs": [],
   "source": [
    "cv_params.update({\n",
    "    'loss_function': metrics.Logloss()\n",
    "})"
   ]
  },
  {
   "cell_type": "code",
   "execution_count": 41,
   "id": "f08bb27e",
   "metadata": {
    "ExecuteTime": {
     "end_time": "2022-02-08T20:37:05.903646Z",
     "start_time": "2022-02-08T20:36:56.602499Z"
    }
   },
   "outputs": [
    {
     "data": {
      "application/vnd.jupyter.widget-view+json": {
       "model_id": "67a3b97d75f8440eb9fa8775d826f854",
       "version_major": 2,
       "version_minor": 0
      },
      "text/plain": [
       "MetricVisualizer(layout=Layout(align_self='stretch', height='500px'))"
      ]
     },
     "metadata": {},
     "output_type": "display_data"
    }
   ],
   "source": [
    "cv_data = cv(\n",
    "    Pool(X, y, cat_features=categorical_features_indices),\n",
    "    cv_params,\n",
    "    plot=True\n",
    ")"
   ]
  },
  {
   "cell_type": "markdown",
   "id": "8241b5df",
   "metadata": {},
   "source": [
    "Теперь у нас есть значения наших функций потерь на каждом шаге бустинга, усредненные по 3ём фолдам, что должно дать нам более точную оценку производительности нашей модели:"
   ]
  },
  {
   "cell_type": "code",
   "execution_count": 42,
   "id": "8433277b",
   "metadata": {
    "ExecuteTime": {
     "end_time": "2022-02-08T20:37:05.908361Z",
     "start_time": "2022-02-08T20:37:05.904982Z"
    }
   },
   "outputs": [
    {
     "name": "stdout",
     "output_type": "stream",
     "text": [
      "Best validation accuracy score: 0.83±0.02 on step 355\n"
     ]
    }
   ],
   "source": [
    "print('Best validation accuracy score: {:.2f}±{:.2f} on step {}'.format(\n",
    "    np.max(cv_data['test-Accuracy-mean']),\n",
    "    cv_data['test-Accuracy-std'][np.argmax(cv_data['test-Accuracy-mean'])],\n",
    "    np.argmax(cv_data['test-Accuracy-mean'])\n",
    "))"
   ]
  },
  {
   "cell_type": "code",
   "execution_count": 43,
   "id": "709cfec9",
   "metadata": {
    "ExecuteTime": {
     "end_time": "2022-02-08T20:37:05.912331Z",
     "start_time": "2022-02-08T20:37:05.909963Z"
    }
   },
   "outputs": [
    {
     "name": "stdout",
     "output_type": "stream",
     "text": [
      "Precise validation accuracy score: 0.8294051627384961\n"
     ]
    }
   ],
   "source": [
    "print('Precise validation accuracy score: {}'.format(np.max(cv_data['test-Accuracy-mean'])))"
   ]
  },
  {
   "cell_type": "code",
   "execution_count": 44,
   "id": "247cfddc",
   "metadata": {
    "ExecuteTime": {
     "end_time": "2022-02-08T20:37:05.915141Z",
     "start_time": "2022-02-08T20:37:05.913369Z"
    }
   },
   "outputs": [],
   "source": [
    "# vars(cv_data)"
   ]
  },
  {
   "cell_type": "markdown",
   "id": "98edc04a",
   "metadata": {},
   "source": [
    "### Применение модели\n"
   ]
  },
  {
   "cell_type": "code",
   "execution_count": 45,
   "id": "7cb0dcfb",
   "metadata": {
    "ExecuteTime": {
     "end_time": "2022-02-08T20:37:05.924686Z",
     "start_time": "2022-02-08T20:37:05.916271Z"
    }
   },
   "outputs": [
    {
     "name": "stdout",
     "output_type": "stream",
     "text": [
      "[0 0 0 0 1 0 1 0 1 0]\n",
      "[[0.85473931 0.14526069]\n",
      " [0.76313031 0.23686969]\n",
      " [0.88972889 0.11027111]\n",
      " [0.87876173 0.12123827]\n",
      " [0.3611047  0.6388953 ]\n",
      " [0.90513381 0.09486619]\n",
      " [0.33434185 0.66565815]\n",
      " [0.78468564 0.21531436]\n",
      " [0.39429048 0.60570952]\n",
      " [0.94047549 0.05952451]]\n"
     ]
    }
   ],
   "source": [
    "predictions = model.predict(X_test)\n",
    "predictions_probs = model.predict_proba(X_test)\n",
    "print(predictions[:10])\n",
    "print(predictions_probs[:10])"
   ]
  },
  {
   "cell_type": "markdown",
   "id": "db0dd720",
   "metadata": {},
   "source": [
    "##  Фишки CatBoost и некоторые из параметров модели"
   ]
  },
  {
   "cell_type": "markdown",
   "id": "11731aae",
   "metadata": {},
   "source": [
    "Определим некоторые параметры и создадим `Pool` для удобства. Он хранит всю информацию о наборе данных (функции, метки, индексы категориальных функций, веса и многое другое)."
   ]
  },
  {
   "cell_type": "code",
   "execution_count": 46,
   "id": "21738808",
   "metadata": {
    "ExecuteTime": {
     "end_time": "2022-02-08T20:37:05.931496Z",
     "start_time": "2022-02-08T20:37:05.926000Z"
    }
   },
   "outputs": [],
   "source": [
    "params = {\n",
    "    'iterations': 500,\n",
    "    'learning_rate': 0.1,\n",
    "    'eval_metric': metrics.Accuracy(),\n",
    "    'random_seed': 42,\n",
    "    'logging_level': 'Silent',\n",
    "    'use_best_model': False\n",
    "}\n",
    "train_pool = Pool(X_train, y_train, cat_features=categorical_features_indices)\n",
    "validate_pool = Pool(X_validation, y_validation, cat_features=categorical_features_indices)"
   ]
  },
  {
   "cell_type": "markdown",
   "id": "3d62b43a",
   "metadata": {},
   "source": [
    "### Best model\n",
    "Если у вас есть валидационный набор данных, всегда лучше использовать параметр use_best_model во время обучения. По умолчанию этот параметр включен. Если он включен, результирующий ансамбль деревьев сжимается до наилучшей итерации в конце."
   ]
  },
  {
   "cell_type": "code",
   "execution_count": 47,
   "id": "420ec466",
   "metadata": {
    "ExecuteTime": {
     "end_time": "2022-02-08T20:37:08.553014Z",
     "start_time": "2022-02-08T20:37:05.933276Z"
    }
   },
   "outputs": [
    {
     "name": "stdout",
     "output_type": "stream",
     "text": [
      "Simple model validation accuracy: 0.7982\n",
      "\n",
      "Best model validation accuracy: 0.8251\n"
     ]
    }
   ],
   "source": [
    "model = CatBoostClassifier(**params)\n",
    "model.fit(train_pool, eval_set=validate_pool)\n",
    "\n",
    "best_model_params = params.copy()\n",
    "best_model_params.update({\n",
    "    'use_best_model': True\n",
    "})\n",
    "best_model = CatBoostClassifier(**best_model_params)\n",
    "best_model.fit(train_pool, eval_set=validate_pool);\n",
    "\n",
    "print('Simple model validation accuracy: {:.4}'.format(\n",
    "    accuracy_score(y_validation, model.predict(X_validation))\n",
    "))\n",
    "print('')\n",
    "\n",
    "print('Best model validation accuracy: {:.4}'.format(\n",
    "    accuracy_score(y_validation, best_model.predict(X_validation))\n",
    "))"
   ]
  },
  {
   "cell_type": "markdown",
   "id": "3d1a2286",
   "metadata": {},
   "source": [
    "### Early Stopping\n",
    "Если у вас есть валидационный набор данных, для упрощения и ускорения обучения рекомендуется использовать раннюю остановку. Эта функция похожа на предыдущую, но только помимо улучшения качества она еще экономит время."
   ]
  },
  {
   "cell_type": "code",
   "execution_count": 48,
   "id": "4d687858",
   "metadata": {
    "ExecuteTime": {
     "end_time": "2022-02-08T20:37:08.560122Z",
     "start_time": "2022-02-08T20:37:08.554711Z"
    }
   },
   "outputs": [
    {
     "data": {
      "text/plain": [
       "{'iterations': 500,\n",
       " 'learning_rate': 0.1,\n",
       " 'eval_metric': Accuracy(type='Classic' [mandatory=False], use_weights=True [mandatory=False]),\n",
       " 'random_seed': 42,\n",
       " 'logging_level': 'Silent',\n",
       " 'use_best_model': False}"
      ]
     },
     "execution_count": 48,
     "metadata": {},
     "output_type": "execute_result"
    }
   ],
   "source": [
    "params"
   ]
  },
  {
   "cell_type": "code",
   "execution_count": 49,
   "id": "a49f6be3",
   "metadata": {
    "ExecuteTime": {
     "end_time": "2022-02-08T20:37:09.908337Z",
     "start_time": "2022-02-08T20:37:08.562896Z"
    }
   },
   "outputs": [
    {
     "name": "stdout",
     "output_type": "stream",
     "text": [
      "CPU times: user 8.92 s, sys: 467 ms, total: 9.38 s\n",
      "Wall time: 1.34 s\n"
     ]
    },
    {
     "data": {
      "text/plain": [
       "<catboost.core.CatBoostClassifier at 0x17e017670>"
      ]
     },
     "execution_count": 49,
     "metadata": {},
     "output_type": "execute_result"
    }
   ],
   "source": [
    "%%time\n",
    "model = CatBoostClassifier(**params)\n",
    "model.fit(train_pool, eval_set=validate_pool)"
   ]
  },
  {
   "cell_type": "markdown",
   "id": "ce300d11",
   "metadata": {
    "ExecuteTime": {
     "end_time": "2021-11-05T15:43:42.309831Z",
     "start_time": "2021-11-05T15:43:42.305048Z"
    }
   },
   "source": [
    "od_type = overfitting detector"
   ]
  },
  {
   "cell_type": "code",
   "execution_count": 50,
   "id": "1746f8eb",
   "metadata": {
    "ExecuteTime": {
     "end_time": "2022-02-08T20:37:10.145175Z",
     "start_time": "2022-02-08T20:37:09.910364Z"
    }
   },
   "outputs": [
    {
     "name": "stdout",
     "output_type": "stream",
     "text": [
      "CPU times: user 1.45 s, sys: 120 ms, total: 1.57 s\n",
      "Wall time: 231 ms\n"
     ]
    },
    {
     "data": {
      "text/plain": [
       "<catboost.core.CatBoostClassifier at 0x17e093790>"
      ]
     },
     "execution_count": 50,
     "metadata": {},
     "output_type": "execute_result"
    }
   ],
   "source": [
    "%%time\n",
    "earlystop_params = params.copy()\n",
    "earlystop_params.update({\n",
    "    'od_type': 'Iter',\n",
    "    'od_wait': 40\n",
    "})\n",
    "earlystop_model = CatBoostClassifier(**earlystop_params)\n",
    "earlystop_model.fit(train_pool, eval_set=validate_pool);"
   ]
  },
  {
   "cell_type": "code",
   "execution_count": 51,
   "id": "f3b0d8fe",
   "metadata": {
    "ExecuteTime": {
     "end_time": "2022-02-08T20:37:10.158177Z",
     "start_time": "2022-02-08T20:37:10.147131Z"
    }
   },
   "outputs": [
    {
     "name": "stdout",
     "output_type": "stream",
     "text": [
      "Simple model tree count: 500\n",
      "Simple model validation accuracy: 0.7982\n",
      "\n",
      "Early-stopped model tree count: 82\n",
      "Early-stopped model validation accuracy: 0.8072\n"
     ]
    }
   ],
   "source": [
    "print('Simple model tree count: {}'.format(model.tree_count_))\n",
    "print('Simple model validation accuracy: {:.4}'.format(\n",
    "    accuracy_score(y_validation, model.predict(X_validation))\n",
    "))\n",
    "print('')\n",
    "\n",
    "print('Early-stopped model tree count: {}'.format(earlystop_model.tree_count_))\n",
    "print('Early-stopped model validation accuracy: {:.4}'.format(\n",
    "    accuracy_score(y_validation, earlystop_model.predict(X_validation))\n",
    "))"
   ]
  },
  {
   "cell_type": "markdown",
   "id": "5d53d148",
   "metadata": {},
   "source": [
    "Получили лучше точность за меньшее время."
   ]
  },
  {
   "cell_type": "markdown",
   "id": "ce2e850a",
   "metadata": {},
   "source": [
    "### Использование бейзлайна\n",
    "Можно использовать результаты предварительной тренировки (базовой) для тренировки."
   ]
  },
  {
   "cell_type": "code",
   "execution_count": 52,
   "id": "1713d804",
   "metadata": {
    "ExecuteTime": {
     "end_time": "2022-02-08T20:37:10.219511Z",
     "start_time": "2022-02-08T20:37:10.159749Z"
    }
   },
   "outputs": [],
   "source": [
    "current_params = params.copy()\n",
    "current_params.update({\n",
    "    'iterations': 10\n",
    "})\n",
    "model = CatBoostClassifier(**current_params).fit(X_train, y_train, categorical_features_indices)\n",
    "# Получаем бейзлайн (только с prediction_type='RawFormulaVal')\n",
    "baseline = model.predict(X_train, prediction_type='RawFormulaVal')\n",
    "# Тренируем новую модель\n",
    "model.fit(X_train, y_train, categorical_features_indices, baseline=baseline);"
   ]
  },
  {
   "cell_type": "markdown",
   "id": "1d93eb59",
   "metadata": {
    "ExecuteTime": {
     "end_time": "2021-11-05T15:51:43.234764Z",
     "start_time": "2021-11-05T15:51:43.223825Z"
    }
   },
   "source": [
    "RawFormulaVal от функции прогнозирования catboost с типом `RawFormulaVal` - это логарифмические шансы (https://en.wikipedia.org/wiki/Logit).  \n",
    "Если мы применим функцию `exp(score) / (1+exp (score))`, мы получим вероятности, как если бы мы использовали формулу прогнозирования с типом `Probabilities`."
   ]
  },
  {
   "cell_type": "code",
   "execution_count": 53,
   "id": "d9f1f9fd",
   "metadata": {
    "ExecuteTime": {
     "end_time": "2022-02-08T20:37:10.229956Z",
     "start_time": "2022-02-08T20:37:10.221746Z"
    }
   },
   "outputs": [
    {
     "data": {
      "text/plain": [
       "array([-0.06263344, -0.52597119,  0.47447896, -0.52597119, -0.07454153,\n",
       "        0.41694323,  0.07052511, -0.45238619,  0.46479974, -0.47320064])"
      ]
     },
     "execution_count": 53,
     "metadata": {},
     "output_type": "execute_result"
    }
   ],
   "source": [
    "model.predict(X_train, prediction_type='RawFormulaVal')[:10]"
   ]
  },
  {
   "cell_type": "markdown",
   "id": "dc4fb552",
   "metadata": {},
   "source": [
    "### Поддержка Snapshot\n",
    "Catboost поддерживает снапшоты. Вы можете использовать их для сохранения промежуточных результатов, восстановления тренировки после перерыва или для начала тренировки с предыдущими результатами."
   ]
  },
  {
   "cell_type": "code",
   "execution_count": 61,
   "id": "49686c09",
   "metadata": {
    "ExecuteTime": {
     "end_time": "2022-02-08T20:41:15.293119Z",
     "start_time": "2022-02-08T20:41:15.280215Z"
    }
   },
   "outputs": [
    {
     "name": "stdout",
     "output_type": "stream",
     "text": [
      "\n",
      "bestTest = 0.8116591928\n",
      "bestIteration = 4\n",
      "\n"
     ]
    }
   ],
   "source": [
    "params_with_snapshot = params.copy()\n",
    "params_with_snapshot.update({\n",
    "    'iterations': 5,\n",
    "    'learning_rate': 0.5,\n",
    "    'logging_level': 'Verbose'\n",
    "})\n",
    "model = CatBoostClassifier(**params_with_snapshot).fit(train_pool, eval_set=validate_pool, save_snapshot=True)"
   ]
  },
  {
   "cell_type": "code",
   "execution_count": 60,
   "id": "f100b779",
   "metadata": {
    "ExecuteTime": {
     "end_time": "2022-02-08T20:41:09.500704Z",
     "start_time": "2022-02-08T20:41:09.474201Z"
    }
   },
   "outputs": [
    {
     "name": "stdout",
     "output_type": "stream",
     "text": [
      "0:\tlearn: 0.8053892\ttest: 0.7937220\tbest: 0.7937220 (0)\ttotal: 1.25ms\tremaining: 11.2ms\n",
      "1:\tlearn: 0.8038922\ttest: 0.7982063\tbest: 0.7982063 (1)\ttotal: 3.09ms\tremaining: 12.4ms\n",
      "2:\tlearn: 0.8023952\ttest: 0.8026906\tbest: 0.8026906 (2)\ttotal: 3.96ms\tremaining: 9.25ms\n",
      "3:\tlearn: 0.8038922\ttest: 0.8026906\tbest: 0.8026906 (2)\ttotal: 4.86ms\tremaining: 7.29ms\n",
      "4:\tlearn: 0.8083832\ttest: 0.8116592\tbest: 0.8116592 (4)\ttotal: 6.18ms\tremaining: 6.18ms\n",
      "5:\tlearn: 0.8158683\ttest: 0.8026906\tbest: 0.8116592 (4)\ttotal: 7.64ms\tremaining: 5.09ms\n",
      "6:\tlearn: 0.8113772\ttest: 0.8116592\tbest: 0.8116592 (4)\ttotal: 8.64ms\tremaining: 3.7ms\n",
      "7:\tlearn: 0.8158683\ttest: 0.8026906\tbest: 0.8116592 (4)\ttotal: 9.9ms\tremaining: 2.47ms\n",
      "8:\tlearn: 0.8173653\ttest: 0.7982063\tbest: 0.8116592 (4)\ttotal: 10.7ms\tremaining: 1.19ms\n",
      "9:\tlearn: 0.8158683\ttest: 0.8071749\tbest: 0.8116592 (4)\ttotal: 11.9ms\tremaining: 0us\n",
      "\n",
      "bestTest = 0.8116591928\n",
      "bestIteration = 4\n",
      "\n"
     ]
    },
    {
     "name": "stderr",
     "output_type": "stream",
     "text": [
      "Custom logger is already specified. Specify more than one logger at same time is not thread safe."
     ]
    }
   ],
   "source": [
    "params_with_snapshot.update({\n",
    "    'iterations': 10,\n",
    "    'learning_rate': 0.1,\n",
    "})\n",
    "model = CatBoostClassifier(**params_with_snapshot).fit(train_pool, eval_set=validate_pool, save_snapshot=True)"
   ]
  },
  {
   "cell_type": "markdown",
   "id": "80559145",
   "metadata": {
    "ExecuteTime": {
     "end_time": "2021-11-05T15:56:10.500537Z",
     "start_time": "2021-11-05T15:56:10.495904Z"
    }
   },
   "source": [
    "Можем также использовать `snapshot_file` для указания файла для сохранения снапшота, `snapshot_interval` - интервал в секундах между сохранениями снапшотов."
   ]
  },
  {
   "cell_type": "markdown",
   "id": "5ae96fb7",
   "metadata": {},
   "source": [
    "### Пользовательская функция потерь (Objective Function)\n",
    "Создадим свою logloss функцию."
   ]
  },
  {
   "cell_type": "code",
   "execution_count": 62,
   "id": "fdfd4526",
   "metadata": {
    "ExecuteTime": {
     "end_time": "2022-02-08T20:41:33.701213Z",
     "start_time": "2022-02-08T20:41:33.695583Z"
    }
   },
   "outputs": [],
   "source": [
    "class LoglossObjective(object):\n",
    "    def calc_ders_range(self, approxes, targets, weights):\n",
    "        # approxes, targets, weights are indexed containers of floats\n",
    "        # (containers which have only __len__ and __getitem__ defined).\n",
    "        # weights parameter can be None.\n",
    "        #\n",
    "        # To understand what these parameters mean, assume that there is\n",
    "        # a subset of your dataset that is currently being processed.\n",
    "        # approxes contains current predictions for this subset,\n",
    "        # targets contains target values you provided with the dataset.\n",
    "        #\n",
    "        # This function should return a list of pairs (der1, der2), where\n",
    "        # der1 is the first derivative of the loss function with respect\n",
    "        # to the predicted value, and der2 is the second derivative.\n",
    "        #\n",
    "        # In our case, logloss is defined by the following formula:\n",
    "        # target * log(sigmoid(approx)) + (1 - target) * (1 - sigmoid(approx))\n",
    "        # where sigmoid(x) = 1 / (1 + e^(-x)).\n",
    "        \n",
    "        assert len(approxes) == len(targets)\n",
    "        if weights is not None:\n",
    "            assert len(weights) == len(approxes)\n",
    "        \n",
    "        result = []\n",
    "        for index in range(len(targets)):\n",
    "            e = np.exp(approxes[index])\n",
    "            p = e / (1 + e)\n",
    "            der1 = (1 - p) if targets[index] > 0.0 else -p\n",
    "            der2 = -p * (1 - p)\n",
    "\n",
    "            if weights is not None:\n",
    "                der1 *= weights[index]\n",
    "                der2 *= weights[index]\n",
    "\n",
    "            result.append((der1, der2))\n",
    "        return result"
   ]
  },
  {
   "cell_type": "code",
   "execution_count": 63,
   "id": "f09e1a1c",
   "metadata": {
    "ExecuteTime": {
     "end_time": "2022-02-08T20:41:35.059212Z",
     "start_time": "2022-02-08T20:41:34.892615Z"
    }
   },
   "outputs": [
    {
     "name": "stdout",
     "output_type": "stream",
     "text": [
      "0:\tlearn: 0.6827074\ttotal: 17.1ms\tremaining: 154ms\n",
      "1:\tlearn: 0.6723302\ttotal: 34.1ms\tremaining: 136ms\n",
      "2:\tlearn: 0.6619449\ttotal: 51.2ms\tremaining: 119ms\n",
      "3:\tlearn: 0.6521466\ttotal: 67.2ms\tremaining: 101ms\n",
      "4:\tlearn: 0.6435227\ttotal: 83.4ms\tremaining: 83.4ms\n",
      "5:\tlearn: 0.6353848\ttotal: 99.5ms\tremaining: 66.3ms\n",
      "6:\tlearn: 0.6277210\ttotal: 115ms\tremaining: 49.1ms\n",
      "7:\tlearn: 0.6210282\ttotal: 128ms\tremaining: 32ms\n",
      "8:\tlearn: 0.6141958\ttotal: 141ms\tremaining: 15.6ms\n",
      "9:\tlearn: 0.6073236\ttotal: 153ms\tremaining: 0us\n"
     ]
    },
    {
     "name": "stderr",
     "output_type": "stream",
     "text": [
      "/Users/hanna.pylieva/opt/anaconda3/envs/py39/lib/python3.9/site-packages/catboost/core.py:1953: UserWarning: Failed to import numba for optimizing custom metrics and objectives\n",
      "  _check_train_params(params)\n"
     ]
    }
   ],
   "source": [
    "model = CatBoostClassifier(\n",
    "    iterations=10,\n",
    "    random_seed=42, \n",
    "    loss_function=LoglossObjective(), \n",
    "    eval_metric=metrics.Logloss()\n",
    ")\n",
    "model.fit(train_pool)\n",
    "\n",
    "preds_raw = model.predict(X_test)"
   ]
  },
  {
   "cell_type": "markdown",
   "id": "e693248b",
   "metadata": {},
   "source": [
    "### Пользовательская метрика для оценки качества модели\n",
    "Создадим logloss метрику."
   ]
  },
  {
   "cell_type": "code",
   "execution_count": 64,
   "id": "060ec579",
   "metadata": {
    "ExecuteTime": {
     "end_time": "2022-02-08T20:41:35.974167Z",
     "start_time": "2022-02-08T20:41:35.968656Z"
    }
   },
   "outputs": [],
   "source": [
    "class LoglossMetric(object):\n",
    "    def get_final_error(self, error, weight):\n",
    "        return error / (weight + 1e-38)\n",
    "\n",
    "    def is_max_optimal(self):\n",
    "        return False\n",
    "\n",
    "    def evaluate(self, approxes, target, weight):\n",
    "        # approxes is a list of indexed containers\n",
    "        # (containers with only __len__ and __getitem__ defined),\n",
    "        # one container per approx dimension.\n",
    "        # Each container contains floats.\n",
    "        # weight is a one dimensional indexed container.\n",
    "        # target is float.\n",
    "        \n",
    "        # weight parameter can be None.\n",
    "        # Returns pair (error, weights sum)\n",
    "        \n",
    "        assert len(approxes) == 1\n",
    "        assert len(target) == len(approxes[0])\n",
    "\n",
    "        approx = approxes[0]\n",
    "\n",
    "        error_sum = 0.0\n",
    "        weight_sum = 0.0\n",
    "\n",
    "        for i in range(len(approx)):\n",
    "            w = 1.0 if weight is None else weight[i]\n",
    "            weight_sum += w\n",
    "            error_sum += -w * (target[i] * approx[i] - np.log(1 + np.exp(approx[i])))\n",
    "\n",
    "        return error_sum, weight_sum"
   ]
  },
  {
   "cell_type": "code",
   "execution_count": 65,
   "id": "cd8c79d9",
   "metadata": {
    "ExecuteTime": {
     "end_time": "2022-02-08T20:41:36.202665Z",
     "start_time": "2022-02-08T20:41:36.131139Z"
    }
   },
   "outputs": [
    {
     "name": "stdout",
     "output_type": "stream",
     "text": [
      "Learning rate set to 0.5\n",
      "0:\tlearn: 0.5521578\ttotal: 5.82ms\tremaining: 52.4ms\n",
      "1:\tlearn: 0.4885686\ttotal: 11.5ms\tremaining: 46.1ms\n",
      "2:\tlearn: 0.4607664\ttotal: 17.3ms\tremaining: 40.3ms\n",
      "3:\tlearn: 0.4418819\ttotal: 22.9ms\tremaining: 34.3ms\n",
      "4:\tlearn: 0.4278162\ttotal: 28.5ms\tremaining: 28.5ms\n",
      "5:\tlearn: 0.4151036\ttotal: 34.1ms\tremaining: 22.8ms\n",
      "6:\tlearn: 0.4099336\ttotal: 40.1ms\tremaining: 17.2ms\n",
      "7:\tlearn: 0.4095363\ttotal: 45.6ms\tremaining: 11.4ms\n",
      "8:\tlearn: 0.4032867\ttotal: 51.3ms\tremaining: 5.7ms\n",
      "9:\tlearn: 0.3929586\ttotal: 56.7ms\tremaining: 0us\n"
     ]
    }
   ],
   "source": [
    "model = CatBoostClassifier(\n",
    "    iterations=10,\n",
    "    random_seed=42, \n",
    "    loss_function=metrics.Logloss(),\n",
    "    eval_metric=LoglossMetric()\n",
    ")\n",
    "model.fit(train_pool)\n",
    "preds_raw = model.predict(X_test)"
   ]
  },
  {
   "cell_type": "markdown",
   "id": "064eb70d",
   "metadata": {},
   "source": [
    "### Staged Predict\n",
    "Модель CatBoost имеет метод `staged_predict`. Это позволяет итеративно получать прогнозы для заданного диапазона деревьев."
   ]
  },
  {
   "cell_type": "code",
   "execution_count": 66,
   "id": "fee5bab0",
   "metadata": {
    "ExecuteTime": {
     "end_time": "2022-02-08T20:41:37.183900Z",
     "start_time": "2022-02-08T20:41:37.158956Z"
    }
   },
   "outputs": [
    {
     "name": "stdout",
     "output_type": "stream",
     "text": [
      "First class probabilities using the first 3 trees: [0.53597869 0.41039128 0.42057479 0.64281031 0.46576685]\n",
      "First class probabilities using the first 5 trees: [0.63722688 0.42492029 0.46209302 0.70926021 0.44280772]\n",
      "First class probabilities using the first 7 trees: [0.66964764 0.42409144 0.46124982 0.76101033 0.47205986]\n"
     ]
    }
   ],
   "source": [
    "model = CatBoostClassifier(iterations=10, random_seed=42, logging_level='Silent').fit(train_pool)\n",
    "ntree_start, ntree_end, eval_period = 3, 9, 2\n",
    "predictions_iterator = model.staged_predict(validate_pool, 'Probability', ntree_start, ntree_end, eval_period)\n",
    "for preds, tree_count in zip(predictions_iterator, range(ntree_start, ntree_end, eval_period)):\n",
    "    print('First class probabilities using the first {} trees: {}'.format(tree_count, preds[:5, 1]))"
   ]
  },
  {
   "cell_type": "markdown",
   "id": "f9d7db19",
   "metadata": {},
   "source": [
    "### Feature Importances"
   ]
  },
  {
   "cell_type": "code",
   "execution_count": 67,
   "id": "3f2bdf5e",
   "metadata": {
    "ExecuteTime": {
     "end_time": "2022-02-08T20:41:37.560690Z",
     "start_time": "2022-02-08T20:41:37.493828Z"
    }
   },
   "outputs": [
    {
     "name": "stdout",
     "output_type": "stream",
     "text": [
      "Sex: 59.0040920142686\n",
      "Pclass: 16.340887169747038\n",
      "Ticket: 6.028107169932206\n",
      "Cabin: 3.8347242202560192\n",
      "Fare: 3.712969667934385\n",
      "Age: 3.4844512041824824\n",
      "Parch: 3.378089740355865\n",
      "Embarked: 2.313999407289956\n",
      "SibSp: 1.902679406033451\n",
      "PassengerId: 0.0\n",
      "Name: 0.0\n"
     ]
    }
   ],
   "source": [
    "model = CatBoostClassifier(iterations=50, random_seed=42, logging_level='Silent').fit(train_pool)\n",
    "feature_importances = model.get_feature_importance(train_pool)\n",
    "feature_names = X_train.columns\n",
    "for score, name in sorted(zip(feature_importances, feature_names), reverse=True):\n",
    "    print('{}: {}'.format(name, score))"
   ]
  },
  {
   "cell_type": "markdown",
   "id": "5d9be378",
   "metadata": {
    "ExecuteTime": {
     "end_time": "2021-11-05T16:09:57.184379Z",
     "start_time": "2021-11-05T16:09:57.179399Z"
    }
   },
   "source": [
    "Можем визуализировать вот так:"
   ]
  },
  {
   "cell_type": "code",
   "execution_count": 68,
   "id": "1fae565c",
   "metadata": {
    "ExecuteTime": {
     "end_time": "2022-02-08T20:41:37.813637Z",
     "start_time": "2022-02-08T20:41:37.809313Z"
    }
   },
   "outputs": [],
   "source": [
    "def plot_feature_importances(model, eval_set, N_features=None):\n",
    "    limit_N_features = N_features or len(eval_set.get_feature_names())\n",
    "    sorted_feature_importance = model.feature_importances_.argsort()\n",
    "    plt.figure(figsize=(14, 10))\n",
    "    plt.barh(np.array(eval_set.get_feature_names())[sorted_feature_importance][-limit_N_features:],\n",
    "             model.feature_importances_[sorted_feature_importance][-limit_N_features:],\n",
    "             color='turquoise')\n",
    "    plt.xlabel(\"CatBoost Feature Importance\")\n",
    "    plt.show()"
   ]
  },
  {
   "cell_type": "code",
   "execution_count": 69,
   "id": "57920309",
   "metadata": {
    "ExecuteTime": {
     "end_time": "2022-02-08T20:41:38.094511Z",
     "start_time": "2022-02-08T20:41:37.946248Z"
    }
   },
   "outputs": [
    {
     "data": {
      "image/png": "[encoded data removed]",
      "text/plain": [
       "<Figure size 1008x720 with 1 Axes>"
      ]
     },
     "metadata": {
      "needs_background": "light"
     },
     "output_type": "display_data"
    }
   ],
   "source": [
    "plot_feature_importances(model, train_pool, N_features=20)"
   ]
  },
  {
   "cell_type": "markdown",
   "id": "ee57d7c8",
   "metadata": {},
   "source": [
    "Видим, что **`Sex`** и **`Pclass`** имеют наибольшее влияние на результат."
   ]
  },
  {
   "cell_type": "markdown",
   "id": "69e9a068",
   "metadata": {},
   "source": [
    "### Метрики оценки качества\n",
    "CatBoost имеет метод `eval_metrics`, который позволяет вычислять заданные метрики для заданного набора данных. И отрисовать их конечно же."
   ]
  },
  {
   "cell_type": "code",
   "execution_count": 70,
   "id": "730dfc47",
   "metadata": {
    "ExecuteTime": {
     "end_time": "2022-02-08T20:41:38.592700Z",
     "start_time": "2022-02-08T20:41:38.461260Z"
    }
   },
   "outputs": [
    {
     "data": {
      "application/vnd.jupyter.widget-view+json": {
       "model_id": "e9b29f2df512445ab0ceff4f4dbb9b22",
       "version_major": 2,
       "version_minor": 0
      },
      "text/plain": [
       "MetricVisualizer(layout=Layout(align_self='stretch', height='500px'))"
      ]
     },
     "metadata": {},
     "output_type": "display_data"
    }
   ],
   "source": [
    "model = CatBoostClassifier(iterations=50, random_seed=42, logging_level='Silent').fit(train_pool)\n",
    "eval_metrics = model.eval_metrics(validate_pool, [metrics.AUC()], plot=True)"
   ]
  },
  {
   "cell_type": "code",
   "execution_count": 71,
   "id": "8b04663c",
   "metadata": {
    "ExecuteTime": {
     "end_time": "2022-02-08T20:41:38.679093Z",
     "start_time": "2022-02-08T20:41:38.676266Z"
    }
   },
   "outputs": [
    {
     "name": "stdout",
     "output_type": "stream",
     "text": [
      "[0.8627368774106994, 0.8623176253563642, 0.8602213650846889, 0.8514170719436525, 0.8495723629045783, 0.8569092738554419]\n"
     ]
    }
   ],
   "source": [
    "print(eval_metrics['AUC'][:6])"
   ]
  },
  {
   "cell_type": "markdown",
   "id": "f42e3062",
   "metadata": {},
   "source": [
    "### Сравнение процесса обучения"
   ]
  },
  {
   "cell_type": "code",
   "execution_count": 72,
   "id": "5b4e5503",
   "metadata": {
    "ExecuteTime": {
     "end_time": "2022-02-08T20:41:38.958483Z",
     "start_time": "2022-02-08T20:41:38.914335Z"
    }
   },
   "outputs": [],
   "source": [
    "model1 = CatBoostClassifier(iterations=10, depth=1, train_dir='model_depth_1/', logging_level='Silent')\n",
    "model1.fit(train_pool, eval_set=validate_pool)\n",
    "model2 = CatBoostClassifier(iterations=10, depth=5, train_dir='model_depth_5/', logging_level='Silent')\n",
    "model2.fit(train_pool, eval_set=validate_pool);"
   ]
  },
  {
   "cell_type": "markdown",
   "id": "4a3cf92a",
   "metadata": {
    "ExecuteTime": {
     "end_time": "2021-11-05T16:13:28.070611Z",
     "start_time": "2021-11-05T16:13:28.067516Z"
    }
   },
   "source": [
    "Код создал две новые папки с метриками: 'model_depth_1/' и 'model_depth_5/'."
   ]
  },
  {
   "cell_type": "code",
   "execution_count": 73,
   "id": "46aa7e2c",
   "metadata": {
    "ExecuteTime": {
     "end_time": "2022-02-08T20:41:39.235015Z",
     "start_time": "2022-02-08T20:41:39.225649Z"
    },
    "scrolled": false
   },
   "outputs": [
    {
     "data": {
      "application/vnd.jupyter.widget-view+json": {
       "model_id": "7e5264af07284ee6829e91ac0b025fb0",
       "version_major": 2,
       "version_minor": 0
      },
      "text/plain": [
       "MetricVisualizer(layout=Layout(align_self='stretch', height='500px'))"
      ]
     },
     "metadata": {},
     "output_type": "display_data"
    }
   ],
   "source": [
    "from catboost import MetricVisualizer\n",
    "widget = MetricVisualizer(['model_depth_1', 'model_depth_5'])\n",
    "widget.start()"
   ]
  },
  {
   "cell_type": "markdown",
   "id": "e365d71b",
   "metadata": {},
   "source": [
    "### Сохранение модели"
   ]
  },
  {
   "cell_type": "code",
   "execution_count": 74,
   "id": "379c31c4",
   "metadata": {
    "ExecuteTime": {
     "end_time": "2022-02-08T20:41:39.532415Z",
     "start_time": "2022-02-08T20:41:39.501702Z"
    }
   },
   "outputs": [],
   "source": [
    "model = CatBoostClassifier(iterations=10, random_seed=42, logging_level='Silent').fit(train_pool)\n",
    "model.save_model('catboost_model.cb')\n",
    "model = CatBoostClassifier()\n",
    "model.load_model('catboost_model.cb');"
   ]
  },
  {
   "cell_type": "markdown",
   "id": "458d35fc",
   "metadata": {},
   "source": [
    "## Тюнинг параметров\n",
    "Хотя вы всегда можете выбрать оптимальное количество итераций (шагов бустинга) с помощью перекрестной проверки, также важно поэкспериментировать с некоторыми параметрами модели. Посмотрим на `l2_leaf_reg` и `learning_rate`.\n",
    "\n",
    "Выберем эти параметры с помощью пакета **`hyperopt`**."
   ]
  },
  {
   "cell_type": "code",
   "execution_count": 75,
   "id": "e45a5bcc",
   "metadata": {
    "ExecuteTime": {
     "end_time": "2022-02-08T20:41:42.169836Z",
     "start_time": "2022-02-08T20:41:39.820306Z"
    }
   },
   "outputs": [
    {
     "name": "stdout",
     "output_type": "stream",
     "text": [
      "Requirement already satisfied: hyperopt==0.2.5 in /Users/hanna.pylieva/opt/anaconda3/envs/py39/lib/python3.9/site-packages (0.2.5)\r\n",
      "Requirement already satisfied: tqdm in /Users/hanna.pylieva/opt/anaconda3/envs/py39/lib/python3.9/site-packages (from hyperopt==0.2.5) (4.62.3)\r\n",
      "Requirement already satisfied: scipy in /Users/hanna.pylieva/opt/anaconda3/envs/py39/lib/python3.9/site-packages (from hyperopt==0.2.5) (1.7.2)\r\n",
      "Requirement already satisfied: numpy in /Users/hanna.pylieva/opt/anaconda3/envs/py39/lib/python3.9/site-packages (from hyperopt==0.2.5) (1.21.4)\r\n",
      "Requirement already satisfied: six in /Users/hanna.pylieva/opt/anaconda3/envs/py39/lib/python3.9/site-packages (from hyperopt==0.2.5) (1.16.0)\r\n",
      "Requirement already satisfied: cloudpickle in /Users/hanna.pylieva/opt/anaconda3/envs/py39/lib/python3.9/site-packages (from hyperopt==0.2.5) (2.0.0)\r\n",
      "Requirement already satisfied: future in /Users/hanna.pylieva/opt/anaconda3/envs/py39/lib/python3.9/site-packages (from hyperopt==0.2.5) (0.18.2)\r\n",
      "Requirement already satisfied: networkx>=2.2 in /Users/hanna.pylieva/opt/anaconda3/envs/py39/lib/python3.9/site-packages (from hyperopt==0.2.5) (2.6.3)\r\n"
     ]
    }
   ],
   "source": [
    "!pip install hyperopt==0.2.5"
   ]
  },
  {
   "cell_type": "code",
   "execution_count": 76,
   "id": "cb6fb0d8",
   "metadata": {
    "ExecuteTime": {
     "end_time": "2022-02-08T20:41:42.532122Z",
     "start_time": "2022-02-08T20:41:42.173475Z"
    }
   },
   "outputs": [],
   "source": [
    "import hyperopt\n",
    "\n",
    "def hyperopt_objective(params):\n",
    "    model = CatBoostClassifier(\n",
    "        l2_leaf_reg=int(params['l2_leaf_reg']),\n",
    "        learning_rate=params['learning_rate'],\n",
    "        iterations=500,\n",
    "        eval_metric=metrics.Accuracy(),\n",
    "        random_seed=42,\n",
    "        verbose=False,\n",
    "        loss_function=metrics.Logloss(),\n",
    "    )\n",
    "    \n",
    "    cv_data = cv(\n",
    "        Pool(X, y, cat_features=categorical_features_indices),\n",
    "        model.get_params()\n",
    "    )\n",
    "    best_accuracy = np.max(cv_data['test-Accuracy-mean'])\n",
    "    \n",
    "    return 1 - best_accuracy # as hyperopt minimises"
   ]
  },
  {
   "cell_type": "code",
   "execution_count": 78,
   "id": "a3aa1ccf",
   "metadata": {
    "ExecuteTime": {
     "end_time": "2022-02-08T20:42:56.976283Z",
     "start_time": "2022-02-08T20:42:18.787515Z"
    },
    "scrolled": true
   },
   "outputs": [
    {
     "name": "stdout",
     "output_type": "stream",
     "text": [
      "  0%|                                    | 0/10 [00:00<?, ?trial/s, best loss=?]Training on fold [0/3]\n"
     ]
    },
    {
     "name": "stderr",
     "output_type": "stream",
     "text": [
      "Custom logger is already specified. Specify more than one logger at same time is not thread safe."
     ]
    },
    {
     "name": "stdout",
     "output_type": "stream",
     "text": [
      "\n",
      "bestTest = 0.8316498316\n",
      "bestIteration = 7\n",
      "\n",
      "Training on fold [1/3]\n",
      "\n",
      "bestTest = 0.8451178451\n",
      "bestIteration = 64\n",
      "\n",
      "Training on fold [2/3]\n",
      "\n",
      "bestTest = 0.8114478114\n",
      "bestIteration = 96\n",
      "\n",
      " 10%|▉        | 1/10 [00:03<00:33,  3.69s/trial, best loss: 0.18406285072951734]Training on fold [0/3]\n",
      "\n",
      "bestTest = 0.8316498316\n",
      "bestIteration = 3\n",
      "\n",
      "Training on fold [1/3]\n",
      "\n",
      "bestTest = 0.8451178451\n",
      "bestIteration = 30\n",
      "\n",
      "Training on fold [2/3]\n",
      "\n",
      "bestTest = 0.797979798\n",
      "bestIteration = 45\n",
      "\n",
      " 20%|█▊       | 2/10 [00:07<00:30,  3.82s/trial, best loss: 0.18406285072951734]Training on fold [0/3]\n",
      "\n",
      "bestTest = 0.8417508418\n",
      "bestIteration = 32\n",
      "\n",
      "Training on fold [1/3]\n",
      "\n",
      "bestTest = 0.8653198653\n",
      "bestIteration = 125\n",
      "\n",
      "Training on fold [2/3]\n",
      "\n",
      "bestTest = 0.8047138047\n",
      "bestIteration = 348\n",
      "\n",
      " 30%|███       | 3/10 [00:11<00:27,  3.89s/trial, best loss: 0.1717171717171717]Training on fold [0/3]\n",
      "\n",
      "bestTest = 0.8249158249\n",
      "bestIteration = 1\n",
      "\n",
      "Training on fold [1/3]\n",
      "\n",
      "bestTest = 0.8417508418\n",
      "bestIteration = 14\n",
      "\n",
      "Training on fold [2/3]\n",
      "\n",
      "bestTest = 0.8114478114\n",
      "bestIteration = 47\n",
      "\n",
      " 40%|████      | 4/10 [00:15<00:23,  3.87s/trial, best loss: 0.1717171717171717]Training on fold [0/3]\n",
      "\n",
      "bestTest = 0.8417508418\n",
      "bestIteration = 56\n",
      "\n",
      "Training on fold [1/3]\n",
      "\n",
      "bestTest = 0.8417508418\n",
      "bestIteration = 67\n",
      "\n",
      "Training on fold [2/3]\n",
      "\n",
      "bestTest = 0.8215488215\n",
      "bestIteration = 280\n",
      "\n",
      " 50%|█████     | 5/10 [00:19<00:19,  3.82s/trial, best loss: 0.1717171717171717]Training on fold [0/3]\n",
      "\n",
      "bestTest = 0.835016835\n",
      "bestIteration = 64\n",
      "\n",
      "Training on fold [1/3]\n",
      "\n",
      "bestTest = 0.8585858586\n",
      "bestIteration = 55\n",
      "\n",
      "Training on fold [2/3]\n",
      "\n",
      "bestTest = 0.8148148148\n",
      "bestIteration = 362\n",
      "\n",
      " 60%|█████▍   | 6/10 [00:23<00:15,  3.83s/trial, best loss: 0.16947250280583626]Training on fold [0/3]\n",
      "\n",
      "bestTest = 0.8316498316\n",
      "bestIteration = 5\n",
      "\n",
      "Training on fold [1/3]\n",
      "\n",
      "bestTest = 0.8552188552\n",
      "bestIteration = 97\n",
      "\n",
      "Training on fold [2/3]\n",
      "\n",
      "bestTest = 0.8013468013\n",
      "bestIteration = 49\n",
      "\n",
      " 70%|██████▎  | 7/10 [00:26<00:11,  3.75s/trial, best loss: 0.16947250280583626]Training on fold [0/3]\n",
      "\n",
      "bestTest = 0.8249158249\n",
      "bestIteration = 1\n",
      "\n",
      "Training on fold [1/3]\n",
      "\n",
      "bestTest = 0.8316498316\n",
      "bestIteration = 84\n",
      "\n",
      "Training on fold [2/3]\n",
      "\n",
      "bestTest = 0.8114478114\n",
      "bestIteration = 136\n",
      "\n",
      " 80%|███████▏ | 8/10 [00:30<00:07,  3.68s/trial, best loss: 0.16947250280583626]Training on fold [0/3]\n",
      "\n",
      "bestTest = 0.8249158249\n",
      "bestIteration = 1\n",
      "\n",
      "Training on fold [1/3]\n",
      "\n",
      "bestTest = 0.8653198653\n",
      "bestIteration = 43\n",
      "\n",
      "Training on fold [2/3]\n",
      "\n",
      "bestTest = 0.8215488215\n",
      "bestIteration = 32\n",
      "\n",
      " 90%|████████ | 9/10 [00:33<00:03,  3.72s/trial, best loss: 0.16947250280583626]Training on fold [0/3]\n",
      "\n",
      "bestTest = 0.8316498316\n",
      "bestIteration = 7\n",
      "\n",
      "Training on fold [1/3]\n",
      "\n",
      "bestTest = 0.8417508418\n",
      "bestIteration = 88\n",
      "\n",
      "Training on fold [2/3]\n",
      "\n",
      "bestTest = 0.8114478114\n",
      "bestIteration = 96\n",
      "\n",
      "100%|████████| 10/10 [00:38<00:00,  3.82s/trial, best loss: 0.16947250280583626]\n",
      "{'l2_leaf_reg': 2.0, 'learning_rate': 0.1661030060980962}\n"
     ]
    }
   ],
   "source": [
    "from numpy.random import RandomState\n",
    "\n",
    "params_space = {\n",
    "    'l2_leaf_reg': hyperopt.hp.qloguniform('l2_leaf_reg', 0, 2, 1),\n",
    "    'learning_rate': hyperopt.hp.uniform('learning_rate', 1e-3, 5e-1),\n",
    "}\n",
    "\n",
    "trials = hyperopt.Trials()\n",
    "\n",
    "best = hyperopt.fmin(\n",
    "    hyperopt_objective,\n",
    "    space=params_space,\n",
    "    algo=hyperopt.tpe.suggest,\n",
    "    max_evals=10,\n",
    "    trials=trials,\n",
    "    rstate=RandomState(123)\n",
    ")\n",
    "\n",
    "print(best)"
   ]
  },
  {
   "cell_type": "markdown",
   "id": "1a128697",
   "metadata": {},
   "source": [
    "Теперь давайте получим все данные перекрёстной проверки с лучшими параметрами:"
   ]
  },
  {
   "cell_type": "code",
   "execution_count": 79,
   "id": "c03d85ec",
   "metadata": {
    "ExecuteTime": {
     "end_time": "2022-02-08T20:42:56.982625Z",
     "start_time": "2022-02-08T20:42:56.978943Z"
    }
   },
   "outputs": [
    {
     "data": {
      "text/plain": [
       "(2.0, 0.1661030060980962)"
      ]
     },
     "execution_count": 79,
     "metadata": {},
     "output_type": "execute_result"
    }
   ],
   "source": [
    "best['l2_leaf_reg'], best['learning_rate']"
   ]
  },
  {
   "cell_type": "code",
   "execution_count": 80,
   "id": "dc79ccde",
   "metadata": {
    "ExecuteTime": {
     "end_time": "2022-02-08T20:43:01.202304Z",
     "start_time": "2022-02-08T20:42:56.983659Z"
    }
   },
   "outputs": [
    {
     "name": "stdout",
     "output_type": "stream",
     "text": [
      "Training on fold [0/3]\n",
      "\n",
      "bestTest = 0.835016835\n",
      "bestIteration = 64\n",
      "\n",
      "Training on fold [1/3]\n",
      "\n",
      "bestTest = 0.8585858586\n",
      "bestIteration = 55\n",
      "\n",
      "Training on fold [2/3]\n",
      "\n",
      "bestTest = 0.8148148148\n",
      "bestIteration = 362\n",
      "\n"
     ]
    }
   ],
   "source": [
    "model = CatBoostClassifier(\n",
    "    l2_leaf_reg=int(best['l2_leaf_reg']),\n",
    "    learning_rate=best['learning_rate'],\n",
    "    iterations=500,\n",
    "    eval_metric=metrics.Accuracy(),\n",
    "    random_seed=42,\n",
    "    verbose=False,\n",
    "    loss_function=metrics.Logloss(),\n",
    ")\n",
    "cv_data = cv(Pool(X, y, cat_features=categorical_features_indices), model.get_params())"
   ]
  },
  {
   "cell_type": "code",
   "execution_count": 81,
   "id": "fa990165",
   "metadata": {
    "ExecuteTime": {
     "end_time": "2022-02-08T20:43:01.207976Z",
     "start_time": "2022-02-08T20:43:01.204820Z"
    }
   },
   "outputs": [
    {
     "name": "stdout",
     "output_type": "stream",
     "text": [
      "Precise validation accuracy score: 0.8305274971941637\n"
     ]
    }
   ],
   "source": [
    "print('Precise validation accuracy score: {}'.format(np.max(cv_data['test-Accuracy-mean'])))"
   ]
  },
  {
   "cell_type": "markdown",
   "id": "b2e18f08",
   "metadata": {},
   "source": [
    "Получилось немного улучшить скор."
   ]
  }
 ],
 "metadata": {
  "kernelspec": {
   "display_name": "Python 3 (ipykernel)",
   "language": "python",
   "name": "python3"
  },
  "language_info": {
   "codemirror_mode": {
    "name": "ipython",
    "version": 3
   },
   "file_extension": ".py",
   "mimetype": "text/x-python",
   "name": "python",
   "nbconvert_exporter": "python",
   "pygments_lexer": "ipython3",
   "version": "3.9.7"
  },
  "toc": {
   "base_numbering": 1,
   "nav_menu": {},
   "number_sections": true,
   "sideBar": true,
   "skip_h1_title": false,
   "title_cell": "Table of Contents",
   "title_sidebar": "Contents",
   "toc_cell": false,
   "toc_position": {},
   "toc_section_display": true,
   "toc_window_display": false
  }
 },
 "nbformat": 4,
 "nbformat_minor": 5
}
