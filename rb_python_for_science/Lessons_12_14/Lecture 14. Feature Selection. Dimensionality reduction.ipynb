{
 "cells": [
  {
   "cell_type": "markdown",
   "id": "9c140626",
   "metadata": {},
   "source": [
    "# Variance Thrashold"
   ]
  },
  {
   "cell_type": "code",
   "execution_count": 1,
   "id": "63abe9ee",
   "metadata": {
    "ExecuteTime": {
     "end_time": "2022-02-15T16:53:56.216997Z",
     "start_time": "2022-02-15T16:53:55.937649Z"
    }
   },
   "outputs": [
    {
     "data": {
      "text/plain": [
       "array([[0, 1],\n",
       "       [1, 0],\n",
       "       [0, 0],\n",
       "       [1, 1],\n",
       "       [1, 0],\n",
       "       [1, 1]])"
      ]
     },
     "execution_count": 1,
     "metadata": {},
     "output_type": "execute_result"
    }
   ],
   "source": [
    "from sklearn.feature_selection import VarianceThreshold\n",
    "X = [[0, 0, 1], [0, 1, 0], [1, 0, 0], [0, 1, 1], [0, 1, 0], [0, 1, 1]]\n",
    "sel = VarianceThreshold(threshold=(.8 * (1 - .8)))\n",
    "sel.fit_transform(X)\n"
   ]
  },
  {
   "cell_type": "code",
   "execution_count": 2,
   "id": "f112fd26",
   "metadata": {
    "ExecuteTime": {
     "end_time": "2022-02-15T16:53:56.226095Z",
     "start_time": "2022-02-15T16:53:56.218920Z"
    }
   },
   "outputs": [
    {
     "data": {
      "text/html": [
       "<div>\n",
       "<style scoped>\n",
       "    .dataframe tbody tr th:only-of-type {\n",
       "        vertical-align: middle;\n",
       "    }\n",
       "\n",
       "    .dataframe tbody tr th {\n",
       "        vertical-align: top;\n",
       "    }\n",
       "\n",
       "    .dataframe thead th {\n",
       "        text-align: right;\n",
       "    }\n",
       "</style>\n",
       "<table border=\"1\" class=\"dataframe\">\n",
       "  <thead>\n",
       "    <tr style=\"text-align: right;\">\n",
       "      <th></th>\n",
       "      <th>0</th>\n",
       "      <th>1</th>\n",
       "      <th>2</th>\n",
       "    </tr>\n",
       "  </thead>\n",
       "  <tbody>\n",
       "    <tr>\n",
       "      <th>0</th>\n",
       "      <td>0</td>\n",
       "      <td>0</td>\n",
       "      <td>1</td>\n",
       "    </tr>\n",
       "    <tr>\n",
       "      <th>1</th>\n",
       "      <td>0</td>\n",
       "      <td>1</td>\n",
       "      <td>0</td>\n",
       "    </tr>\n",
       "    <tr>\n",
       "      <th>2</th>\n",
       "      <td>1</td>\n",
       "      <td>0</td>\n",
       "      <td>0</td>\n",
       "    </tr>\n",
       "    <tr>\n",
       "      <th>3</th>\n",
       "      <td>0</td>\n",
       "      <td>1</td>\n",
       "      <td>1</td>\n",
       "    </tr>\n",
       "    <tr>\n",
       "      <th>4</th>\n",
       "      <td>0</td>\n",
       "      <td>1</td>\n",
       "      <td>0</td>\n",
       "    </tr>\n",
       "    <tr>\n",
       "      <th>5</th>\n",
       "      <td>0</td>\n",
       "      <td>1</td>\n",
       "      <td>1</td>\n",
       "    </tr>\n",
       "  </tbody>\n",
       "</table>\n",
       "</div>"
      ],
      "text/plain": [
       "   0  1  2\n",
       "0  0  0  1\n",
       "1  0  1  0\n",
       "2  1  0  0\n",
       "3  0  1  1\n",
       "4  0  1  0\n",
       "5  0  1  1"
      ]
     },
     "execution_count": 2,
     "metadata": {},
     "output_type": "execute_result"
    }
   ],
   "source": [
    "pd.DataFrame(X)"
   ]
  },
  {
   "cell_type": "markdown",
   "id": "97969de1",
   "metadata": {},
   "source": [
    "# 2. Univariate feature selection"
   ]
  },
  {
   "cell_type": "code",
   "execution_count": 7,
   "id": "62b1f830",
   "metadata": {
    "ExecuteTime": {
     "end_time": "2022-02-15T16:54:23.834688Z",
     "start_time": "2022-02-15T16:54:23.832085Z"
    }
   },
   "outputs": [],
   "source": [
    "from sklearn.datasets import make_regression, make_classification\n",
    "from sklearn.feature_selection import SelectKBest, f_regression, f_classif\n",
    "from sklearn.metrics import mean_squared_error"
   ]
  },
  {
   "cell_type": "markdown",
   "id": "02722c08",
   "metadata": {
    "ExecuteTime": {
     "end_time": "2021-11-10T16:36:48.739686Z",
     "start_time": "2021-11-10T16:36:48.684000Z"
    }
   },
   "source": [
    "# Выбор признаков для задачи регрессии"
   ]
  },
  {
   "cell_type": "code",
   "execution_count": 4,
   "id": "e5ef2e9a",
   "metadata": {
    "ExecuteTime": {
     "end_time": "2022-02-15T16:53:56.368720Z",
     "start_time": "2022-02-15T16:53:56.308396Z"
    }
   },
   "outputs": [],
   "source": [
    "X, y = make_regression(n_samples=10000, n_features=100, n_informative=10, random_state=42)"
   ]
  },
  {
   "cell_type": "code",
   "execution_count": 5,
   "id": "7bb0a28c",
   "metadata": {
    "ExecuteTime": {
     "end_time": "2022-02-15T16:53:56.373998Z",
     "start_time": "2022-02-15T16:53:56.371009Z"
    }
   },
   "outputs": [],
   "source": [
    "from sklearn.linear_model import LinearRegression"
   ]
  },
  {
   "cell_type": "code",
   "execution_count": 8,
   "id": "ef81606e",
   "metadata": {
    "ExecuteTime": {
     "end_time": "2022-02-15T16:54:25.319326Z",
     "start_time": "2022-02-15T16:54:25.271907Z"
    }
   },
   "outputs": [
    {
     "data": {
      "text/plain": [
       "0.0"
      ]
     },
     "execution_count": 8,
     "metadata": {},
     "output_type": "execute_result"
    }
   ],
   "source": [
    "lr = LinearRegression().fit(X,y)\n",
    "\n",
    "y_pred = lr.predict(X)\n",
    "\n",
    "round(mean_squared_error(y, y_pred), 10)"
   ]
  },
  {
   "cell_type": "code",
   "execution_count": 9,
   "id": "a16a43c2",
   "metadata": {
    "ExecuteTime": {
     "end_time": "2022-02-15T16:54:25.423220Z",
     "start_time": "2022-02-15T16:54:25.405222Z"
    }
   },
   "outputs": [
    {
     "data": {
      "text/plain": [
       "(10000, 5)"
      ]
     },
     "execution_count": 9,
     "metadata": {},
     "output_type": "execute_result"
    }
   ],
   "source": [
    "fs = SelectKBest(score_func=f_regression, k=5)\n",
    "\n",
    "X_selected = fs.fit_transform(X, y)\n",
    "X_selected.shape"
   ]
  },
  {
   "cell_type": "code",
   "execution_count": 10,
   "id": "9b53b76c",
   "metadata": {
    "ExecuteTime": {
     "end_time": "2022-02-15T16:54:25.565731Z",
     "start_time": "2022-02-15T16:54:25.509450Z"
    }
   },
   "outputs": [
    {
     "data": {
      "text/plain": [
       "0.0"
      ]
     },
     "execution_count": 10,
     "metadata": {},
     "output_type": "execute_result"
    }
   ],
   "source": [
    "lr = LinearRegression().fit(X,y)\n",
    "\n",
    "y_pred = lr.predict(X)\n",
    "\n",
    "round(mean_squared_error(y, y_pred), 10)"
   ]
  },
  {
   "cell_type": "code",
   "execution_count": 11,
   "id": "48b25586",
   "metadata": {
    "ExecuteTime": {
     "end_time": "2022-02-15T16:54:25.629846Z",
     "start_time": "2022-02-15T16:54:25.617793Z"
    }
   },
   "outputs": [
    {
     "data": {
      "text/plain": [
       "array([[ 1.63460551e+00, -1.96811123e-01,  3.57162586e-01,\n",
       "         1.44052232e-01, -2.12337854e+00, -9.49600244e-01,\n",
       "         4.01466858e-01, -1.99704744e+00, -4.46398499e-01,\n",
       "        -6.72987219e-01,  1.00929496e+00,  2.72849975e+00,\n",
       "        -5.43408410e-02,  7.58756193e-01,  1.39199158e+00,\n",
       "        -8.06331219e-01,  4.17080498e-01, -2.19970087e-01,\n",
       "        -1.90485698e-01,  1.51901957e+00, -7.31260973e-01,\n",
       "         1.26149899e+00, -9.07380953e-01, -1.53418096e+00,\n",
       "         9.34717746e-01,  3.52024829e-01, -8.95947004e-01,\n",
       "         8.31733138e-01, -1.41982531e+00,  9.67429419e-01,\n",
       "        -2.42137975e+00,  5.17757816e-01,  1.49901207e+00,\n",
       "        -8.70766376e-01, -3.21587684e-01,  1.01664321e+00,\n",
       "         9.65573559e-01,  2.16055476e-02,  3.99546841e-01,\n",
       "         7.71850486e-01, -1.62920904e+00, -7.79544475e-01,\n",
       "        -7.36065219e-01, -2.75452163e+00, -1.77202783e+00,\n",
       "         1.81459007e-01, -9.00811741e-01, -1.00593105e-01,\n",
       "         1.65585562e-03, -2.80869246e-01,  3.79637282e-02,\n",
       "         1.11680095e-02,  1.70705483e-01,  2.51869448e-01,\n",
       "        -9.58449381e-01, -2.20854280e-01,  4.24585096e-01,\n",
       "        -6.69552326e-01, -4.86581246e-01, -3.45653657e-01,\n",
       "        -7.39136559e-01, -1.49810719e-01, -1.26733697e+00,\n",
       "        -9.38179851e-01,  8.29273687e-01, -6.69356096e-01,\n",
       "         1.48463682e-01, -1.71171195e-01,  2.89304636e-01,\n",
       "        -1.24632948e+00, -1.54363052e+00,  7.10774025e-01,\n",
       "         6.98083465e-01,  1.74367588e-01,  1.14183093e+00,\n",
       "        -6.91561403e-01,  2.71582200e-01, -2.56758512e+00,\n",
       "         3.06619787e-01, -2.04353835e+00,  9.08414239e-01,\n",
       "         7.15325610e-03,  1.41711790e-01,  9.28851246e-01,\n",
       "        -1.48189290e-01, -5.30580356e-01,  1.54850448e-01,\n",
       "         7.23603899e-02, -1.36340425e+00,  2.71034253e-01,\n",
       "         9.78264919e-02, -5.75058196e-01, -1.25169805e+00,\n",
       "         3.44000106e-01, -3.19096034e-01,  9.32838892e-01,\n",
       "        -8.28140138e-01,  6.41625232e-01, -4.16691987e-01,\n",
       "         1.49895846e+00],\n",
       "       [ 1.14470030e+00, -4.12080633e-01,  3.81919382e-01,\n",
       "         6.28406921e-01, -3.40881823e-02, -1.06855947e+00,\n",
       "         9.07461410e-01, -1.58998540e+00,  3.61741267e-01,\n",
       "        -1.20970159e+00, -8.06650080e-02,  2.21597626e+00,\n",
       "        -3.16027414e-01,  3.45010927e-01,  1.15069935e+00,\n",
       "         6.25416473e-01, -8.38438442e-01, -2.16243612e-01,\n",
       "         1.28838013e+00, -4.54876252e-01, -5.80957251e-01,\n",
       "         1.08306343e+00, -9.70899601e-01,  1.54102544e+00,\n",
       "         6.59200542e-01, -5.41485590e-01,  1.01208082e+00,\n",
       "         1.20300925e+00, -5.76303734e-01, -5.01630249e-01,\n",
       "        -2.03909010e+00,  1.44080961e+00, -1.63717213e+00,\n",
       "        -1.02643524e+00,  1.26028740e-01, -1.34141188e-01,\n",
       "         9.70466050e-01,  1.67288834e+00,  2.24986845e-01,\n",
       "         7.79972228e-01, -1.33058602e+00, -2.34297240e-01,\n",
       "        -1.83678774e-01, -1.48136240e-01, -1.39816080e+00,\n",
       "        -1.65812601e+00, -2.47477620e-02, -3.11152816e-01,\n",
       "         3.74376941e-01, -3.96344008e-02,  2.01399289e-01,\n",
       "         6.10248188e-03,  1.23849052e+00,  1.22285626e+00,\n",
       "         5.91457643e-01,  4.42026674e-01, -2.63373764e-01,\n",
       "         5.13349051e-01,  2.43548937e-01, -2.10443724e-01,\n",
       "        -3.65072846e-01,  1.77659631e-01,  1.96853733e+00,\n",
       "        -8.76928794e-01, -3.61209180e-01, -1.58099673e+00,\n",
       "         1.22826697e+00,  2.43702201e-01, -2.36194370e-01,\n",
       "        -6.86850149e-01, -1.96425827e+00, -6.61506594e-03,\n",
       "         1.16914927e+00,  3.82654198e-01,  1.10607055e+00,\n",
       "         1.08481354e+00, -7.11970201e-01,  6.77161739e-01,\n",
       "        -1.39804679e+00, -3.38037337e-02,  6.16910405e-01,\n",
       "        -3.06528068e-01,  1.14802374e+00,  1.54981741e-01,\n",
       "        -6.48518551e-01,  2.54438784e-02, -1.08125843e-01,\n",
       "        -4.80216246e-01, -1.34831905e+00,  7.31041719e-01,\n",
       "        -1.02435176e+00,  1.55946500e-01,  3.55948372e-01,\n",
       "         2.55168551e-02,  2.16321616e-02,  2.40085843e-01,\n",
       "        -1.09434941e+00,  2.15687593e-01,  1.06064919e+00,\n",
       "        -6.39347664e-01],\n",
       "       [ 7.76525303e-01, -1.34301372e+00, -4.48771235e-01,\n",
       "         6.32698981e-01, -9.66006638e-01,  1.96952535e-03,\n",
       "        -5.82351627e-01, -6.55673402e-01,  1.06998303e+00,\n",
       "         9.06042847e-01,  1.49188893e-01, -4.32557644e-02,\n",
       "         7.70169232e-01, -9.85191415e-01,  4.99093560e-01,\n",
       "         1.27816704e-01, -8.94117476e-01,  4.62360377e-01,\n",
       "        -4.43761467e-01, -5.50369800e-01,  6.71463641e-01,\n",
       "         6.23874978e-01,  9.14067447e-01, -2.47926782e+00,\n",
       "        -6.25734662e-01, -1.78535431e-02, -8.02664895e-01,\n",
       "        -1.69778290e-01, -2.03325478e-01, -1.25072354e+00,\n",
       "         6.54662228e-01,  7.34498153e-01,  5.63440466e-01,\n",
       "        -1.74687005e+00, -4.10561713e-01,  1.36038343e+00,\n",
       "        -1.37086305e+00,  3.52262080e-01, -1.44767246e+00,\n",
       "        -8.67667292e-01, -1.77272914e+00,  7.95518724e-01,\n",
       "         1.16882538e+00, -1.30683036e-01, -7.09683173e-01,\n",
       "         7.44367691e-01,  8.39679423e-02,  5.65617059e-02,\n",
       "         7.03544583e-01, -6.11725526e-02,  1.70192882e-01,\n",
       "        -7.35963682e-01,  7.59001814e-01, -7.42587104e-02,\n",
       "        -8.62566790e-01, -1.84915124e+00,  5.35738075e-01,\n",
       "        -2.96971836e-01, -8.33727026e-01, -8.50262904e-01,\n",
       "        -8.63673781e-01,  1.15221707e+00,  4.40087920e-01,\n",
       "         1.60842554e-01, -3.18436954e-03,  9.09775125e-01,\n",
       "         1.02060428e+00, -7.48751159e-01, -1.48234817e-01,\n",
       "         4.34285339e-01,  6.30825925e-01,  8.84209974e-01,\n",
       "         7.11714602e-01,  1.14598247e+00,  3.70537375e-01,\n",
       "        -4.06024984e-01,  8.99150413e-01, -1.01901538e-01,\n",
       "        -5.99646115e-01,  5.01371315e-01, -5.77735408e-01,\n",
       "         4.84249760e-01,  5.95977503e-01, -1.36705584e-01,\n",
       "        -2.34171422e-02,  1.94531399e-02, -5.87445037e-01,\n",
       "        -4.34414834e-01, -9.59809978e-01,  1.96786436e-01,\n",
       "        -9.57577394e-02, -9.12837293e-01,  2.80967961e-01,\n",
       "         1.43011712e+00, -5.05186035e-01,  1.66563998e+00,\n",
       "        -1.98860555e+00, -9.96746287e-01, -2.10129872e-02,\n",
       "        -2.86345954e+00],\n",
       "       [-9.16622259e-01,  9.91854546e-01,  1.79751204e+00,\n",
       "         1.30576001e-01, -4.81763274e-01,  4.99794260e-02,\n",
       "         1.92227168e+00,  7.03310981e-01,  9.67958023e-02,\n",
       "        -1.14638151e+00, -1.39746300e+00,  5.18004980e-01,\n",
       "        -1.13893588e+00, -2.79162165e-01, -8.96934795e-01,\n",
       "         1.27330419e+00, -4.97536804e-01, -5.10450986e-01,\n",
       "        -5.01154953e-01, -2.86844863e-01,  1.32906034e+00,\n",
       "         3.00234678e-01,  2.40714491e+00,  1.07504942e+00,\n",
       "         4.08136937e-01, -1.36671487e+00, -1.21477705e-01,\n",
       "        -3.15037708e+00,  6.69432721e-01,  8.52359348e-01,\n",
       "         1.34732300e+00, -1.85461028e-01,  2.02916713e+00,\n",
       "        -2.53469180e-01,  9.62170040e-01, -7.95213171e-01,\n",
       "         1.76532423e-01, -1.93275045e+00, -2.38501294e+00,\n",
       "        -5.15020352e-01, -5.55280948e-01,  2.38979095e-01,\n",
       "         7.74656585e-01, -2.75091279e-01,  8.10558883e-01,\n",
       "        -1.31499857e+00, -3.50308707e-02, -5.87460052e-02,\n",
       "         7.47284185e-01,  2.34641956e+00,  6.81514785e-01,\n",
       "        -3.78224940e-01, -2.41249171e-01,  3.73915973e-02,\n",
       "        -2.91586770e-01, -6.55713351e-01, -7.28394742e-01,\n",
       "        -3.88089241e-01, -2.65966999e-01,  1.00289382e+00,\n",
       "         3.78508127e-03,  2.88170166e-01,  1.51987301e+00,\n",
       "         7.46644757e-01,  1.17277362e-01,  2.41225820e-01,\n",
       "         4.97750178e-02,  1.07124141e+00, -1.22712876e+00,\n",
       "        -6.00453805e-01,  4.32680744e-01, -2.34507614e-01,\n",
       "        -9.98041086e-03,  2.13128501e+00, -1.32813979e+00,\n",
       "         1.19751977e+00, -9.97554965e-02,  8.07686401e-01,\n",
       "        -7.31751570e-01, -2.10730428e+00, -1.83632668e-01,\n",
       "         8.09860443e-01, -2.91401296e-01,  1.65327552e+00,\n",
       "        -5.77052859e-01,  9.48685025e-01,  7.07268843e-01,\n",
       "         4.03313616e-01, -2.53914933e-01,  1.44539348e+00,\n",
       "        -1.34494509e+00, -1.31062669e+00, -1.23736494e+00,\n",
       "         6.84151019e-01, -6.40568574e-02,  5.09193233e-01,\n",
       "        -8.16626999e-01,  4.47272210e-01,  1.19689760e+00,\n",
       "         1.10636296e+00],\n",
       "       [-2.11088729e+00,  6.73601367e-01, -1.34884132e-01,\n",
       "        -1.06805227e+00,  2.54013736e-01, -3.17124858e-02,\n",
       "         1.48832919e-01, -1.86967529e+00, -4.62563533e-01,\n",
       "         8.63439154e-01,  9.51751078e-01,  1.54928392e+00,\n",
       "        -6.90795416e-01,  8.10475003e-01, -1.36133132e+00,\n",
       "        -2.73278032e-01,  1.09556166e+00, -1.28394371e+00,\n",
       "         4.24598768e-02, -8.18355287e-02, -2.00525680e+00,\n",
       "        -6.12697294e-01, -2.76522573e-01, -3.01566354e-01,\n",
       "         9.73304296e-01,  1.48912548e+00, -2.98637422e-01,\n",
       "         2.39586190e-02,  6.91960993e-01,  8.98943139e-01,\n",
       "         3.76309358e-01, -2.84508831e-01,  1.99562998e-01,\n",
       "         1.19326409e+00,  1.67280894e-01, -7.95706411e-01,\n",
       "        -3.29706318e-01, -4.51706556e-01,  7.58173195e-02,\n",
       "        -1.55437740e+00,  1.18643136e+00, -1.24260399e+00,\n",
       "         1.48194989e+00,  1.53726170e+00, -3.67114050e-01,\n",
       "         7.57597218e-01, -7.88648338e-01, -1.35023197e-01,\n",
       "        -1.00873304e+00,  5.18395638e-01, -6.21201087e-01,\n",
       "         1.01653094e+00,  2.06499515e-01,  2.16415396e-01,\n",
       "         4.96131267e-01,  1.16570076e+00, -9.96926501e-01,\n",
       "         1.74309524e+00,  5.55637427e-01, -2.00137945e+00,\n",
       "         3.49713790e-02, -6.41761076e-01, -6.57386617e-01,\n",
       "         1.07665271e+00, -1.57829267e+00, -5.23706299e-01,\n",
       "        -8.17955328e-01, -1.22358663e-01,  6.94745275e-03,\n",
       "         2.74184026e-01,  1.53311096e+00, -3.10544874e-01,\n",
       "         1.62733603e-01, -1.18792430e+00,  1.36840646e+00,\n",
       "         2.06900087e+00,  1.76816811e-01,  8.16645319e-01,\n",
       "        -2.15930009e+00, -2.11632363e-01,  5.99280668e-01,\n",
       "        -2.06016780e+00,  1.57731504e-02, -1.47420701e+00,\n",
       "        -1.34526180e-01,  1.25301555e+00, -1.08055762e+00,\n",
       "         9.95769403e-01,  2.92675884e-01,  1.61557809e-01,\n",
       "         4.79299020e-01,  7.23319898e-01, -1.20640377e+00,\n",
       "         1.80825689e-01,  1.11804916e+00,  1.35611273e+00,\n",
       "        -6.06910497e-01,  5.98193117e-01,  2.37759633e-01,\n",
       "         1.71574440e+00]])"
      ]
     },
     "execution_count": 11,
     "metadata": {},
     "output_type": "execute_result"
    }
   ],
   "source": [
    "X[:5]"
   ]
  },
  {
   "cell_type": "code",
   "execution_count": 12,
   "id": "5df472f9",
   "metadata": {
    "ExecuteTime": {
     "end_time": "2022-02-15T16:54:25.715364Z",
     "start_time": "2022-02-15T16:54:25.710146Z"
    }
   },
   "outputs": [
    {
     "data": {
      "text/plain": [
       "array([-213.26627574,  271.21058765, -292.7857635 ,   58.37607697,\n",
       "        171.31905301])"
      ]
     },
     "execution_count": 12,
     "metadata": {},
     "output_type": "execute_result"
    }
   ],
   "source": [
    "y[:5]"
   ]
  },
  {
   "cell_type": "markdown",
   "id": "da2ed35f",
   "metadata": {},
   "source": [
    "Мы получили колонки данных, которые алгоритм выявил как самые важные на основе оригинального таргета."
   ]
  },
  {
   "cell_type": "markdown",
   "id": "63c55fc7",
   "metadata": {
    "ExecuteTime": {
     "end_time": "2021-11-10T16:36:48.739686Z",
     "start_time": "2021-11-10T16:36:48.684000Z"
    }
   },
   "source": [
    "# Выбор признаков для задачи классификации\n",
    "## На входе вещ. признаки, на выходе - категориальные"
   ]
  },
  {
   "cell_type": "code",
   "execution_count": 13,
   "id": "6f35dd0e",
   "metadata": {
    "ExecuteTime": {
     "end_time": "2022-02-15T16:54:29.912835Z",
     "start_time": "2022-02-15T16:54:29.906230Z"
    }
   },
   "outputs": [],
   "source": [
    "X, y = make_classification(n_samples= 100, n_features=20, n_informative=2)"
   ]
  },
  {
   "cell_type": "code",
   "execution_count": 14,
   "id": "e5711a9f",
   "metadata": {
    "ExecuteTime": {
     "end_time": "2022-02-15T16:54:30.013007Z",
     "start_time": "2022-02-15T16:54:30.010356Z"
    }
   },
   "outputs": [],
   "source": [
    "# X[:5], y[:5]"
   ]
  },
  {
   "cell_type": "code",
   "execution_count": 15,
   "id": "1b4b9a9c",
   "metadata": {
    "ExecuteTime": {
     "end_time": "2022-02-15T16:54:30.136685Z",
     "start_time": "2022-02-15T16:54:30.132201Z"
    }
   },
   "outputs": [
    {
     "name": "stdout",
     "output_type": "stream",
     "text": [
      "(100, 2)\n"
     ]
    }
   ],
   "source": [
    "fs = SelectKBest(score_func=f_classif, k=2)\n",
    "X_selected = fs.fit_transform(X, y)\n",
    "print(X_selected.shape)"
   ]
  },
  {
   "cell_type": "markdown",
   "id": "4ed3edf6",
   "metadata": {
    "ExecuteTime": {
     "end_time": "2021-11-11T07:38:36.794218Z",
     "start_time": "2021-11-11T07:38:36.792217Z"
    }
   },
   "source": [
    "## На входе и на выходе категориальные признаки: решаем реальную задачу"
   ]
  },
  {
   "cell_type": "markdown",
   "id": "a20aa171",
   "metadata": {
    "ExecuteTime": {
     "end_time": "2021-11-11T09:31:06.165128Z",
     "start_time": "2021-11-11T09:31:06.119448Z"
    }
   },
   "source": [
    "Набор данных - breast cancer - https://archive.ics.uci.edu/ml/datasets/Breast+Cancer"
   ]
  },
  {
   "cell_type": "code",
   "execution_count": 16,
   "id": "fe4069e1",
   "metadata": {
    "ExecuteTime": {
     "end_time": "2022-02-15T16:54:30.462713Z",
     "start_time": "2022-02-15T16:54:30.459423Z"
    }
   },
   "outputs": [],
   "source": [
    "from sklearn.model_selection import train_test_split\n",
    "from sklearn.preprocessing import LabelEncoder, OrdinalEncoder\n",
    "from sklearn.feature_selection import SelectKBest, chi2, mutual_info_classif\n",
    "from matplotlib import pyplot as plt\n",
    "from sklearn.linear_model import LogisticRegression\n",
    "from sklearn.metrics import accuracy_score, classification_report, mean_squared_error"
   ]
  },
  {
   "cell_type": "code",
   "execution_count": 17,
   "id": "f9604274",
   "metadata": {
    "ExecuteTime": {
     "end_time": "2022-02-15T16:54:30.576831Z",
     "start_time": "2022-02-15T16:54:30.569121Z"
    }
   },
   "outputs": [],
   "source": [
    "df = pd.read_csv('../data/breast_cancer/breast-cancer.data.csv')"
   ]
  },
  {
   "cell_type": "code",
   "execution_count": 18,
   "id": "c7f08b72",
   "metadata": {
    "ExecuteTime": {
     "end_time": "2022-02-15T16:54:30.708910Z",
     "start_time": "2022-02-15T16:54:30.705208Z"
    }
   },
   "outputs": [],
   "source": [
    "X = df.drop('Class', axis=1)\n",
    "y = df['Class']"
   ]
  },
  {
   "cell_type": "code",
   "execution_count": 19,
   "id": "8809eef0",
   "metadata": {
    "ExecuteTime": {
     "end_time": "2022-02-15T16:54:30.797286Z",
     "start_time": "2022-02-15T16:54:30.790270Z"
    }
   },
   "outputs": [
    {
     "name": "stdout",
     "output_type": "stream",
     "text": [
      "Train (191, 9) (191,)\n",
      "Test (95, 9) (95,)\n"
     ]
    }
   ],
   "source": [
    "X_train, X_test, y_train, y_test = train_test_split(X, y, test_size=0.33, random_state=1)\n",
    "\n",
    "print('Train', X_train.shape, y_train.shape)\n",
    "print('Test', X_test.shape, y_test.shape)"
   ]
  },
  {
   "cell_type": "code",
   "execution_count": 42,
   "id": "38fa0b04",
   "metadata": {
    "ExecuteTime": {
     "end_time": "2022-02-15T16:57:44.507942Z",
     "start_time": "2022-02-15T16:57:44.503434Z"
    }
   },
   "outputs": [
    {
     "ename": "SyntaxError",
     "evalue": "invalid syntax (2969659128.py, line 5)",
     "output_type": "error",
     "traceback": [
      "\u001b[0;36m  File \u001b[0;32m\"/var/folders/gj/7ywhphcj30gf3jmlqf436j3w0000gp/T/ipykernel_21804/2969659128.py\"\u001b[0;36m, line \u001b[0;32m5\u001b[0m\n\u001b[0;31m    X_train_enc = oe.transform(X_train)\u001b[0m\n\u001b[0m    ^\u001b[0m\n\u001b[0;31mSyntaxError\u001b[0m\u001b[0;31m:\u001b[0m invalid syntax\n"
     ]
    }
   ],
   "source": [
    "# prepare input data\n",
    "def prepare_inputs(X_train, X_test):\n",
    "    oe = OrdinalEncoder()\n",
    "    oe.fit(pd.concat([X_train,X_test])\n",
    "    X_train_enc = oe.transform(X_train)\n",
    "    X_test_enc = oe.transform(X_test)\n",
    "    return X_train_enc, X_test_enc"
   ]
  },
  {
   "cell_type": "code",
   "execution_count": 21,
   "id": "aa8750a2",
   "metadata": {
    "ExecuteTime": {
     "end_time": "2022-02-15T16:54:31.042197Z",
     "start_time": "2022-02-15T16:54:31.038610Z"
    }
   },
   "outputs": [],
   "source": [
    "# prepare target\n",
    "def prepare_targets(y_train, y_test):\n",
    "    le = LabelEncoder()\n",
    "    le.fit(y_train)\n",
    "    y_train_enc = le.transform(y_train)\n",
    "    y_test_enc = le.transform(y_test)\n",
    "    return y_train_enc, y_test_enc"
   ]
  },
  {
   "cell_type": "code",
   "execution_count": 22,
   "id": "87492ab5",
   "metadata": {
    "ExecuteTime": {
     "end_time": "2022-02-15T16:54:31.161249Z",
     "start_time": "2022-02-15T16:54:31.157556Z"
    }
   },
   "outputs": [],
   "source": [
    "# feature selection\n",
    "def select_features(X_train, y_train, X_test, method, k):\n",
    "    fs = SelectKBest(score_func=method, k=k)\n",
    "    fs.fit(X_train, y_train)\n",
    "    X_train_fs = fs.transform(X_train)\n",
    "    X_test_fs = fs.transform(X_test)\n",
    "    return X_train_fs, X_test_fs, fs"
   ]
  },
  {
   "cell_type": "code",
   "execution_count": 23,
   "id": "9c0b4893",
   "metadata": {
    "ExecuteTime": {
     "end_time": "2022-02-15T16:54:31.277168Z",
     "start_time": "2022-02-15T16:54:31.272624Z"
    }
   },
   "outputs": [],
   "source": [
    "def fit_evaluate_model(X_train, y_train, X_test, y_test):\n",
    "    model = LogisticRegression(solver='lbfgs')\n",
    "    model.fit(X_train, y_train)\n",
    "    y_train_pred = model.predict(X_train)\n",
    "    y_test_pred = model.predict(X_test)\n",
    "    print(classification_report(y_train, y_train_pred, digits=3))\n",
    "    print(classification_report(y_test, y_test_pred, digits=3))\n",
    "    return model"
   ]
  },
  {
   "cell_type": "code",
   "execution_count": 38,
   "id": "891dc5a6",
   "metadata": {
    "ExecuteTime": {
     "end_time": "2022-02-15T16:56:35.147233Z",
     "start_time": "2022-02-15T16:56:35.141842Z"
    }
   },
   "outputs": [
    {
     "data": {
      "text/plain": [
       "age            0\n",
       "menopause      0\n",
       "tumor-size     0\n",
       "inv-nodes      0\n",
       "node-caps      0\n",
       "deg-malig      0\n",
       "breast         0\n",
       "breast-quad    0\n",
       "irradiat       0\n",
       "dtype: int64"
      ]
     },
     "execution_count": 38,
     "metadata": {},
     "output_type": "execute_result"
    }
   ],
   "source": [
    "X_train.isnull().sum()"
   ]
  },
  {
   "cell_type": "code",
   "execution_count": 41,
   "id": "6dab91ab",
   "metadata": {
    "ExecuteTime": {
     "end_time": "2022-02-15T16:57:05.275385Z",
     "start_time": "2022-02-15T16:57:05.261531Z"
    }
   },
   "outputs": [
    {
     "data": {
      "text/html": [
       "<div>\n",
       "<style scoped>\n",
       "    .dataframe tbody tr th:only-of-type {\n",
       "        vertical-align: middle;\n",
       "    }\n",
       "\n",
       "    .dataframe tbody tr th {\n",
       "        vertical-align: top;\n",
       "    }\n",
       "\n",
       "    .dataframe thead th {\n",
       "        text-align: right;\n",
       "    }\n",
       "</style>\n",
       "<table border=\"1\" class=\"dataframe\">\n",
       "  <thead>\n",
       "    <tr style=\"text-align: right;\">\n",
       "      <th></th>\n",
       "      <th>age</th>\n",
       "      <th>menopause</th>\n",
       "      <th>tumor-size</th>\n",
       "      <th>inv-nodes</th>\n",
       "      <th>node-caps</th>\n",
       "      <th>deg-malig</th>\n",
       "      <th>breast</th>\n",
       "      <th>breast-quad</th>\n",
       "      <th>irradiat</th>\n",
       "    </tr>\n",
       "  </thead>\n",
       "  <tbody>\n",
       "    <tr>\n",
       "      <th>213</th>\n",
       "      <td>50-59</td>\n",
       "      <td>premeno</td>\n",
       "      <td>25-29</td>\n",
       "      <td>0-2</td>\n",
       "      <td>no</td>\n",
       "      <td>1</td>\n",
       "      <td>right</td>\n",
       "      <td>left_up</td>\n",
       "      <td>no</td>\n",
       "    </tr>\n",
       "    <tr>\n",
       "      <th>200</th>\n",
       "      <td>60-69</td>\n",
       "      <td>ge40</td>\n",
       "      <td>25-29</td>\n",
       "      <td>0-2</td>\n",
       "      <td>no</td>\n",
       "      <td>3</td>\n",
       "      <td>right</td>\n",
       "      <td>left_low</td>\n",
       "      <td>no</td>\n",
       "    </tr>\n",
       "    <tr>\n",
       "      <th>48</th>\n",
       "      <td>40-49</td>\n",
       "      <td>premeno</td>\n",
       "      <td>20-24</td>\n",
       "      <td>0-2</td>\n",
       "      <td>no</td>\n",
       "      <td>1</td>\n",
       "      <td>right</td>\n",
       "      <td>right_up</td>\n",
       "      <td>no</td>\n",
       "    </tr>\n",
       "    <tr>\n",
       "      <th>261</th>\n",
       "      <td>40-49</td>\n",
       "      <td>ge40</td>\n",
       "      <td>25-29</td>\n",
       "      <td>12-14</td>\n",
       "      <td>yes</td>\n",
       "      <td>3</td>\n",
       "      <td>left</td>\n",
       "      <td>right_low</td>\n",
       "      <td>yes</td>\n",
       "    </tr>\n",
       "    <tr>\n",
       "      <th>279</th>\n",
       "      <td>50-59</td>\n",
       "      <td>ge40</td>\n",
       "      <td>40-44</td>\n",
       "      <td>6-8</td>\n",
       "      <td>yes</td>\n",
       "      <td>3</td>\n",
       "      <td>left</td>\n",
       "      <td>left_low</td>\n",
       "      <td>yes</td>\n",
       "    </tr>\n",
       "    <tr>\n",
       "      <th>...</th>\n",
       "      <td>...</td>\n",
       "      <td>...</td>\n",
       "      <td>...</td>\n",
       "      <td>...</td>\n",
       "      <td>...</td>\n",
       "      <td>...</td>\n",
       "      <td>...</td>\n",
       "      <td>...</td>\n",
       "      <td>...</td>\n",
       "    </tr>\n",
       "    <tr>\n",
       "      <th>203</th>\n",
       "      <td>50-59</td>\n",
       "      <td>ge40</td>\n",
       "      <td>35-39</td>\n",
       "      <td>0-2</td>\n",
       "      <td>no</td>\n",
       "      <td>2</td>\n",
       "      <td>left</td>\n",
       "      <td>left_low</td>\n",
       "      <td>no</td>\n",
       "    </tr>\n",
       "    <tr>\n",
       "      <th>255</th>\n",
       "      <td>40-49</td>\n",
       "      <td>premeno</td>\n",
       "      <td>30-34</td>\n",
       "      <td>6-8</td>\n",
       "      <td>yes</td>\n",
       "      <td>3</td>\n",
       "      <td>right</td>\n",
       "      <td>left_up</td>\n",
       "      <td>no</td>\n",
       "    </tr>\n",
       "    <tr>\n",
       "      <th>72</th>\n",
       "      <td>60-69</td>\n",
       "      <td>ge40</td>\n",
       "      <td>20-24</td>\n",
       "      <td>0-2</td>\n",
       "      <td>no</td>\n",
       "      <td>2</td>\n",
       "      <td>left</td>\n",
       "      <td>left_up</td>\n",
       "      <td>no</td>\n",
       "    </tr>\n",
       "    <tr>\n",
       "      <th>235</th>\n",
       "      <td>50-59</td>\n",
       "      <td>premeno</td>\n",
       "      <td>25-29</td>\n",
       "      <td>3-5</td>\n",
       "      <td>yes</td>\n",
       "      <td>3</td>\n",
       "      <td>left</td>\n",
       "      <td>left_low</td>\n",
       "      <td>yes</td>\n",
       "    </tr>\n",
       "    <tr>\n",
       "      <th>37</th>\n",
       "      <td>50-59</td>\n",
       "      <td>ge40</td>\n",
       "      <td>15-19</td>\n",
       "      <td>0-2</td>\n",
       "      <td>no</td>\n",
       "      <td>1</td>\n",
       "      <td>right</td>\n",
       "      <td>central</td>\n",
       "      <td>no</td>\n",
       "    </tr>\n",
       "  </tbody>\n",
       "</table>\n",
       "<p>191 rows × 9 columns</p>\n",
       "</div>"
      ],
      "text/plain": [
       "       age menopause tumor-size inv-nodes node-caps  deg-malig breast  \\\n",
       "213  50-59   premeno      25-29       0-2        no          1  right   \n",
       "200  60-69      ge40      25-29       0-2        no          3  right   \n",
       "48   40-49   premeno      20-24       0-2        no          1  right   \n",
       "261  40-49      ge40      25-29     12-14       yes          3   left   \n",
       "279  50-59      ge40      40-44       6-8       yes          3   left   \n",
       "..     ...       ...        ...       ...       ...        ...    ...   \n",
       "203  50-59      ge40      35-39       0-2        no          2   left   \n",
       "255  40-49   premeno      30-34       6-8       yes          3  right   \n",
       "72   60-69      ge40      20-24       0-2        no          2   left   \n",
       "235  50-59   premeno      25-29       3-5       yes          3   left   \n",
       "37   50-59      ge40      15-19       0-2        no          1  right   \n",
       "\n",
       "    breast-quad irradiat  \n",
       "213     left_up       no  \n",
       "200    left_low       no  \n",
       "48     right_up       no  \n",
       "261   right_low      yes  \n",
       "279    left_low      yes  \n",
       "..          ...      ...  \n",
       "203    left_low       no  \n",
       "255     left_up       no  \n",
       "72      left_up       no  \n",
       "235    left_low      yes  \n",
       "37      central       no  \n",
       "\n",
       "[191 rows x 9 columns]"
      ]
     },
     "execution_count": 41,
     "metadata": {},
     "output_type": "execute_result"
    }
   ],
   "source": [
    "X_train"
   ]
  },
  {
   "cell_type": "code",
   "execution_count": 40,
   "id": "2c33b05c",
   "metadata": {
    "ExecuteTime": {
     "end_time": "2022-02-15T16:56:57.286119Z",
     "start_time": "2022-02-15T16:56:57.264907Z"
    }
   },
   "outputs": [
    {
     "ename": "ValueError",
     "evalue": "Found unknown categories ['24-26'] in column 3 during transform",
     "output_type": "error",
     "traceback": [
      "\u001b[0;31m---------------------------------------------------------------------------\u001b[0m",
      "\u001b[0;31mValueError\u001b[0m                                Traceback (most recent call last)",
      "\u001b[0;32m/var/folders/gj/7ywhphcj30gf3jmlqf436j3w0000gp/T/ipykernel_21804/2650629084.py\u001b[0m in \u001b[0;36m<module>\u001b[0;34m\u001b[0m\n\u001b[0;32m----> 1\u001b[0;31m \u001b[0mX_train_enc\u001b[0m\u001b[0;34m,\u001b[0m \u001b[0mX_test_enc\u001b[0m \u001b[0;34m=\u001b[0m \u001b[0mprepare_inputs\u001b[0m\u001b[0;34m(\u001b[0m\u001b[0mX_train\u001b[0m\u001b[0;34m,\u001b[0m \u001b[0mX_test\u001b[0m\u001b[0;34m)\u001b[0m\u001b[0;34m\u001b[0m\u001b[0;34m\u001b[0m\u001b[0m\n\u001b[0m\u001b[1;32m      2\u001b[0m \u001b[0my_train_enc\u001b[0m\u001b[0;34m,\u001b[0m \u001b[0my_test_enc\u001b[0m \u001b[0;34m=\u001b[0m \u001b[0mprepare_targets\u001b[0m\u001b[0;34m(\u001b[0m\u001b[0my_train\u001b[0m\u001b[0;34m,\u001b[0m \u001b[0my_test\u001b[0m\u001b[0;34m)\u001b[0m\u001b[0;34m\u001b[0m\u001b[0;34m\u001b[0m\u001b[0m\n",
      "\u001b[0;32m/var/folders/gj/7ywhphcj30gf3jmlqf436j3w0000gp/T/ipykernel_21804/1995983235.py\u001b[0m in \u001b[0;36mprepare_inputs\u001b[0;34m(X_train, X_test)\u001b[0m\n\u001b[1;32m      4\u001b[0m     \u001b[0moe\u001b[0m\u001b[0;34m.\u001b[0m\u001b[0mfit\u001b[0m\u001b[0;34m(\u001b[0m\u001b[0mX_train\u001b[0m\u001b[0;34m)\u001b[0m\u001b[0;34m\u001b[0m\u001b[0;34m\u001b[0m\u001b[0m\n\u001b[1;32m      5\u001b[0m     \u001b[0mX_train_enc\u001b[0m \u001b[0;34m=\u001b[0m \u001b[0moe\u001b[0m\u001b[0;34m.\u001b[0m\u001b[0mtransform\u001b[0m\u001b[0;34m(\u001b[0m\u001b[0mX_train\u001b[0m\u001b[0;34m)\u001b[0m\u001b[0;34m\u001b[0m\u001b[0;34m\u001b[0m\u001b[0m\n\u001b[0;32m----> 6\u001b[0;31m     \u001b[0mX_test_enc\u001b[0m \u001b[0;34m=\u001b[0m \u001b[0moe\u001b[0m\u001b[0;34m.\u001b[0m\u001b[0mtransform\u001b[0m\u001b[0;34m(\u001b[0m\u001b[0mX_test\u001b[0m\u001b[0;34m)\u001b[0m\u001b[0;34m\u001b[0m\u001b[0;34m\u001b[0m\u001b[0m\n\u001b[0m\u001b[1;32m      7\u001b[0m     \u001b[0;32mreturn\u001b[0m \u001b[0mX_train_enc\u001b[0m\u001b[0;34m,\u001b[0m \u001b[0mX_test_enc\u001b[0m\u001b[0;34m\u001b[0m\u001b[0;34m\u001b[0m\u001b[0m\n",
      "\u001b[0;32m~/opt/anaconda3/envs/py39/lib/python3.9/site-packages/sklearn/preprocessing/_encoders.py\u001b[0m in \u001b[0;36mtransform\u001b[0;34m(self, X)\u001b[0m\n\u001b[1;32m    928\u001b[0m             \u001b[0mTransformed\u001b[0m \u001b[0minput\u001b[0m\u001b[0;34m.\u001b[0m\u001b[0;34m\u001b[0m\u001b[0;34m\u001b[0m\u001b[0m\n\u001b[1;32m    929\u001b[0m         \"\"\"\n\u001b[0;32m--> 930\u001b[0;31m         X_int, X_mask = self._transform(\n\u001b[0m\u001b[1;32m    931\u001b[0m             \u001b[0mX\u001b[0m\u001b[0;34m,\u001b[0m \u001b[0mhandle_unknown\u001b[0m\u001b[0;34m=\u001b[0m\u001b[0mself\u001b[0m\u001b[0;34m.\u001b[0m\u001b[0mhandle_unknown\u001b[0m\u001b[0;34m,\u001b[0m \u001b[0mforce_all_finite\u001b[0m\u001b[0;34m=\u001b[0m\u001b[0;34m\"allow-nan\"\u001b[0m\u001b[0;34m\u001b[0m\u001b[0;34m\u001b[0m\u001b[0m\n\u001b[1;32m    932\u001b[0m         )\n",
      "\u001b[0;32m~/opt/anaconda3/envs/py39/lib/python3.9/site-packages/sklearn/preprocessing/_encoders.py\u001b[0m in \u001b[0;36m_transform\u001b[0;34m(self, X, handle_unknown, force_all_finite, warn_on_unknown)\u001b[0m\n\u001b[1;32m    140\u001b[0m                         \u001b[0;34m\" during transform\"\u001b[0m\u001b[0;34m.\u001b[0m\u001b[0mformat\u001b[0m\u001b[0;34m(\u001b[0m\u001b[0mdiff\u001b[0m\u001b[0;34m,\u001b[0m \u001b[0mi\u001b[0m\u001b[0;34m)\u001b[0m\u001b[0;34m\u001b[0m\u001b[0;34m\u001b[0m\u001b[0m\n\u001b[1;32m    141\u001b[0m                     )\n\u001b[0;32m--> 142\u001b[0;31m                     \u001b[0;32mraise\u001b[0m \u001b[0mValueError\u001b[0m\u001b[0;34m(\u001b[0m\u001b[0mmsg\u001b[0m\u001b[0;34m)\u001b[0m\u001b[0;34m\u001b[0m\u001b[0;34m\u001b[0m\u001b[0m\n\u001b[0m\u001b[1;32m    143\u001b[0m                 \u001b[0;32melse\u001b[0m\u001b[0;34m:\u001b[0m\u001b[0;34m\u001b[0m\u001b[0;34m\u001b[0m\u001b[0m\n\u001b[1;32m    144\u001b[0m                     \u001b[0;32mif\u001b[0m \u001b[0mwarn_on_unknown\u001b[0m\u001b[0;34m:\u001b[0m\u001b[0;34m\u001b[0m\u001b[0;34m\u001b[0m\u001b[0m\n",
      "\u001b[0;31mValueError\u001b[0m: Found unknown categories ['24-26'] in column 3 during transform"
     ]
    }
   ],
   "source": [
    "X_train_enc, X_test_enc = prepare_inputs(X_train, X_test)\n",
    "y_train_enc, y_test_enc = prepare_targets(y_train, y_test)"
   ]
  },
  {
   "cell_type": "code",
   "execution_count": 33,
   "id": "754af44e",
   "metadata": {
    "ExecuteTime": {
     "end_time": "2022-02-15T16:55:40.534485Z",
     "start_time": "2022-02-15T16:55:40.526109Z"
    }
   },
   "outputs": [
    {
     "ename": "NameError",
     "evalue": "name 'y_train_enc' is not defined",
     "output_type": "error",
     "traceback": [
      "\u001b[0;31m---------------------------------------------------------------------------\u001b[0m",
      "\u001b[0;31mNameError\u001b[0m                                 Traceback (most recent call last)",
      "\u001b[0;32m/var/folders/gj/7ywhphcj30gf3jmlqf436j3w0000gp/T/ipykernel_21804/3717769512.py\u001b[0m in \u001b[0;36m<module>\u001b[0;34m\u001b[0m\n\u001b[0;32m----> 1\u001b[0;31m \u001b[0my_train_enc\u001b[0m\u001b[0;34m\u001b[0m\u001b[0;34m\u001b[0m\u001b[0m\n\u001b[0m",
      "\u001b[0;31mNameError\u001b[0m: name 'y_train_enc' is not defined"
     ]
    }
   ],
   "source": [
    "y_train_enc"
   ]
  },
  {
   "cell_type": "markdown",
   "id": "7776d9b0",
   "metadata": {},
   "source": [
    "Построим модель используя все признаки."
   ]
  },
  {
   "cell_type": "code",
   "execution_count": 26,
   "id": "d207ccb7",
   "metadata": {
    "ExecuteTime": {
     "end_time": "2022-02-15T16:54:31.754854Z",
     "start_time": "2022-02-15T16:54:31.746984Z"
    }
   },
   "outputs": [
    {
     "ename": "NameError",
     "evalue": "name 'X_train_enc' is not defined",
     "output_type": "error",
     "traceback": [
      "\u001b[0;31m---------------------------------------------------------------------------\u001b[0m",
      "\u001b[0;31mNameError\u001b[0m                                 Traceback (most recent call last)",
      "\u001b[0;32m/var/folders/gj/7ywhphcj30gf3jmlqf436j3w0000gp/T/ipykernel_21804/3720413693.py\u001b[0m in \u001b[0;36m<module>\u001b[0;34m\u001b[0m\n\u001b[0;32m----> 1\u001b[0;31m \u001b[0mmodel\u001b[0m \u001b[0;34m=\u001b[0m \u001b[0mfit_evaluate_model\u001b[0m\u001b[0;34m(\u001b[0m\u001b[0mX_train_enc\u001b[0m\u001b[0;34m,\u001b[0m \u001b[0my_train_enc\u001b[0m\u001b[0;34m,\u001b[0m\u001b[0mX_test_enc\u001b[0m\u001b[0;34m,\u001b[0m\u001b[0my_test_enc\u001b[0m\u001b[0;34m)\u001b[0m\u001b[0;34m\u001b[0m\u001b[0;34m\u001b[0m\u001b[0m\n\u001b[0m",
      "\u001b[0;31mNameError\u001b[0m: name 'X_train_enc' is not defined"
     ]
    }
   ],
   "source": [
    "model = fit_evaluate_model(X_train_enc, y_train_enc,X_test_enc,y_test_enc)"
   ]
  },
  {
   "cell_type": "markdown",
   "id": "a18d7743",
   "metadata": {},
   "source": [
    "### Chi2 критерий"
   ]
  },
  {
   "cell_type": "markdown",
   "id": "f31d4262",
   "metadata": {
    "ExecuteTime": {
     "end_time": "2021-11-11T09:46:38.250688Z",
     "start_time": "2021-11-11T09:46:38.246806Z"
    }
   },
   "source": [
    "Отбираем признаки с помощью критерия Хи2."
   ]
  },
  {
   "cell_type": "code",
   "execution_count": 29,
   "id": "49a04165",
   "metadata": {
    "ExecuteTime": {
     "end_time": "2022-02-15T16:55:35.333748Z",
     "start_time": "2022-02-15T16:55:35.323318Z"
    }
   },
   "outputs": [
    {
     "ename": "NameError",
     "evalue": "name 'X_train_enc' is not defined",
     "output_type": "error",
     "traceback": [
      "\u001b[0;31m---------------------------------------------------------------------------\u001b[0m",
      "\u001b[0;31mNameError\u001b[0m                                 Traceback (most recent call last)",
      "\u001b[0;32m/var/folders/gj/7ywhphcj30gf3jmlqf436j3w0000gp/T/ipykernel_21804/4027169340.py\u001b[0m in \u001b[0;36m<module>\u001b[0;34m\u001b[0m\n\u001b[0;32m----> 1\u001b[0;31m \u001b[0mX_train_fs\u001b[0m\u001b[0;34m,\u001b[0m \u001b[0mX_test_fs\u001b[0m\u001b[0;34m,\u001b[0m \u001b[0mfs\u001b[0m \u001b[0;34m=\u001b[0m \u001b[0mselect_features\u001b[0m\u001b[0;34m(\u001b[0m\u001b[0mX_train_enc\u001b[0m\u001b[0;34m,\u001b[0m \u001b[0my_train_enc\u001b[0m\u001b[0;34m,\u001b[0m \u001b[0mX_test_enc\u001b[0m\u001b[0;34m,\u001b[0m \u001b[0mmethod\u001b[0m\u001b[0;34m=\u001b[0m\u001b[0mchi2\u001b[0m\u001b[0;34m,\u001b[0m \u001b[0mk\u001b[0m\u001b[0;34m=\u001b[0m\u001b[0;34m'all'\u001b[0m\u001b[0;34m)\u001b[0m\u001b[0;34m\u001b[0m\u001b[0;34m\u001b[0m\u001b[0m\n\u001b[0m\u001b[1;32m      2\u001b[0m \u001b[0;34m\u001b[0m\u001b[0m\n\u001b[1;32m      3\u001b[0m \u001b[0;32mfor\u001b[0m \u001b[0mi\u001b[0m \u001b[0;32min\u001b[0m \u001b[0mrange\u001b[0m\u001b[0;34m(\u001b[0m\u001b[0mlen\u001b[0m\u001b[0;34m(\u001b[0m\u001b[0mfs\u001b[0m\u001b[0;34m.\u001b[0m\u001b[0mscores_\u001b[0m\u001b[0;34m)\u001b[0m\u001b[0;34m)\u001b[0m\u001b[0;34m:\u001b[0m\u001b[0;34m\u001b[0m\u001b[0;34m\u001b[0m\u001b[0m\n\u001b[1;32m      4\u001b[0m     \u001b[0mprint\u001b[0m\u001b[0;34m(\u001b[0m\u001b[0;34m'Feature %d: %f'\u001b[0m \u001b[0;34m%\u001b[0m \u001b[0;34m(\u001b[0m\u001b[0mi\u001b[0m\u001b[0;34m,\u001b[0m \u001b[0mfs\u001b[0m\u001b[0;34m.\u001b[0m\u001b[0mscores_\u001b[0m\u001b[0;34m[\u001b[0m\u001b[0mi\u001b[0m\u001b[0;34m]\u001b[0m\u001b[0;34m)\u001b[0m\u001b[0;34m)\u001b[0m\u001b[0;34m\u001b[0m\u001b[0;34m\u001b[0m\u001b[0m\n\u001b[1;32m      5\u001b[0m \u001b[0;34m\u001b[0m\u001b[0m\n",
      "\u001b[0;31mNameError\u001b[0m: name 'X_train_enc' is not defined"
     ]
    }
   ],
   "source": [
    "X_train_fs, X_test_fs, fs = select_features(X_train_enc, y_train_enc, X_test_enc, method=chi2, k='all')\n",
    "\n",
    "for i in range(len(fs.scores_)):\n",
    "    print('Feature %d: %f' % (i, fs.scores_[i]))\n",
    "\n",
    "plt.bar([i for i in range(len(fs.scores_))], fs.scores_)\n",
    "plt.show()"
   ]
  },
  {
   "cell_type": "markdown",
   "id": "0784bbc1",
   "metadata": {},
   "source": [
    "Построим модель на топ признаках полученных с помощью критерия Хи2."
   ]
  },
  {
   "cell_type": "code",
   "execution_count": 30,
   "id": "0ecf1aac",
   "metadata": {
    "ExecuteTime": {
     "end_time": "2022-02-15T16:55:35.629668Z",
     "start_time": "2022-02-15T16:55:35.620333Z"
    }
   },
   "outputs": [
    {
     "ename": "NameError",
     "evalue": "name 'X_train_enc' is not defined",
     "output_type": "error",
     "traceback": [
      "\u001b[0;31m---------------------------------------------------------------------------\u001b[0m",
      "\u001b[0;31mNameError\u001b[0m                                 Traceback (most recent call last)",
      "\u001b[0;32m/var/folders/gj/7ywhphcj30gf3jmlqf436j3w0000gp/T/ipykernel_21804/1822102738.py\u001b[0m in \u001b[0;36m<module>\u001b[0;34m\u001b[0m\n\u001b[0;32m----> 1\u001b[0;31m \u001b[0mX_train_fs\u001b[0m\u001b[0;34m,\u001b[0m \u001b[0mX_test_fs\u001b[0m\u001b[0;34m,\u001b[0m \u001b[0mfs\u001b[0m \u001b[0;34m=\u001b[0m \u001b[0mselect_features\u001b[0m\u001b[0;34m(\u001b[0m\u001b[0mX_train_enc\u001b[0m\u001b[0;34m,\u001b[0m \u001b[0my_train_enc\u001b[0m\u001b[0;34m,\u001b[0m \u001b[0mX_test_enc\u001b[0m\u001b[0;34m,\u001b[0m \u001b[0mmethod\u001b[0m\u001b[0;34m=\u001b[0m\u001b[0mchi2\u001b[0m\u001b[0;34m,\u001b[0m \u001b[0mk\u001b[0m\u001b[0;34m=\u001b[0m\u001b[0;36m4\u001b[0m\u001b[0;34m)\u001b[0m\u001b[0;34m\u001b[0m\u001b[0;34m\u001b[0m\u001b[0m\n\u001b[0m",
      "\u001b[0;31mNameError\u001b[0m: name 'X_train_enc' is not defined"
     ]
    }
   ],
   "source": [
    "X_train_fs, X_test_fs, fs = select_features(X_train_enc, y_train_enc, X_test_enc, method=chi2, k=4)"
   ]
  },
  {
   "cell_type": "code",
   "execution_count": 31,
   "id": "24ccad1c",
   "metadata": {
    "ExecuteTime": {
     "end_time": "2022-02-15T16:55:35.768192Z",
     "start_time": "2022-02-15T16:55:35.758790Z"
    }
   },
   "outputs": [
    {
     "ename": "NameError",
     "evalue": "name 'X_train_fs' is not defined",
     "output_type": "error",
     "traceback": [
      "\u001b[0;31m---------------------------------------------------------------------------\u001b[0m",
      "\u001b[0;31mNameError\u001b[0m                                 Traceback (most recent call last)",
      "\u001b[0;32m/var/folders/gj/7ywhphcj30gf3jmlqf436j3w0000gp/T/ipykernel_21804/1966070853.py\u001b[0m in \u001b[0;36m<module>\u001b[0;34m\u001b[0m\n\u001b[0;32m----> 1\u001b[0;31m \u001b[0mmodel\u001b[0m \u001b[0;34m=\u001b[0m \u001b[0mfit_evaluate_model\u001b[0m\u001b[0;34m(\u001b[0m\u001b[0mX_train_fs\u001b[0m\u001b[0;34m,\u001b[0m \u001b[0my_train_enc\u001b[0m\u001b[0;34m,\u001b[0m \u001b[0mX_test_fs\u001b[0m\u001b[0;34m,\u001b[0m \u001b[0my_test_enc\u001b[0m\u001b[0;34m)\u001b[0m\u001b[0;34m\u001b[0m\u001b[0;34m\u001b[0m\u001b[0m\n\u001b[0m",
      "\u001b[0;31mNameError\u001b[0m: name 'X_train_fs' is not defined"
     ]
    }
   ],
   "source": [
    "model = fit_evaluate_model(X_train_fs, y_train_enc, X_test_fs, y_test_enc)"
   ]
  },
  {
   "cell_type": "markdown",
   "id": "227d4bb6",
   "metadata": {},
   "source": [
    "Модель показывает хуже результат на трейне, но лучше на тесте, значит она стала лучше генерализировать."
   ]
  },
  {
   "cell_type": "markdown",
   "id": "4297ec72",
   "metadata": {},
   "source": [
    "### Метод mutual information "
   ]
  },
  {
   "cell_type": "markdown",
   "id": "2a17e520",
   "metadata": {
    "ExecuteTime": {
     "end_time": "2021-11-11T09:46:38.250688Z",
     "start_time": "2021-11-11T09:46:38.246806Z"
    }
   },
   "source": [
    "Отбираем признаки с помощью mutual information метода. Ваши результаты могут отличаться из-за стохастической природы алгоритма. Целесообразно запустить метод несколько раз и вывести средний результат важности признаков."
   ]
  },
  {
   "cell_type": "code",
   "execution_count": null,
   "id": "363300be",
   "metadata": {
    "ExecuteTime": {
     "end_time": "2022-02-15T16:53:56.707377Z",
     "start_time": "2022-02-15T16:53:56.707365Z"
    }
   },
   "outputs": [],
   "source": [
    "X_train_fs, X_test_fs, fs = select_features(X_train_enc, y_train_enc, X_test_enc, method=mutual_info_classif, k='all')\n",
    "\n",
    "for i in range(len(fs.scores_)):\n",
    "    print('Feature %d: %f' % (i, fs.scores_[i]))\n",
    "\n",
    "plt.bar([i for i in range(len(fs.scores_))], fs.scores_)\n",
    "plt.show()\n"
   ]
  },
  {
   "cell_type": "code",
   "execution_count": null,
   "id": "e57bac75",
   "metadata": {
    "ExecuteTime": {
     "end_time": "2022-02-15T16:53:56.708428Z",
     "start_time": "2022-02-15T16:53:56.708416Z"
    }
   },
   "outputs": [],
   "source": [
    "X_train_fs, X_test_fs, fs = select_features(X_train_enc, y_train_enc, X_test_enc, method=mutual_info_classif, k=4)"
   ]
  },
  {
   "cell_type": "code",
   "execution_count": null,
   "id": "497ccf77",
   "metadata": {
    "ExecuteTime": {
     "end_time": "2022-02-15T16:53:56.709724Z",
     "start_time": "2022-02-15T16:53:56.709706Z"
    }
   },
   "outputs": [],
   "source": [
    "model = fit_evaluate_model(X_train_fs, y_train_enc, X_test_fs, y_test_enc)"
   ]
  },
  {
   "cell_type": "markdown",
   "id": "e7b8d5ed",
   "metadata": {
    "ExecuteTime": {
     "end_time": "2021-11-11T10:08:23.475608Z",
     "start_time": "2021-11-11T10:08:23.467058Z"
    }
   },
   "source": [
    "Чтобы убедиться в том, какой алгоритм действительно даёт наилучший эффект, стоит повторить каждый эксперимент несколько раз и сравнить среднюю производительность.   \n",
    "Также может быть хорошей идеей изучить использование k-кратной перекрестной проверки вместо простого разделения на трен. / вал. выборки."
   ]
  },
  {
   "cell_type": "markdown",
   "id": "984ce024",
   "metadata": {},
   "source": [
    "# RFE"
   ]
  },
  {
   "cell_type": "code",
   "execution_count": null,
   "id": "2d05755d",
   "metadata": {
    "ExecuteTime": {
     "end_time": "2022-02-15T16:53:56.710827Z",
     "start_time": "2022-02-15T16:53:56.710810Z"
    }
   },
   "outputs": [],
   "source": [
    "from sklearn.svm import SVC\n",
    "from sklearn.model_selection import StratifiedKFold\n",
    "from sklearn.linear_model import LogisticRegression\n",
    "from sklearn.feature_selection import RFECV\n",
    "\n",
    "# Классификация с тремя информативными признаками\n",
    "X, y = make_classification(\n",
    "    n_samples=1000,\n",
    "    n_features=25,\n",
    "    n_informative=3,\n",
    "    n_redundant=2,\n",
    "    n_repeated=0,\n",
    "    n_classes=8,\n",
    "    n_clusters_per_class=1,\n",
    "    random_state=0,\n",
    ")"
   ]
  },
  {
   "cell_type": "code",
   "execution_count": null,
   "id": "ee46294a",
   "metadata": {
    "ExecuteTime": {
     "end_time": "2022-02-15T16:53:56.712175Z",
     "start_time": "2022-02-15T16:53:56.712161Z"
    }
   },
   "outputs": [],
   "source": [
    "# Создаём RFE объект\n",
    "svc = LogisticRegression()\n",
    "\n",
    "min_features_to_select = 1  # Минимальное возможное количество признаков\n",
    "rfecv = RFECV(\n",
    "    estimator=svc,\n",
    "    step=1,\n",
    "    cv=StratifiedKFold(2),\n",
    "    scoring=\"accuracy\",\n",
    "    min_features_to_select=min_features_to_select,\n",
    ")\n",
    "rfecv.fit(X, y)"
   ]
  },
  {
   "cell_type": "code",
   "execution_count": null,
   "id": "c742c291",
   "metadata": {
    "ExecuteTime": {
     "end_time": "2022-02-15T16:53:56.713127Z",
     "start_time": "2022-02-15T16:53:56.713114Z"
    }
   },
   "outputs": [],
   "source": [
    "print(\"Optimal number of features : %d\" % rfecv.n_features_)"
   ]
  },
  {
   "cell_type": "code",
   "execution_count": null,
   "id": "c0cf18c3",
   "metadata": {
    "ExecuteTime": {
     "end_time": "2022-02-15T16:53:56.714154Z",
     "start_time": "2022-02-15T16:53:56.714142Z"
    }
   },
   "outputs": [],
   "source": [
    "# Выведем количество признаков и соответствующие баллы перекрестной проверки\n",
    "plt.figure(figsize=(10,6))\n",
    "plt.xlabel(\"Number of features selected\")\n",
    "plt.ylabel(\"Cross validation score (accuracy)\")\n",
    "plt.plot(\n",
    "    range(min_features_to_select, len(rfecv.grid_scores_) + min_features_to_select),\n",
    "    rfecv.grid_scores_,\n",
    ")\n",
    "plt.show()"
   ]
  },
  {
   "cell_type": "markdown",
   "id": "e5ef319a",
   "metadata": {
    "ExecuteTime": {
     "end_time": "2021-11-11T10:54:33.361440Z",
     "start_time": "2021-11-11T10:54:33.357896Z"
    }
   },
   "source": [
    "# Model-based и последовательный отбор признаков"
   ]
  },
  {
   "cell_type": "code",
   "execution_count": null,
   "id": "6eaadcd8",
   "metadata": {
    "ExecuteTime": {
     "end_time": "2022-02-15T16:53:56.715773Z",
     "start_time": "2022-02-15T16:53:56.715756Z"
    }
   },
   "outputs": [],
   "source": [
    "from sklearn.datasets import load_diabetes\n",
    "import matplotlib.pyplot as plt\n",
    "import numpy as np\n",
    "from sklearn.linear_model import LassoCV"
   ]
  },
  {
   "cell_type": "code",
   "execution_count": null,
   "id": "9ca9a1ca",
   "metadata": {
    "ExecuteTime": {
     "end_time": "2022-02-15T16:53:56.716744Z",
     "start_time": "2022-02-15T16:53:56.716731Z"
    }
   },
   "outputs": [],
   "source": [
    "diabetes = load_diabetes()\n",
    "X, y = diabetes.data, diabetes.target"
   ]
  },
  {
   "cell_type": "code",
   "execution_count": null,
   "id": "e1a4f79b",
   "metadata": {
    "ExecuteTime": {
     "end_time": "2022-02-15T16:53:56.718418Z",
     "start_time": "2022-02-15T16:53:56.718400Z"
    }
   },
   "outputs": [],
   "source": [
    "print(diabetes.DESCR)"
   ]
  },
  {
   "cell_type": "markdown",
   "id": "3baa25a1",
   "metadata": {},
   "source": [
    "## Важность признаков из коэффициентов модели"
   ]
  },
  {
   "cell_type": "code",
   "execution_count": null,
   "id": "01464bce",
   "metadata": {
    "ExecuteTime": {
     "end_time": "2022-02-15T16:53:56.720067Z",
     "start_time": "2022-02-15T16:53:56.720044Z"
    }
   },
   "outputs": [],
   "source": [
    "lasso = LassoCV().fit(X, y)\n",
    "importance = np.abs(lasso.coef_)\n",
    "feature_names = np.array(diabetes.feature_names)\n",
    "plt.bar(height=importance, x=feature_names)\n",
    "plt.title(\"Feature importances via coefficients\")\n",
    "plt.show()"
   ]
  },
  {
   "cell_type": "markdown",
   "id": "748276b1",
   "metadata": {},
   "source": [
    "## Отбор признаков на основе их важности"
   ]
  },
  {
   "cell_type": "code",
   "execution_count": null,
   "id": "ac7c4e44",
   "metadata": {
    "ExecuteTime": {
     "end_time": "2022-02-15T16:53:56.721523Z",
     "start_time": "2022-02-15T16:53:56.721505Z"
    }
   },
   "outputs": [],
   "source": [
    "from sklearn.feature_selection import SelectFromModel\n",
    "from time import time\n",
    "\n",
    "threshold = np.sort(importance)[-3] + 0.01"
   ]
  },
  {
   "cell_type": "code",
   "execution_count": null,
   "id": "b8d2500c",
   "metadata": {
    "ExecuteTime": {
     "end_time": "2022-02-15T16:53:56.722779Z",
     "start_time": "2022-02-15T16:53:56.722762Z"
    }
   },
   "outputs": [],
   "source": [
    "threshold"
   ]
  },
  {
   "cell_type": "code",
   "execution_count": null,
   "id": "11027802",
   "metadata": {
    "ExecuteTime": {
     "end_time": "2022-02-15T16:53:56.724223Z",
     "start_time": "2022-02-15T16:53:56.724206Z"
    }
   },
   "outputs": [],
   "source": [
    "tic = time()\n",
    "sfm = SelectFromModel(lasso, threshold=threshold).fit(X, y)\n",
    "toc = time()\n",
    "print(f\"Features selected by SelectFromModel: {feature_names[sfm.get_support()]}\")\n",
    "print(f\"Done in {toc - tic:.3f}s\")"
   ]
  },
  {
   "cell_type": "markdown",
   "id": "96452854",
   "metadata": {},
   "source": [
    "## Отбор признаков c помощью последовательного отбора признаков"
   ]
  },
  {
   "cell_type": "code",
   "execution_count": null,
   "id": "c38e7810",
   "metadata": {
    "ExecuteTime": {
     "end_time": "2022-02-15T16:53:56.725685Z",
     "start_time": "2022-02-15T16:53:56.725666Z"
    }
   },
   "outputs": [],
   "source": [
    "from sklearn.feature_selection import SequentialFeatureSelector\n",
    "\n",
    "tic_fwd = time()\n",
    "sfs_forward = SequentialFeatureSelector(\n",
    "    lasso, n_features_to_select=2, direction=\"forward\"\n",
    ").fit(X, y)\n",
    "toc_fwd = time()\n",
    "\n",
    "tic_bwd = time()\n",
    "sfs_backward = SequentialFeatureSelector(\n",
    "    lasso, n_features_to_select=2, direction=\"backward\"\n",
    ").fit(X, y)\n",
    "toc_bwd = time()\n",
    "\n",
    "print(\n",
    "    \"Features selected by forward sequential selection: \"\n",
    "    f\"{feature_names[sfs_forward.get_support()]}\"\n",
    ")\n",
    "print(f\"Done in {toc_fwd - tic_fwd:.3f}s\")\n",
    "print(\n",
    "    \"Features selected by backward sequential selection: \"\n",
    "    f\"{feature_names[sfs_backward.get_support()]}\"\n",
    ")\n",
    "print(f\"Done in {toc_bwd - tic_bwd:.3f}s\")"
   ]
  },
  {
   "cell_type": "markdown",
   "id": "255f8f0d",
   "metadata": {},
   "source": [
    "## Анализ результатов"
   ]
  },
  {
   "cell_type": "markdown",
   "id": "18e253d0",
   "metadata": {},
   "source": [
    "Интересно, что при прямом и обратном выборе был выбран один и тот же набор функций. В общем случае это не так, и оба метода обычно приводят к разным результатам.\n",
    "\n",
    "Мы также отмечаем, что признаки, выбранные SFS, отличаются от выбранных по важности признаков: SFS выбирает bmi вместо s1. Это звучит разумно, поскольку bmi соответствует третьей по значимости характеристике по коэффициентам. Это весьма примечательно, учитывая, что SFS вообще не использует коэффициенты.\n",
    "\n",
    "В заключение отметим, что SelectFromModel значительно быстрее, чем SFS. Действительно, SelectFromModel нужно только один раз подогнать модель, в то время как SFS необходимо провести перекрестную проверку множества различных моделей для каждой итерации. Однако SFS работает с любой моделью, в то время как SelectFromModel требует, чтобы базовый оценщик (модель) предоставлял атрибут coef_ или атрибут feature_importances_. Прямая SFS быстрее, чем обратная SFS, потому что ей нужно выполнить только n_features_to_select = 2 итераций, в то время как обратная SFS должна выполнить n_features - n_features_to_select = 8 итераций."
   ]
  },
  {
   "cell_type": "markdown",
   "id": "3c7b3d74",
   "metadata": {},
   "source": [
    "# PCA"
   ]
  },
  {
   "cell_type": "markdown",
   "id": "b818aaa1",
   "metadata": {},
   "source": [
    "## По шагам"
   ]
  },
  {
   "cell_type": "code",
   "execution_count": null,
   "id": "dfe95a0e",
   "metadata": {
    "ExecuteTime": {
     "end_time": "2022-02-15T16:53:56.726897Z",
     "start_time": "2022-02-15T16:53:56.726881Z"
    }
   },
   "outputs": [],
   "source": [
    "import pandas as pd\n",
    "\n",
    "df_wine = pd.read_csv('https://archive.ics.uci.edu/ml/'\n",
    "                      'machine-learning-databases/wine/wine.data',\n",
    "                      header=None)\n",
    "df_wine.head()"
   ]
  },
  {
   "cell_type": "code",
   "execution_count": null,
   "id": "8bca758f",
   "metadata": {
    "ExecuteTime": {
     "end_time": "2022-02-15T16:53:56.727847Z",
     "start_time": "2022-02-15T16:53:56.727832Z"
    }
   },
   "outputs": [],
   "source": [
    "df_wine.shape"
   ]
  },
  {
   "cell_type": "code",
   "execution_count": null,
   "id": "f5e8212e",
   "metadata": {
    "ExecuteTime": {
     "end_time": "2022-02-15T16:53:56.729544Z",
     "start_time": "2022-02-15T16:53:56.729523Z"
    }
   },
   "outputs": [],
   "source": [
    "from sklearn.preprocessing import StandardScaler\n",
    "\n",
    "# split into training and testing sets\n",
    "X, y = df_wine.iloc[:, 1:].values, df_wine.iloc[:, 0].values\n",
    "X_train, X_test, y_train, y_test = train_test_split(\n",
    "    X, y, test_size=0.3,\n",
    "    stratify=y, random_state=0\n",
    ")\n",
    "# standardize the features\n",
    "sc = StandardScaler()\n",
    "X_train_std = sc.fit_transform(X_train)\n",
    "X_test_std = sc.transform(X_test)"
   ]
  },
  {
   "cell_type": "code",
   "execution_count": null,
   "id": "21364bb8",
   "metadata": {
    "ExecuteTime": {
     "end_time": "2022-02-15T16:53:56.731176Z",
     "start_time": "2022-02-15T16:53:56.731159Z"
    }
   },
   "outputs": [],
   "source": [
    "cov_mat = np.cov(X_train_std.T)\n",
    "eigen_vals, eigen_vecs = np.linalg.eig(cov_mat)"
   ]
  },
  {
   "cell_type": "code",
   "execution_count": null,
   "id": "9db69bee",
   "metadata": {
    "ExecuteTime": {
     "end_time": "2022-02-15T16:53:56.732704Z",
     "start_time": "2022-02-15T16:53:56.732685Z"
    }
   },
   "outputs": [],
   "source": [
    "eigen_vals"
   ]
  },
  {
   "cell_type": "code",
   "execution_count": null,
   "id": "af6adecb",
   "metadata": {
    "ExecuteTime": {
     "end_time": "2022-02-15T16:53:56.734185Z",
     "start_time": "2022-02-15T16:53:56.734166Z"
    }
   },
   "outputs": [],
   "source": [
    "# рассчитаем совокупную сумму объясненных отклонений\n",
    "tot = sum(eigen_vals)\n",
    "var_exp = [(i / tot) for i in sorted(eigen_vals, reverse=True)]\n",
    "cum_var_exp = np.cumsum(var_exp)\n",
    "\n",
    "# plot explained variances\n",
    "plt.bar(range(1,14), var_exp, alpha=0.5,\n",
    "        align='center', label='individual explained variance')\n",
    "plt.step(range(1,14), cum_var_exp, where='mid',\n",
    "         label='cumulative explained variance')\n",
    "plt.ylabel('Explained variance ratio')\n",
    "plt.xlabel('Principal component index')\n",
    "plt.legend(loc='best')\n",
    "plt.show()"
   ]
  },
  {
   "cell_type": "markdown",
   "id": "2dec19a5",
   "metadata": {},
   "source": [
    "Выполним трансформацию признаков:"
   ]
  },
  {
   "cell_type": "code",
   "execution_count": null,
   "id": "f48f6c73",
   "metadata": {
    "ExecuteTime": {
     "end_time": "2022-02-15T16:53:56.735508Z",
     "start_time": "2022-02-15T16:53:56.735491Z"
    }
   },
   "outputs": [],
   "source": [
    "eigen_pairs = [(np.abs(eigen_vals[i]), eigen_vecs[:, i]) for i in range(len(eigen_vals))]\n",
    "\n",
    "# Сортируем пары собст. чисел и векторов\n",
    "eigen_pairs.sort(key=lambda k: k[0], reverse=True)"
   ]
  },
  {
   "cell_type": "code",
   "execution_count": null,
   "id": "b0b2622e",
   "metadata": {
    "ExecuteTime": {
     "end_time": "2022-02-15T16:53:56.736950Z",
     "start_time": "2022-02-15T16:53:56.736933Z"
    }
   },
   "outputs": [],
   "source": [
    "# eigen_pairs"
   ]
  },
  {
   "cell_type": "code",
   "execution_count": null,
   "id": "26414c6f",
   "metadata": {
    "ExecuteTime": {
     "end_time": "2022-02-15T16:53:56.738307Z",
     "start_time": "2022-02-15T16:53:56.738291Z"
    }
   },
   "outputs": [],
   "source": [
    "w = np.hstack((eigen_pairs[0][1][:, np.newaxis], eigen_pairs[1][1][:, np.newaxis]))\n",
    "print('Matrix W:\\n', w)"
   ]
  },
  {
   "cell_type": "code",
   "execution_count": null,
   "id": "7c69278f",
   "metadata": {
    "ExecuteTime": {
     "end_time": "2022-02-15T16:53:56.739389Z",
     "start_time": "2022-02-15T16:53:56.739375Z"
    }
   },
   "outputs": [],
   "source": [
    "X_train_std[0]"
   ]
  },
  {
   "cell_type": "code",
   "execution_count": null,
   "id": "aceb1e75",
   "metadata": {
    "ExecuteTime": {
     "end_time": "2022-02-15T16:53:56.740633Z",
     "start_time": "2022-02-15T16:53:56.740618Z"
    }
   },
   "outputs": [],
   "source": [
    "X_train_std[0].dot(w)"
   ]
  },
  {
   "cell_type": "code",
   "execution_count": null,
   "id": "6c20700b",
   "metadata": {
    "ExecuteTime": {
     "end_time": "2022-02-15T16:53:56.742139Z",
     "start_time": "2022-02-15T16:53:56.742123Z"
    }
   },
   "outputs": [],
   "source": [
    "X_train_pca = X_train_std.dot(w)"
   ]
  },
  {
   "cell_type": "code",
   "execution_count": null,
   "id": "66f97bb6",
   "metadata": {
    "ExecuteTime": {
     "end_time": "2022-02-15T16:53:56.743282Z",
     "start_time": "2022-02-15T16:53:56.743268Z"
    }
   },
   "outputs": [],
   "source": [
    "colors = ['r', 'b', 'g']\n",
    "markers = ['s', 'x', 'o']\n",
    "for l, c, m in zip(np.unique(y_train), colors, markers):\n",
    "    plt.scatter(X_train_pca[y_train==l, 0], \n",
    "                X_train_pca[y_train==l, 1], \n",
    "                c=c, label=l, marker=m) \n",
    "plt.xlabel('PC 1')\n",
    "plt.ylabel('PC 2')\n",
    "plt.legend(loc='lower left')\n",
    "plt.show()"
   ]
  },
  {
   "cell_type": "markdown",
   "id": "18f934bd",
   "metadata": {},
   "source": [
    "## Sklearn"
   ]
  },
  {
   "cell_type": "code",
   "execution_count": null,
   "id": "729b8410",
   "metadata": {
    "ExecuteTime": {
     "end_time": "2022-02-15T16:53:56.744540Z",
     "start_time": "2022-02-15T16:53:56.744524Z"
    }
   },
   "outputs": [],
   "source": [
    "from sklearn.linear_model import LogisticRegression\n",
    "from sklearn.decomposition import PCA\n",
    "\n",
    "# intialize pca and logistic regression model\n",
    "pca = PCA(n_components=2)\n",
    "\n",
    "# fit and transform data\n",
    "X_train_pca = pca.fit_transform(X_train_std)\n",
    "X_test_pca = pca.transform(X_test_std)"
   ]
  },
  {
   "cell_type": "markdown",
   "id": "59d81a99",
   "metadata": {},
   "source": [
    "Сравним качество модели до уменьшения размерности признаков и после:"
   ]
  },
  {
   "cell_type": "code",
   "execution_count": null,
   "id": "a484d392",
   "metadata": {
    "ExecuteTime": {
     "end_time": "2022-02-15T16:53:56.745396Z",
     "start_time": "2022-02-15T16:53:56.745381Z"
    }
   },
   "outputs": [],
   "source": [
    "fit_evaluate_model(X_train_std, y_train, X_test_std, y_test)"
   ]
  },
  {
   "cell_type": "code",
   "execution_count": null,
   "id": "088a8349",
   "metadata": {
    "ExecuteTime": {
     "end_time": "2022-02-15T16:53:56.746606Z",
     "start_time": "2022-02-15T16:53:56.746590Z"
    }
   },
   "outputs": [],
   "source": [
    "fit_evaluate_model(X_train_pca, y_train, X_test_pca, y_test)"
   ]
  },
  {
   "cell_type": "markdown",
   "id": "f0259769",
   "metadata": {},
   "source": [
    "Мы использовали вместо 13 признаков всего 2 и качество ухудшелось не драматично."
   ]
  },
  {
   "cell_type": "code",
   "execution_count": null,
   "id": "7d1a6b9b",
   "metadata": {
    "ExecuteTime": {
     "end_time": "2022-02-15T16:53:56.748532Z",
     "start_time": "2022-02-15T16:53:56.748509Z"
    }
   },
   "outputs": [],
   "source": [
    "lr = LogisticRegression()\n",
    "lr.fit(X_train_pca, y_train)"
   ]
  },
  {
   "cell_type": "code",
   "execution_count": null,
   "id": "d6b599da",
   "metadata": {
    "ExecuteTime": {
     "end_time": "2022-02-15T16:53:56.749939Z",
     "start_time": "2022-02-15T16:53:56.749917Z"
    }
   },
   "outputs": [],
   "source": [
    "from matplotlib.colors import ListedColormap \n",
    "\n",
    "def plot_decision_regions(X, y, classifier, resolution=0.02):\n",
    "    markers = ('s', 'x', 'o', '^', 'v')\n",
    "    colors = ('red', 'blue', 'lightgreen', 'gray', 'cyan')\n",
    "    cmap = ListedColormap(colors[:len(np.unique(y))])\n",
    "\n",
    "    # построим поверхность решения\n",
    "    x1_min, x1_max = X[:, 0].min() - 1, X[:, 0].max() + 1\n",
    "    x2_min, x2_max = X[:, 1].min() - 1, X[:, 1].max() + 1\n",
    "    xx1, xx2 = np.meshgrid(np.arange(x1_min, x1_max, resolution),\n",
    "                           np.arange(x2_min, x2_max, resolution))\n",
    "    Z = classifier.predict(np.array([xx1.ravel(), xx2.ravel()]).T)\n",
    "    Z = Z.reshape(xx1.shape)\n",
    "    plt.contourf(xx1, xx2, Z, alpha=0.4, cmap=cmap)\n",
    "    plt.xlim(xx1.min(), xx1.max())\n",
    "    plt.ylim(xx2.min(), xx2.max())\n",
    "\n",
    "    # визуализируем классы экземпляров\n",
    "    for idx, cl in enumerate(np.unique(y)):\n",
    "        plt.scatter(x=X[y == cl, 0], \n",
    "                    y=X[y == cl, 1],\n",
    "                    alpha=0.6, \n",
    "                    c=[cmap(idx)],\n",
    "                    edgecolor='black',\n",
    "                    marker=markers[idx], \n",
    "                    label=cl) # участки принятия решений для обучающего набора\n",
    "\n",
    "\n",
    "plot_decision_regions(X_train_pca, y_train, classifier=lr)\n",
    "plt.xlabel('PC 1')\n",
    "plt.ylabel('PC 2')\n",
    "plt.legend(loc='lower left')\n",
    "plt.show()"
   ]
  },
  {
   "cell_type": "code",
   "execution_count": null,
   "id": "481c5ada",
   "metadata": {
    "ExecuteTime": {
     "end_time": "2022-02-15T16:53:56.751386Z",
     "start_time": "2022-02-15T16:53:56.751364Z"
    }
   },
   "outputs": [],
   "source": [
    "# участки принятия решений для тестового набора\n",
    "plot_decision_regions(X_test_pca, y_test, classifier=lr)\n",
    "plt.xlabel('PC1')\n",
    "plt.ylabel('PC2')\n",
    "plt.legend(loc='lower left')\n",
    "plt.show()"
   ]
  }
 ],
 "metadata": {
  "kernelspec": {
   "display_name": "Python 3 (ipykernel)",
   "language": "python",
   "name": "python3"
  },
  "language_info": {
   "codemirror_mode": {
    "name": "ipython",
    "version": 3
   },
   "file_extension": ".py",
   "mimetype": "text/x-python",
   "name": "python",
   "nbconvert_exporter": "python",
   "pygments_lexer": "ipython3",
   "version": "3.9.7"
  },
  "toc": {
   "base_numbering": 1,
   "nav_menu": {},
   "number_sections": true,
   "sideBar": true,
   "skip_h1_title": false,
   "title_cell": "Table of Contents",
   "title_sidebar": "Contents",
   "toc_cell": false,
   "toc_position": {},
   "toc_section_display": true,
   "toc_window_display": false
  }
 },
 "nbformat": 4,
 "nbformat_minor": 5
}
