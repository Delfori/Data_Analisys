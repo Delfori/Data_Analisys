{
 "cells": [
  {
   "cell_type": "markdown",
   "metadata": {},
   "source": [
    "# K-means кластеризация для сегментации пользователей, основанной на RFM переменных"
   ]
  },
  {
   "cell_type": "markdown",
   "metadata": {
    "ExecuteTime": {
     "end_time": "2021-11-11T14:52:48.768364Z",
     "start_time": "2021-11-11T14:52:48.765116Z"
    }
   },
   "source": [
    "В этом ДЗ будем решать задачу сегментации пользоватлей исходя из их недавности и частоты покупок, а также сумм трат на них."
   ]
  },
  {
   "cell_type": "markdown",
   "metadata": {},
   "source": [
    "Импорты расположите под этой клеткой."
   ]
  },
  {
   "cell_type": "code",
   "execution_count": null,
   "metadata": {},
   "outputs": [],
   "source": [
    "# ваш код тут"
   ]
  },
  {
   "cell_type": "markdown",
   "metadata": {},
   "source": [
    "Будем использовать набор данных из следующего источника: https://archive.ics.uci.edu/ml/datasets/online+retail "
   ]
  },
  {
   "cell_type": "markdown",
   "metadata": {},
   "source": [
    "1.Загрузите набор данных из файла. Выведите первые 5 записей и размер набора данных."
   ]
  },
  {
   "cell_type": "code",
   "execution_count": null,
   "metadata": {},
   "outputs": [],
   "source": [
    "# ваш код тут"
   ]
  },
  {
   "cell_type": "markdown",
   "metadata": {},
   "source": [
    "## Подготовка данных"
   ]
  },
  {
   "cell_type": "markdown",
   "metadata": {},
   "source": [
    "2.Проведите небольшой анализ данных.  \n",
    "2.1.Выведите результат метода describe() для числовых колонок. Выведите количество уникальных значений в каждой категориальной колонке."
   ]
  },
  {
   "cell_type": "code",
   "execution_count": null,
   "metadata": {},
   "outputs": [],
   "source": [
    "# ваш код тут"
   ]
  },
  {
   "cell_type": "markdown",
   "metadata": {},
   "source": [
    "2.1.1.Как можно объяснить то, что у переменных Quantity и UnitPrice минимальное значение отрицательное?   "
   ]
  },
  {
   "cell_type": "markdown",
   "metadata": {},
   "source": [
    "    ваш ответ тут"
   ]
  },
  {
   "cell_type": "markdown",
   "metadata": {},
   "source": [
    "2.1.2. Как вы считаете, стоит ли оставлять эти данные (с отрицательными значениями Quantity и UnitPrice) в наборе данных искходя из задачи, которую мы решаем? Аргументируйте свой ответ.  \n",
    "Если вы считаете, что эти строки надо удалить - удалите их."
   ]
  },
  {
   "cell_type": "markdown",
   "metadata": {},
   "source": [
    "    ваш ответ тут"
   ]
  },
  {
   "cell_type": "markdown",
   "metadata": {
    "ExecuteTime": {
     "end_time": "2021-11-11T14:41:47.041756Z",
     "start_time": "2021-11-11T14:41:47.032115Z"
    }
   },
   "source": [
    "2.2.Выведите процент отсутсвующих значений в каждой из колонок."
   ]
  },
  {
   "cell_type": "code",
   "execution_count": null,
   "metadata": {},
   "outputs": [],
   "source": [
    "# ваш код тут"
   ]
  },
  {
   "cell_type": "markdown",
   "metadata": {},
   "source": [
    "2.4. Удалите строки с отсутствующими значениями.\n"
   ]
  },
  {
   "cell_type": "code",
   "execution_count": null,
   "metadata": {
    "ExecuteTime": {
     "end_time": "2021-11-11T14:50:46.404870Z",
     "start_time": "2021-11-11T14:50:46.244234Z"
    }
   },
   "outputs": [],
   "source": [
    "# ваш код тут"
   ]
  },
  {
   "cell_type": "markdown",
   "metadata": {},
   "source": [
    "2.5. Выведите значения переменной Country отсортировав их по проценту присутствия в данных.  \n",
    "То есть вверху должно быть значение, которое наиболе часто присутствует в данных."
   ]
  },
  {
   "cell_type": "code",
   "execution_count": null,
   "metadata": {
    "ExecuteTime": {
     "end_time": "2021-11-11T14:50:46.404870Z",
     "start_time": "2021-11-11T14:50:46.244234Z"
    }
   },
   "outputs": [],
   "source": [
    "# ваш код тут"
   ]
  },
  {
   "cell_type": "markdown",
   "metadata": {
    "ExecuteTime": {
     "end_time": "2021-11-11T14:48:34.816766Z",
     "start_time": "2021-11-11T14:48:34.810147Z"
    }
   },
   "source": [
    "2.6.В наборе данных есть значение переменной Country, которое встречается чаще всего.   \n",
    "Отфильтруйте данные только до тех записей, которые имеют это значение переменной Country. Это упростит нам заадачу, к тому же для остальных значений Country маловато данных."
   ]
  },
  {
   "cell_type": "code",
   "execution_count": null,
   "metadata": {
    "ExecuteTime": {
     "end_time": "2021-11-11T14:50:46.404870Z",
     "start_time": "2021-11-11T14:50:46.244234Z"
    }
   },
   "outputs": [],
   "source": [
    "# ваш код тут"
   ]
  },
  {
   "cell_type": "markdown",
   "metadata": {
    "ExecuteTime": {
     "end_time": "2021-11-11T14:50:31.349827Z",
     "start_time": "2021-11-11T14:50:31.344787Z"
    }
   },
   "source": [
    "2.7. Создайте столбец Date из значений в столбце InvoiceDate. Столбец Date должен содержать дату в формате год-месяц-день, к примеру \"2021-10-24\"."
   ]
  },
  {
   "cell_type": "code",
   "execution_count": null,
   "metadata": {
    "ExecuteTime": {
     "end_time": "2021-11-11T14:50:46.404870Z",
     "start_time": "2021-11-11T14:50:46.244234Z"
    }
   },
   "outputs": [],
   "source": [
    "# ваш код тут"
   ]
  },
  {
   "cell_type": "markdown",
   "metadata": {},
   "source": [
    "Итак, на данный момент у нас есть все необходимые данные для решения задачи:\n",
    "- Customer ID\n",
    "- Unit Price\n",
    "- Quantity\n",
    "- Invoice Date"
   ]
  },
  {
   "cell_type": "markdown",
   "metadata": {},
   "source": [
    "## RFM"
   ]
  },
  {
   "cell_type": "markdown",
   "metadata": {},
   "source": [
    "Давность-частота-денежное выражение (Recency-Frequency-Monetary)\n",
    "    \n",
    "    \n",
    "RFM-анализ позволяет сегментировать клиентов по частоте и стоимости покупок и определять тех клиентов, которые тратят больше всего денег.\n",
    "\n",
    "* Давность - сколько времени прошло с тех пор, как клиент что-то купил у нас.\n",
    "* Частота - как часто клиент покупает у нас\n",
    "* Денежное выражение - общая стоимость покупок, совершенных покупателем.\n",
    "\n",
    "Логично предположить из описания выше, что **данные должны быть сгруппированы по клиентам**. Иначе нет смысла выводить Recency и Частоту."
   ]
  },
  {
   "cell_type": "markdown",
   "metadata": {},
   "source": [
    "3.1.Определите последнюю дату транзакции в наборе данных. Эта дата нам необходима, чтоб определять, как давно пользователь совершал покупку. Но данные исторические и если мы возьмём для расчёта recency фактическую сегодняшнюю дату, распределение recency будет сдвинуто в сторону нескольких сотен дней.     \n",
    "Чтоб распределение recency начиналось с нуля, за дату \"сегодня\" мы возьмём дату последней транзакции в наборе данных. Запишите найденную дату в переменную NOW."
   ]
  },
  {
   "cell_type": "code",
   "execution_count": null,
   "metadata": {
    "ExecuteTime": {
     "end_time": "2021-11-11T14:50:46.404870Z",
     "start_time": "2021-11-11T14:50:46.244234Z"
    }
   },
   "outputs": [],
   "source": [
    "# ваш код тут"
   ]
  },
  {
   "cell_type": "markdown",
   "metadata": {},
   "source": [
    "### Recency"
   ]
  },
  {
   "cell_type": "markdown",
   "metadata": {},
   "source": [
    "3.2.В переменную R_df запишите recency dataframe, который состоит из колонок CustomerID, Last_Purchase_Date и Recency,   \n",
    "где   \n",
    "   - Last_Purchase_Date - это дата последней покупки клиента,  \n",
    "   - Recency - сколько дней прошло с даты последней покупки клиента до NOW."
   ]
  },
  {
   "cell_type": "code",
   "execution_count": null,
   "metadata": {
    "ExecuteTime": {
     "end_time": "2021-11-11T14:50:46.404870Z",
     "start_time": "2021-11-11T14:50:46.244234Z"
    }
   },
   "outputs": [],
   "source": [
    "# ваш код тут"
   ]
  },
  {
   "cell_type": "markdown",
   "metadata": {},
   "source": [
    "### Frequency - Monetary"
   ]
  },
  {
   "cell_type": "markdown",
   "metadata": {},
   "source": [
    "3.3.Создайте Frequency - Monetary dataframe в переменной FM_df.  \n",
    "Датафрейм должен содержать \n",
    "- CustomerID - идентификатор клиента\n",
    "- Frequency - количество покупок клиента (количество уникальных инвойсов)\n",
    "- Monetary - сколько денег в магазине потратил клиент "
   ]
  },
  {
   "cell_type": "code",
   "execution_count": null,
   "metadata": {
    "ExecuteTime": {
     "end_time": "2021-11-11T14:50:46.404870Z",
     "start_time": "2021-11-11T14:50:46.244234Z"
    }
   },
   "outputs": [],
   "source": [
    "# ваш код тут"
   ]
  },
  {
   "cell_type": "markdown",
   "metadata": {},
   "source": [
    "### RFM\n",
    "3.4.Создайте RFM_df, который является объединением R_df и FM_df по идентификатору клиента."
   ]
  },
  {
   "cell_type": "code",
   "execution_count": null,
   "metadata": {
    "ExecuteTime": {
     "end_time": "2021-11-11T14:50:46.404870Z",
     "start_time": "2021-11-11T14:50:46.244234Z"
    }
   },
   "outputs": [],
   "source": [
    "# ваш код тут"
   ]
  },
  {
   "cell_type": "markdown",
   "metadata": {},
   "source": [
    "## K-means для RFM сегментации"
   ]
  },
  {
   "cell_type": "markdown",
   "metadata": {},
   "source": [
    "K-means дает лучший результат при следующих условиях:\n",
    "- Распределение данных не искажено (т.е. нет длинных хвостов)\n",
    "- Данные стандартизированы (т.е. среднее значение 0 и стандартное отклонение 1)."
   ]
  },
  {
   "cell_type": "markdown",
   "metadata": {},
   "source": [
    "4.1.Постройте диаграммы распределения данных (к примеру sns.distplot) для колонок Recency, Frequency и Monetary в RFM_df.  \n",
    "Выведите коэффициент ассиметрии для каждой из колонок.\n"
   ]
  },
  {
   "cell_type": "code",
   "execution_count": null,
   "metadata": {
    "ExecuteTime": {
     "end_time": "2021-11-11T14:50:46.404870Z",
     "start_time": "2021-11-11T14:50:46.244234Z"
    }
   },
   "outputs": [],
   "source": [
    "# ваш код тут"
   ]
  },
  {
   "cell_type": "markdown",
   "metadata": {},
   "source": [
    "Данные сильно искажены, поэтому мы выполним над ними log преобразования, чтобы уменьшить асимметрию каждой переменной.\n",
    "\n",
    "4.2.Над каждой из переменных 'Recency','Frequency','Monetary' выполните преобразование log(x+1).   \n",
    "Добавляем константу поскольку log преобразование требует, чтобы все значения были положительными.  \n",
    "Отобразите распределение переменных после преобразования."
   ]
  },
  {
   "cell_type": "code",
   "execution_count": null,
   "metadata": {
    "ExecuteTime": {
     "end_time": "2021-11-11T14:50:46.404870Z",
     "start_time": "2021-11-11T14:50:46.244234Z"
    }
   },
   "outputs": [],
   "source": [
    "# ваш код тут"
   ]
  },
  {
   "cell_type": "markdown",
   "metadata": {
    "ExecuteTime": {
     "end_time": "2021-11-11T15:25:39.756193Z",
     "start_time": "2021-11-11T15:25:39.752264Z"
    }
   },
   "source": [
    "4.3.Видим, что у нас всё равно остались \"хвосты\". Уберём их с использованием техники **Winsorizing**.    \n",
    "\n",
    "Прочитайте о ней здесь: https://en.wikipedia.org/wiki/Winsorizing.    \n",
    "\n",
    "Для использования техники будем использовать бибиотеку [feature_engine](https://feature-engine.readthedocs.io/en/1.1.x/).    \n",
    "Установите её.\n"
   ]
  },
  {
   "cell_type": "markdown",
   "metadata": {},
   "source": [
    "Нам необходим объект Winsorizer. Импортируйте его с помощью \n",
    "`from feature_engine.outliers import Winsorizer`."
   ]
  },
  {
   "cell_type": "markdown",
   "metadata": {},
   "source": [
    "В переменной windsoriser cоздайте экземпляр класса Winsorizer cо значениями переменных `tail='both'`, `fold=2`, а в `variables` передайте названия переменных, которые мы хотим преобразовать.  \n",
    "Вызовите метод fit()."
   ]
  },
  {
   "cell_type": "code",
   "execution_count": null,
   "metadata": {
    "ExecuteTime": {
     "end_time": "2021-11-11T14:50:46.404870Z",
     "start_time": "2021-11-11T14:50:46.244234Z"
    }
   },
   "outputs": [],
   "source": [
    "# ваш код тут\n",
    "windsoriser = Winsorizer(...)"
   ]
  },
  {
   "cell_type": "markdown",
   "metadata": {},
   "source": [
    "Вызовем трансформацию:"
   ]
  },
  {
   "cell_type": "code",
   "execution_count": null,
   "metadata": {
    "ExecuteTime": {
     "end_time": "2021-11-11T15:30:01.124156Z",
     "start_time": "2021-11-11T15:30:01.117103Z"
    }
   },
   "outputs": [],
   "source": [
    "... = windsoriser.transform(...)"
   ]
  },
  {
   "cell_type": "markdown",
   "metadata": {},
   "source": [
    "4.4. Стандартизируйте наши RFM переменные так, чтоб среднее было в 0, а стандартное отклонение равнялось 1. Тут не надо делить на трейн и тест, можем работать сразу с полным набором данных."
   ]
  },
  {
   "cell_type": "code",
   "execution_count": null,
   "metadata": {
    "ExecuteTime": {
     "end_time": "2021-11-11T14:50:46.404870Z",
     "start_time": "2021-11-11T14:50:46.244234Z"
    }
   },
   "outputs": [],
   "source": [
    "# ваш код тут"
   ]
  },
  {
   "cell_type": "markdown",
   "metadata": {},
   "source": [
    "4.5. Найдите оптимальное количество кластеров с помощьб Elbow Method.   \n",
    "Запустите KMeans кластеризацию на подготовленных стандартизированных RFM данных c параметром K от 1 до 10 включительно.   \n",
    "Выполнить это можно в цикле.   \n",
    "Отобразите графически полученные результаты о значении сум внутрикластерных расстояний (в sklearn его называют inertia) для разных значений K."
   ]
  },
  {
   "cell_type": "code",
   "execution_count": null,
   "metadata": {
    "ExecuteTime": {
     "end_time": "2021-11-11T14:50:46.404870Z",
     "start_time": "2021-11-11T14:50:46.244234Z"
    }
   },
   "outputs": [],
   "source": [
    "# ваш код тут"
   ]
  },
  {
   "cell_type": "markdown",
   "metadata": {},
   "source": [
    "Значение кластера, при котором уменьшение значения inertia становится постоянным, можно выбрать в качестве правильного значения кластера для наших данных.  \n",
    "Давайте попробуем использовать значения К от 3 до 5."
   ]
  },
  {
   "cell_type": "markdown",
   "metadata": {},
   "source": [
    "4.6.Создайте функцию, которая будет принимать набор данных для обучения (стандартизированные данные), значение К и набор данных с оригинальными (до стандартизации) значениями (назовём его original_df_rfm).\n",
    "\n",
    "Внутри функции необходимо\n",
    "1. Обучить на стандартизированных данных Kmeans с количеством кластеров К, которое является аргументом функции.\n",
    "2. Получить идентификаторы кластеров (лейблы).\n",
    "3. Создать новый датафрейм как копию original_df_rfm.\n",
    "4. К набору данных, полученному в п.3 добавьте колонку со значением кластера для данной строки.\n",
    "5. Выполните уменьшение размерности с помощью TSNE (можете попробовать вместо TSNE использовать PCA, и сравнить визуально результаты).\n",
    "6. Отобразить результаты кластеризации.\n",
    "\n",
    "Пункты 5 и 6 уже реалихованы за вас.\n",
    "Запустите функцию для значений K = {3,4,5}.   \n",
    "**Наша цель** - с помощью визуализаций понять, какое количество кластеров оптимально."
   ]
  },
  {
   "cell_type": "code",
   "execution_count": null,
   "metadata": {
    "ExecuteTime": {
     "end_time": "2021-11-11T15:39:43.101968Z",
     "start_time": "2021-11-11T15:39:43.097975Z"
    }
   },
   "outputs": [],
   "source": [
    "from sklearn.manifold import TSNE\n",
    "\n",
    "def fit_visualize_kmeans(..., clusters_number, original_df_rfm):\n",
    "\n",
    "    ...\n",
    "    cluster_labels = ...\n",
    "        \n",
    "    # Копия original_df_rfm с доп колонкой, содержащей лейблы кластеров\n",
    "    df_new = ...\n",
    "    \n",
    "    # Инициируем TSNE\n",
    "    model = TSNE(random_state=1)\n",
    "    transformed = model.fit_transform(df_new)\n",
    "    \n",
    "    # Визуализируем результаты TSNE трансформации\n",
    "    plt.title('Flattened Graph of {} Clusters'.format(clusters_number))\n",
    "    params = dict(\n",
    "        x=transformed[:,0], \n",
    "        y=transformed[:,1],\n",
    "        hue=cluster_labels, \n",
    "        style=cluster_labels, \n",
    "        palette=\"Set1\"\n",
    "    )\n",
    "    sns.scatterplot(**params)\n",
    "    return df_new"
   ]
  },
  {
   "cell_type": "code",
   "execution_count": null,
   "metadata": {
    "ExecuteTime": {
     "end_time": "2021-11-11T16:26:01.117789Z",
     "start_time": "2021-11-11T16:26:00.834529Z"
    }
   },
   "outputs": [],
   "source": [
    "plt.figure(figsize=(10, 10))\n",
    "\n",
    "plt.subplot(3, 1, 1)\n",
    "df_rfm_k3 = fit_visualize_kmeans(...)\n",
    "\n",
    "plt.subplot(3, 1, 2)\n",
    "df_rfm_k4 = fit_visualize_kmeans(...)\n",
    "\n",
    "plt.subplot(3, 1, 3)\n",
    "df_rfm_k5 = fit_visualize_kmeans(...)\n",
    "\n",
    "plt.tight_layout()\n"
   ]
  },
  {
   "cell_type": "markdown",
   "metadata": {},
   "source": [
    "Проанализируйте полученные графики. При каком количестве кластеров по вашему исходя из визуализаций лучше всего разделяются данные на кластера?"
   ]
  },
  {
   "cell_type": "markdown",
   "metadata": {
    "ExecuteTime": {
     "end_time": "2021-11-11T16:00:40.894614Z",
     "start_time": "2021-11-11T16:00:40.891135Z"
    }
   },
   "source": [
    "4.7.Построим дополнительно [Snake plots](https://www.marketingprofs.com/tutorials/snakeplot.asp), которые часто используются в маркетинговых анализах. \n",
    "\n",
    "Прочитайте про этот график и давайте напишем функцию для её реализации.\n",
    "В функции должно происходить следующее:\n",
    "1. Создаём датафрейм normalised_df_rfm, который содержит оригинальные CustomerID, стандартизированные значения Recency, Frequency, Monetary и номер кластера.\n",
    "2. \"Расплавляем и визуализируем датафрейм. Эта часть уже реализована.  \n",
    "\n",
    "Определите подходящие аргументы функции самостоятельно. Она должна запускаться для разных результатов кластеризации.  \n",
    "Функция snake_plot может принимать несколько параметров."
   ]
  },
  {
   "cell_type": "code",
   "execution_count": null,
   "metadata": {
    "ExecuteTime": {
     "end_time": "2021-11-11T16:05:34.114594Z",
     "start_time": "2021-11-11T16:05:34.108168Z"
    }
   },
   "outputs": [],
   "source": [
    "def snake_plot(...):\n",
    "    normalised_df_rfm = ...\n",
    "\n",
    "    # \"Расплавляем\" данные в длинный формат\n",
    "    df_melt = pd.melt(normalised_df_rfm.reset_index(), \n",
    "                        id_vars=['CustomerID', 'Cluster'],\n",
    "                        value_vars=['Recency', 'Frequency', 'Monetary'], \n",
    "                        var_name='Metric', \n",
    "                        value_name='Value')\n",
    "    plt.xlabel('Metric')\n",
    "    plt.ylabel('Value')\n",
    "    sns.pointplot(data=df_melt, x='Metric', y='Value', hue='Cluster')"
   ]
  },
  {
   "cell_type": "code",
   "execution_count": null,
   "metadata": {
    "ExecuteTime": {
     "end_time": "2021-11-11T16:05:40.704208Z",
     "start_time": "2021-11-11T16:05:39.193764Z"
    }
   },
   "outputs": [],
   "source": [
    "plt.figure(figsize=(9, 9))\n",
    "\n",
    "plt.subplot(3, 1, 1)\n",
    "plt.title('Snake Plot of K-Means = 3')\n",
    "snake_plot(...)\n",
    "\n",
    "plt.subplot(3, 1, 2)\n",
    "plt.title('Snake Plot of K-Means = 4')\n",
    "snake_plot(...)\n",
    "\n",
    "plt.subplot(3, 1, 3)\n",
    "plt.title('Snake Plot of K-Means = 5')\n",
    "snake_plot(...)\n",
    "\n",
    "plt.tight_layout()"
   ]
  },
  {
   "cell_type": "markdown",
   "metadata": {},
   "source": [
    "Из сглаженных графиков и графиков-змей видно, что значение кластера, равное 4, хорошо сегментирует наших клиентов.  \n",
    "Мы также могли бы пойти на большее количество кластеров, это полностью зависит от того, как компания хочет сегментировать своих клиентов. Но обычно 4 кластера - это удобно."
   ]
  },
  {
   "cell_type": "markdown",
   "metadata": {},
   "source": [
    "4.8.Интерпретируем результаты кластеризации.  \n",
    "Из результатов кластеризации с количеством кластеров 4 (и оригинальными значениями RFM переменных) сформируйте агрегат , который содержит среднее значние по каждой из трёх колонок и количество клиентов в кластере.  \n",
    "Выведите этот агрегат."
   ]
  },
  {
   "cell_type": "code",
   "execution_count": null,
   "metadata": {
    "ExecuteTime": {
     "end_time": "2021-11-11T14:50:46.404870Z",
     "start_time": "2021-11-11T14:50:46.244234Z"
    }
   },
   "outputs": [],
   "source": [
    "# ваш код тут"
   ]
  },
  {
   "cell_type": "markdown",
   "metadata": {},
   "source": [
    "Сделайте выводы о полученных результатах. Как бы вы назвали каждый кластер? Какие из них содержат платящих пользователей, а какие - тех, кто потенциально уйдёт в отток?"
   ]
  },
  {
   "cell_type": "markdown",
   "metadata": {},
   "source": [
    "    ваш ответ тут"
   ]
  }
 ],
 "metadata": {
  "kernelspec": {
   "display_name": "Python 3 (ipykernel)",
   "language": "python",
   "name": "python3"
  },
  "language_info": {
   "codemirror_mode": {
    "name": "ipython",
    "version": 3
   },
   "file_extension": ".py",
   "mimetype": "text/x-python",
   "name": "python",
   "nbconvert_exporter": "python",
   "pygments_lexer": "ipython3",
   "version": "3.9.7"
  },
  "toc": {
   "base_numbering": 1,
   "nav_menu": {},
   "number_sections": true,
   "sideBar": true,
   "skip_h1_title": false,
   "title_cell": "Table of Contents",
   "title_sidebar": "Contents",
   "toc_cell": false,
   "toc_position": {},
   "toc_section_display": true,
   "toc_window_display": false
  }
 },
 "nbformat": 4,
 "nbformat_minor": 2
}
