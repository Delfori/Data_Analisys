{
 "cells": [
  {
   "cell_type": "markdown",
   "metadata": {
    "ExecuteTime": {
     "end_time": "2021-11-01T17:11:01.482618Z",
     "start_time": "2021-11-01T17:11:01.480643Z"
    }
   },
   "source": [
    "# Мультиклассовая классификация"
   ]
  },
  {
   "cell_type": "markdown",
   "metadata": {
    "ExecuteTime": {
     "end_time": "2021-11-01T16:54:15.788550Z",
     "start_time": "2021-11-01T16:54:15.785275Z"
    }
   },
   "source": [
    "В этом ДЗ будем работать со следующим набором данных:\n",
    "https://archive.ics.uci.edu/ml/datasets/car+evaluation\n",
    "\n",
    "Будем предсказывать класс автомобиля по его характеристикам. Класс может быть unacceptable, acceptable, good, very good\n",
    "\n",
    "Набор данных загружаем из .csv, предоставленного Вам для выполнения ДЗ."
   ]
  },
  {
   "cell_type": "markdown",
   "metadata": {},
   "source": [
    "0.Расположите все импорты под этой клеткой"
   ]
  },
  {
   "cell_type": "code",
   "execution_count": null,
   "metadata": {
    "ExecuteTime": {
     "end_time": "2021-11-01T16:56:47.593987Z",
     "start_time": "2021-11-01T16:56:47.590446Z"
    }
   },
   "outputs": [],
   "source": [
    "import warnings\n",
    "\n",
    "warnings.filterwarnings('ignore')"
   ]
  },
  {
   "cell_type": "markdown",
   "metadata": {},
   "source": [
    "1.1.Загрузите набор данных в переменную df с помощью Pandas. Выведите первые 5 записей и форму набора данных."
   ]
  },
  {
   "cell_type": "code",
   "execution_count": null,
   "metadata": {
    "code_folding": []
   },
   "outputs": [],
   "source": [
    "# ваш код тут"
   ]
  },
  {
   "cell_type": "markdown",
   "metadata": {
    "ExecuteTime": {
     "end_time": "2021-11-01T17:00:14.372550Z",
     "start_time": "2021-11-01T17:00:14.369472Z"
    }
   },
   "source": [
    "1.2.В наборе данных нет названий колонок. Дайте следующие названия колонкам:\n",
    "`['buying', 'maint', 'doors', 'persons', 'lug_boot', 'safety', 'class']`"
   ]
  },
  {
   "cell_type": "code",
   "execution_count": null,
   "metadata": {
    "ExecuteTime": {
     "end_time": "2021-11-01T17:00:47.250197Z",
     "start_time": "2021-11-01T17:00:47.247504Z"
    }
   },
   "outputs": [],
   "source": [
    "# ваш код тут"
   ]
  },
  {
   "cell_type": "markdown",
   "metadata": {},
   "source": [
    "2.Выведите программно количество встречаний каждого значения каждой из независимых переменных. Формат числовой, не визуальный. Пример ответа для одной колонки:\n",
    "```\n",
    "med      432\n",
    "high     432\n",
    "vhigh    432\n",
    "low      432\n",
    "Name: buying, dtype: int64\n",
    "```\n",
    "Обязательно, чтоб были названия колонок, названия значений и количество строк с этим значением."
   ]
  },
  {
   "cell_type": "code",
   "execution_count": null,
   "metadata": {
    "ExecuteTime": {
     "end_time": "2021-11-02T10:41:29.009362Z",
     "start_time": "2021-11-02T10:41:29.007023Z"
    }
   },
   "outputs": [],
   "source": [
    "# ваш код тут"
   ]
  },
  {
   "cell_type": "markdown",
   "metadata": {},
   "source": [
    "3.Выведите сколько строк соответствуют каждому из значений целевой переменной. Дайте ответы на два следующих вопроса:   \n",
    "3.1. Данная переменная ординальная (порядковая) или номинальная? Почему?  \n",
    "3.2. Классификация в данном случае будет сбалансированная или несбалансированная? Почему?"
   ]
  },
  {
   "cell_type": "code",
   "execution_count": null,
   "metadata": {
    "ExecuteTime": {
     "end_time": "2021-11-02T10:41:34.251989Z",
     "start_time": "2021-11-02T10:41:34.250233Z"
    }
   },
   "outputs": [],
   "source": [
    "# ваш код тут"
   ]
  },
  {
   "cell_type": "markdown",
   "metadata": {
    "ExecuteTime": {
     "end_time": "2021-11-04T12:03:08.941741Z",
     "start_time": "2021-11-04T12:03:08.938107Z"
    }
   },
   "source": [
    ">ваш ответ тут"
   ]
  },
  {
   "cell_type": "markdown",
   "metadata": {},
   "source": [
    "4.Проверьте, есть ли отсутствующие значения во всех переменных загруженного набора данных."
   ]
  },
  {
   "cell_type": "code",
   "execution_count": null,
   "metadata": {
    "ExecuteTime": {
     "end_time": "2021-11-02T10:41:38.506811Z",
     "start_time": "2021-11-02T10:41:38.504440Z"
    }
   },
   "outputs": [],
   "source": [
    "# ваш код тут"
   ]
  },
  {
   "cell_type": "markdown",
   "metadata": {},
   "source": [
    "5.1.Запишите в переменную X все независимые переменные, в переменную y - целевую."
   ]
  },
  {
   "cell_type": "code",
   "execution_count": null,
   "metadata": {
    "ExecuteTime": {
     "end_time": "2021-11-02T10:41:40.348802Z",
     "start_time": "2021-11-02T10:41:40.346882Z"
    }
   },
   "outputs": [],
   "source": [
    "# ваш код тут"
   ]
  },
  {
   "cell_type": "markdown",
   "metadata": {},
   "source": [
    "5.2.Разбейте данные на тренировочный и тестовый наборы (мы снова игнорируем валидационных для упрощения задания). Определите random_state равным 42 и test_size равным 0.33."
   ]
  },
  {
   "cell_type": "code",
   "execution_count": null,
   "metadata": {},
   "outputs": [],
   "source": [
    "X_train_df, X_test_df, y_train, y_test = ..."
   ]
  },
  {
   "cell_type": "markdown",
   "metadata": {
    "ExecuteTime": {
     "end_time": "2021-11-01T17:19:56.837872Z",
     "start_time": "2021-11-01T17:19:56.834773Z"
    }
   },
   "source": [
    "5.3.Выведите форму и первые 5 записей полученных X_train_df, X_test_df."
   ]
  },
  {
   "cell_type": "code",
   "execution_count": null,
   "metadata": {
    "ExecuteTime": {
     "end_time": "2021-11-02T10:41:48.181866Z",
     "start_time": "2021-11-02T10:41:48.180036Z"
    }
   },
   "outputs": [],
   "source": [
    "# ваш код тут"
   ]
  },
  {
   "cell_type": "markdown",
   "metadata": {},
   "source": [
    "6.1.Выведите типы данных всех переменных в X_train."
   ]
  },
  {
   "cell_type": "code",
   "execution_count": null,
   "metadata": {
    "ExecuteTime": {
     "end_time": "2021-11-02T10:41:54.131896Z",
     "start_time": "2021-11-02T10:41:54.130012Z"
    }
   },
   "outputs": [],
   "source": [
    "# ваш код тут"
   ]
  },
  {
   "cell_type": "markdown",
   "metadata": {},
   "source": [
    "6.2. Все независимые переменные у нас ординальные. Закодируйте все независимые переменные используя подходящий метод из sklearn.preprocessing.  \n",
    "Вам необходимо задать правильный порядок значений для каждой переменной при кодировке так, чтоб значения после кодирования были упорядочены в порядке возрастания.  \n",
    "Кодирование значений {'high':1,'low':2,'med':3} будет считаться неправильным выполнением задания.\n",
    "Подумайте, как корректно применять энкодер на трен. и тест. данных.\n",
    "Результат кодирования X_train_df и X_test_df запишите соответственно в X_train, X_test."
   ]
  },
  {
   "cell_type": "code",
   "execution_count": null,
   "metadata": {
    "ExecuteTime": {
     "end_time": "2021-11-02T10:42:04.208460Z",
     "start_time": "2021-11-02T10:42:04.206067Z"
    }
   },
   "outputs": [],
   "source": [
    "# ваш код тут"
   ]
  },
  {
   "cell_type": "markdown",
   "metadata": {},
   "source": [
    "6.3.Выведите первые 5 записей X_train, X_test."
   ]
  },
  {
   "cell_type": "code",
   "execution_count": null,
   "metadata": {
    "ExecuteTime": {
     "end_time": "2021-11-02T10:42:07.742802Z",
     "start_time": "2021-11-02T10:42:07.740645Z"
    }
   },
   "outputs": [],
   "source": [
    "# ваш код тут"
   ]
  },
  {
   "cell_type": "markdown",
   "metadata": {},
   "source": [
    "6.4.Выведите полученные категории энкодера."
   ]
  },
  {
   "cell_type": "code",
   "execution_count": null,
   "metadata": {
    "ExecuteTime": {
     "end_time": "2021-11-02T10:42:10.104216Z",
     "start_time": "2021-11-02T10:42:10.102336Z"
    }
   },
   "outputs": [],
   "source": [
    "# ваш код тут"
   ]
  },
  {
   "cell_type": "markdown",
   "metadata": {},
   "source": [
    "7.1.Обучите на полученных данных логистическую регрессию c random_state=42 и остальными параметрами по умолчанию. "
   ]
  },
  {
   "cell_type": "code",
   "execution_count": null,
   "metadata": {
    "ExecuteTime": {
     "end_time": "2021-11-02T10:42:12.074365Z",
     "start_time": "2021-11-02T10:42:12.072038Z"
    }
   },
   "outputs": [],
   "source": [
    "# ваш код тут"
   ]
  },
  {
   "cell_type": "markdown",
   "metadata": {},
   "source": [
    "7.2.Сделайте предсказания с помощью полученной модели с помощью метода predict. "
   ]
  },
  {
   "cell_type": "code",
   "execution_count": null,
   "metadata": {
    "ExecuteTime": {
     "end_time": "2021-11-02T10:42:13.814321Z",
     "start_time": "2021-11-02T10:42:13.812352Z"
    }
   },
   "outputs": [],
   "source": [
    "# ваш код тут"
   ]
  },
  {
   "cell_type": "markdown",
   "metadata": {},
   "source": [
    "7.3. Выведите метрики качества с помощью classification_report."
   ]
  },
  {
   "cell_type": "code",
   "execution_count": null,
   "metadata": {
    "ExecuteTime": {
     "end_time": "2021-11-02T10:42:16.537869Z",
     "start_time": "2021-11-02T10:42:16.536060Z"
    }
   },
   "outputs": [],
   "source": [
    "# ваш код тут"
   ]
  },
  {
   "cell_type": "markdown",
   "metadata": {
    "ExecuteTime": {
     "end_time": "2021-11-08T07:33:57.395310Z",
     "start_time": "2021-11-08T07:33:57.310878Z"
    }
   },
   "source": [
    "Accuracy в данном пункте должна быть около 0.82. "
   ]
  },
  {
   "cell_type": "markdown",
   "metadata": {},
   "source": [
    "7.4.Какую метрику качества вы рекомендуете использовать для сравнения разных моделей и выбора лучшей? Почему? Метрика - это одно число, характеризирующее качество предсказаний модели."
   ]
  },
  {
   "cell_type": "markdown",
   "metadata": {
    "ExecuteTime": {
     "end_time": "2021-11-02T10:19:26.083395Z",
     "start_time": "2021-11-02T10:19:25.977243Z"
    }
   },
   "source": [
    ">ваш ответ тут"
   ]
  },
  {
   "cell_type": "markdown",
   "metadata": {},
   "source": [
    "8.1.Обучите Decision Tree из sklearn с глубиной 4 на тех же данных. Подсчитайте предсказания, найдите метрику качества на test данных. Сравните с логистической регрессией. Какая модель лучше? Какие видите надочёты этой модели?"
   ]
  },
  {
   "cell_type": "code",
   "execution_count": null,
   "metadata": {
    "ExecuteTime": {
     "end_time": "2021-11-02T10:42:18.685868Z",
     "start_time": "2021-11-02T10:42:18.684017Z"
    }
   },
   "outputs": [],
   "source": [
    "# ваш код тут"
   ]
  },
  {
   "cell_type": "markdown",
   "metadata": {
    "ExecuteTime": {
     "end_time": "2021-11-02T10:23:07.523939Z",
     "start_time": "2021-11-02T10:23:07.499537Z"
    }
   },
   "source": [
    "8.2.Выведите параметры модели Decision Tree."
   ]
  },
  {
   "cell_type": "code",
   "execution_count": null,
   "metadata": {
    "ExecuteTime": {
     "end_time": "2021-11-02T10:43:00.942076Z",
     "start_time": "2021-11-02T10:43:00.939966Z"
    }
   },
   "outputs": [],
   "source": [
    "# ваш код тут"
   ]
  },
  {
   "cell_type": "markdown",
   "metadata": {},
   "source": [
    "8.3.Визуализируйте полученное дерево любым из существующих способов. На картинке должен быть граф с критериями в узлах, классами и количеством элементов в каждом листе."
   ]
  },
  {
   "cell_type": "code",
   "execution_count": null,
   "metadata": {
    "ExecuteTime": {
     "end_time": "2021-11-02T10:43:03.265981Z",
     "start_time": "2021-11-02T10:43:03.264154Z"
    }
   },
   "outputs": [],
   "source": [
    "# ваш код тут"
   ]
  },
  {
   "cell_type": "markdown",
   "metadata": {
    "ExecuteTime": {
     "end_time": "2021-11-02T10:24:32.205815Z",
     "start_time": "2021-11-02T10:24:32.200091Z"
    }
   },
   "source": [
    "9.1.Выполните поиск гиперапарметров для DecisionTree по сетке с помощью sklearn. Задайте сетку из параметров самостоятельно исходя из предположений, что может дать улучшение работы дерева.  \n",
    "Вам удалось найти модель, которая работает лучше, чем построенная в пункте 8.1?"
   ]
  },
  {
   "cell_type": "code",
   "execution_count": null,
   "metadata": {
    "ExecuteTime": {
     "end_time": "2021-11-02T10:43:03.265981Z",
     "start_time": "2021-11-02T10:43:03.264154Z"
    }
   },
   "outputs": [],
   "source": [
    "# ваш код тут"
   ]
  },
  {
   "cell_type": "markdown",
   "metadata": {
    "ExecuteTime": {
     "end_time": "2021-11-02T10:31:41.716381Z",
     "start_time": "2021-11-02T10:31:41.713212Z"
    }
   },
   "source": [
    "9.2.Выведите claasification report финальной модели поиска гиперпараметров."
   ]
  },
  {
   "cell_type": "code",
   "execution_count": null,
   "metadata": {
    "ExecuteTime": {
     "end_time": "2021-11-02T10:43:03.265981Z",
     "start_time": "2021-11-02T10:43:03.264154Z"
    }
   },
   "outputs": [],
   "source": [
    "# ваш код тут"
   ]
  },
  {
   "cell_type": "markdown",
   "metadata": {
    "ExecuteTime": {
     "end_time": "2021-11-02T10:31:54.320583Z",
     "start_time": "2021-11-02T10:31:54.316901Z"
    }
   },
   "source": [
    "9.3. Выведите матрицу ошибок для лучшей модели в поиске гиперпараметров. Отобразите матрицу визуально (в виде графика с закрашеными по значениям клетками или в виде таблицы с закрашиванием фона)."
   ]
  },
  {
   "cell_type": "code",
   "execution_count": null,
   "metadata": {
    "ExecuteTime": {
     "end_time": "2021-11-02T10:43:23.892947Z",
     "start_time": "2021-11-02T10:43:23.886585Z"
    }
   },
   "outputs": [],
   "source": [
    "# ваш код тут"
   ]
  },
  {
   "cell_type": "markdown",
   "metadata": {
    "ExecuteTime": {
     "end_time": "2021-11-02T10:35:47.933163Z",
     "start_time": "2021-11-02T10:35:47.929762Z"
    }
   },
   "source": [
    "9.4.Сделайте вывод, какие классы с какими модель путает больше всего?"
   ]
  },
  {
   "cell_type": "markdown",
   "metadata": {
    "ExecuteTime": {
     "end_time": "2021-11-02T10:43:23.892947Z",
     "start_time": "2021-11-02T10:43:23.886585Z"
    }
   },
   "source": [
    ">ваш ответ тут"
   ]
  }
 ],
 "metadata": {
  "kernelspec": {
   "display_name": "Python 3",
   "language": "python",
   "name": "python3"
  },
  "language_info": {
   "codemirror_mode": {
    "name": "ipython",
    "version": 3
   },
   "file_extension": ".py",
   "mimetype": "text/x-python",
   "name": "python",
   "nbconvert_exporter": "python",
   "pygments_lexer": "ipython3",
   "version": "3.8.8"
  },
  "toc": {
   "base_numbering": 1,
   "nav_menu": {},
   "number_sections": true,
   "sideBar": true,
   "skip_h1_title": false,
   "title_cell": "Table of Contents",
   "title_sidebar": "Contents",
   "toc_cell": false,
   "toc_position": {},
   "toc_section_display": true,
   "toc_window_display": false
  }
 },
 "nbformat": 4,
 "nbformat_minor": 4
}
