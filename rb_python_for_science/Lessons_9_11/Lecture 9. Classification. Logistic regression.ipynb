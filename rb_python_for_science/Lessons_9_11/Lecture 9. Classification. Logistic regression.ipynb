{
 "cells": [
  {
   "cell_type": "code",
   "execution_count": 1,
   "id": "ce3001ab",
   "metadata": {
    "ExecuteTime": {
     "end_time": "2022-01-22T16:04:59.377549Z",
     "start_time": "2022-01-22T16:04:59.141195Z"
    }
   },
   "outputs": [],
   "source": [
    "import numpy as np\n",
    "import seaborn as sns\n",
    "from sklearn.datasets import load_iris\n",
    "from sklearn.linear_model import LogisticRegression\n",
    "from sklearn.model_selection import train_test_split"
   ]
  },
  {
   "cell_type": "code",
   "execution_count": 2,
   "id": "4591c4bb",
   "metadata": {
    "ExecuteTime": {
     "end_time": "2022-01-22T16:05:00.141489Z",
     "start_time": "2022-01-22T16:05:00.138864Z"
    }
   },
   "outputs": [],
   "source": [
    "RANDOM_STATE = 11"
   ]
  },
  {
   "cell_type": "markdown",
   "id": "85af8a65",
   "metadata": {},
   "source": [
    "Импортируем данные:"
   ]
  },
  {
   "cell_type": "code",
   "execution_count": 3,
   "id": "867fd29c",
   "metadata": {
    "ExecuteTime": {
     "end_time": "2022-01-22T16:05:01.159863Z",
     "start_time": "2022-01-22T16:05:01.152162Z"
    }
   },
   "outputs": [],
   "source": [
    "X, y = load_iris(return_X_y=True)"
   ]
  },
  {
   "cell_type": "code",
   "execution_count": 4,
   "id": "935d2ebc",
   "metadata": {
    "ExecuteTime": {
     "end_time": "2022-01-22T16:05:01.313524Z",
     "start_time": "2022-01-22T16:05:01.307639Z"
    }
   },
   "outputs": [
    {
     "data": {
      "text/plain": [
       "array([[5.1, 3.5, 1.4, 0.2],\n",
       "       [4.9, 3. , 1.4, 0.2],\n",
       "       [4.7, 3.2, 1.3, 0.2],\n",
       "       [4.6, 3.1, 1.5, 0.2],\n",
       "       [5. , 3.6, 1.4, 0.2]])"
      ]
     },
     "execution_count": 4,
     "metadata": {},
     "output_type": "execute_result"
    }
   ],
   "source": [
    "X[:5]"
   ]
  },
  {
   "cell_type": "code",
   "execution_count": 5,
   "id": "b2b634e7",
   "metadata": {
    "ExecuteTime": {
     "end_time": "2022-01-22T16:05:01.595077Z",
     "start_time": "2022-01-22T16:05:01.590803Z"
    }
   },
   "outputs": [
    {
     "data": {
      "text/plain": [
       "array([0, 0, 0, 0, 0, 0, 0, 0, 0, 0, 0, 0, 0, 0, 0, 0, 0, 0, 0, 0, 0, 0,\n",
       "       0, 0, 0, 0, 0, 0, 0, 0, 0, 0, 0, 0, 0, 0, 0, 0, 0, 0, 0, 0, 0, 0,\n",
       "       0, 0, 0, 0, 0, 0, 1, 1, 1, 1, 1, 1, 1, 1, 1, 1, 1, 1, 1, 1, 1, 1,\n",
       "       1, 1, 1, 1, 1, 1, 1, 1, 1, 1, 1, 1, 1, 1, 1, 1, 1, 1, 1, 1, 1, 1,\n",
       "       1, 1, 1, 1, 1, 1, 1, 1, 1, 1, 1, 1, 2, 2, 2, 2, 2, 2, 2, 2, 2, 2,\n",
       "       2, 2, 2, 2, 2, 2, 2, 2, 2, 2, 2, 2, 2, 2, 2, 2, 2, 2, 2, 2, 2, 2,\n",
       "       2, 2, 2, 2, 2, 2, 2, 2, 2, 2, 2, 2, 2, 2, 2, 2, 2, 2])"
      ]
     },
     "execution_count": 5,
     "metadata": {},
     "output_type": "execute_result"
    }
   ],
   "source": [
    "y"
   ]
  },
  {
   "cell_type": "markdown",
   "id": "0163714a",
   "metadata": {
    "ExecuteTime": {
     "end_time": "2022-01-22T14:42:32.310172Z",
     "start_time": "2022-01-22T14:42:32.307845Z"
    }
   },
   "source": [
    "# Бинарная классификация"
   ]
  },
  {
   "cell_type": "markdown",
   "id": "32245bff",
   "metadata": {},
   "source": [
    "Рассмотрим бинарную классификацию. Для этого создадим новый бинарный таргет:"
   ]
  },
  {
   "cell_type": "code",
   "execution_count": 6,
   "id": "a5dba405",
   "metadata": {
    "ExecuteTime": {
     "end_time": "2022-01-22T16:05:02.103209Z",
     "start_time": "2022-01-22T16:05:02.100470Z"
    }
   },
   "outputs": [],
   "source": [
    "y_binary = np.where(y==1, 1, 0)"
   ]
  },
  {
   "cell_type": "code",
   "execution_count": 7,
   "id": "df412fa4",
   "metadata": {
    "ExecuteTime": {
     "end_time": "2022-01-22T16:05:02.284638Z",
     "start_time": "2022-01-22T16:05:02.280174Z"
    }
   },
   "outputs": [
    {
     "data": {
      "text/plain": [
       "array([0, 0, 0, 0, 0, 0, 0, 0, 0, 0, 0, 0, 0, 0, 0, 0, 0, 0, 0, 0, 0, 0,\n",
       "       0, 0, 0, 0, 0, 0, 0, 0, 0, 0, 0, 0, 0, 0, 0, 0, 0, 0, 0, 0, 0, 0,\n",
       "       0, 0, 0, 0, 0, 0, 1, 1, 1, 1, 1, 1, 1, 1, 1, 1, 1, 1, 1, 1, 1, 1,\n",
       "       1, 1, 1, 1, 1, 1, 1, 1, 1, 1, 1, 1, 1, 1, 1, 1, 1, 1, 1, 1, 1, 1,\n",
       "       1, 1, 1, 1, 1, 1, 1, 1, 1, 1, 1, 1, 0, 0, 0, 0, 0, 0, 0, 0, 0, 0,\n",
       "       0, 0, 0, 0, 0, 0, 0, 0, 0, 0, 0, 0, 0, 0, 0, 0, 0, 0, 0, 0, 0, 0,\n",
       "       0, 0, 0, 0, 0, 0, 0, 0, 0, 0, 0, 0, 0, 0, 0, 0, 0, 0])"
      ]
     },
     "execution_count": 7,
     "metadata": {},
     "output_type": "execute_result"
    }
   ],
   "source": [
    "y_binary"
   ]
  },
  {
   "cell_type": "code",
   "execution_count": 8,
   "id": "b761b42d",
   "metadata": {
    "ExecuteTime": {
     "end_time": "2022-01-22T16:05:02.445478Z",
     "start_time": "2022-01-22T16:05:02.440442Z"
    }
   },
   "outputs": [
    {
     "data": {
      "text/plain": [
       "(array([0, 1]), array([100,  50]))"
      ]
     },
     "execution_count": 8,
     "metadata": {},
     "output_type": "execute_result"
    }
   ],
   "source": [
    "np.unique(y_binary, return_counts=True)"
   ]
  },
  {
   "cell_type": "markdown",
   "id": "d0c47617",
   "metadata": {},
   "source": [
    "Представителей положительного класса вдвое больше, чем отрицательного - классификация несбалансированная."
   ]
  },
  {
   "cell_type": "markdown",
   "id": "d0a34d9a",
   "metadata": {},
   "source": [
    "Зафиксируем тренировочные и тестовые индексы, указав, что мы хотим стратифицировать наши метки при разбивке, то есть сохранить одинаковый баланс меток в train и test наборах данных:"
   ]
  },
  {
   "cell_type": "code",
   "execution_count": 9,
   "id": "696c8587",
   "metadata": {
    "ExecuteTime": {
     "end_time": "2022-01-22T16:05:03.200972Z",
     "start_time": "2022-01-22T16:05:03.196971Z"
    }
   },
   "outputs": [],
   "source": [
    "train_ids, test_ids = train_test_split(range(len(y_binary)), test_size=.3, random_state=RANDOM_STATE, stratify=y_binary)"
   ]
  },
  {
   "cell_type": "markdown",
   "id": "0d4d29a3",
   "metadata": {},
   "source": [
    "Проверим, что у нас одинаковый процент положительных меток в трейне и в тесте:"
   ]
  },
  {
   "cell_type": "code",
   "execution_count": 10,
   "id": "1c8438e2",
   "metadata": {
    "ExecuteTime": {
     "end_time": "2022-01-22T16:05:03.857864Z",
     "start_time": "2022-01-22T16:05:03.851983Z"
    }
   },
   "outputs": [
    {
     "name": "stdout",
     "output_type": "stream",
     "text": [
      "0    0.666667\n",
      "1    0.333333\n",
      "dtype: float64\n",
      "0    0.666667\n",
      "1    0.333333\n",
      "dtype: float64\n"
     ]
    }
   ],
   "source": [
    "for dataset_ids in [train_ids, test_ids]:\n",
    "    print(pd.Series(y_binary[dataset_ids]).value_counts(normalize=True))"
   ]
  },
  {
   "cell_type": "markdown",
   "id": "5973e542",
   "metadata": {},
   "source": [
    "Распределения меток в наборах данных train и test одинаковое."
   ]
  },
  {
   "cell_type": "markdown",
   "id": "77443c37",
   "metadata": {},
   "source": [
    "## Обучаем логистическую регрессию"
   ]
  },
  {
   "cell_type": "markdown",
   "id": "00396e1b",
   "metadata": {},
   "source": [
    "Обучаем на тренировочных данных:"
   ]
  },
  {
   "cell_type": "code",
   "execution_count": 11,
   "id": "914ce8c1",
   "metadata": {
    "ExecuteTime": {
     "end_time": "2022-01-22T16:05:05.142022Z",
     "start_time": "2022-01-22T16:05:05.128038Z"
    }
   },
   "outputs": [
    {
     "data": {
      "text/plain": [
       "LogisticRegression(random_state=11)"
      ]
     },
     "execution_count": 11,
     "metadata": {},
     "output_type": "execute_result"
    }
   ],
   "source": [
    "clf = LogisticRegression(random_state=RANDOM_STATE)\n",
    "clf.fit(X[train_ids], y_binary[train_ids])"
   ]
  },
  {
   "cell_type": "markdown",
   "id": "deeb461e",
   "metadata": {},
   "source": [
    "Найдём предсказания. Можем найти в виде меток классов (метод `predict`), а можем - в виде вероятности пренадлежности экземпляра положительному классу (метод `predict_proba`). Для начала воспользуемся первым методом."
   ]
  },
  {
   "cell_type": "markdown",
   "id": "fe7ca2ba",
   "metadata": {},
   "source": [
    "Предсказания найдём сразу на всём наборе данных, а потом отфильтруем по индексам."
   ]
  },
  {
   "cell_type": "code",
   "execution_count": 12,
   "id": "091a3fb2",
   "metadata": {
    "ExecuteTime": {
     "end_time": "2022-01-22T16:05:07.031471Z",
     "start_time": "2022-01-22T16:05:07.028912Z"
    }
   },
   "outputs": [],
   "source": [
    "y_pred = clf.predict(X)"
   ]
  },
  {
   "cell_type": "code",
   "execution_count": 13,
   "id": "964258f8",
   "metadata": {
    "ExecuteTime": {
     "end_time": "2022-01-22T16:05:07.640473Z",
     "start_time": "2022-01-22T16:05:07.636443Z"
    },
    "scrolled": true
   },
   "outputs": [
    {
     "data": {
      "text/plain": [
       "array([0, 0, 0, 0, 0, 0, 0, 0, 0, 0, 0, 0, 0, 0, 0, 0, 0, 0, 0, 0, 0, 0,\n",
       "       0, 0, 0, 0, 0, 0, 0, 0, 0, 0, 0, 0, 0, 0, 0, 0, 0, 0, 0, 1, 0, 0,\n",
       "       0, 0, 0, 0, 0, 0, 0, 0, 0, 1, 0, 0, 0, 1, 0, 0, 1, 0, 1, 0, 0, 0,\n",
       "       0, 1, 1, 1, 0, 0, 1, 1, 0, 0, 0, 0, 0, 1, 1, 1, 0, 1, 0, 0, 0, 1,\n",
       "       0, 1, 1, 0, 1, 1, 0, 0, 0, 0, 1, 0])"
      ]
     },
     "execution_count": 13,
     "metadata": {},
     "output_type": "execute_result"
    }
   ],
   "source": [
    "y_pred[:100]"
   ]
  },
  {
   "cell_type": "markdown",
   "id": "0d0155dc",
   "metadata": {},
   "source": [
    "## Подсчёт метрик"
   ]
  },
  {
   "cell_type": "markdown",
   "id": "f3a5276d",
   "metadata": {},
   "source": [
    "Импортируем все необходимые функции для подсчёта метрик, разберём их ниже."
   ]
  },
  {
   "cell_type": "code",
   "execution_count": 14,
   "id": "84bffde3",
   "metadata": {
    "ExecuteTime": {
     "end_time": "2022-01-22T16:05:44.891875Z",
     "start_time": "2022-01-22T16:05:44.889364Z"
    }
   },
   "outputs": [],
   "source": [
    "from sklearn.metrics import (precision_score, \n",
    "                             recall_score, \n",
    "                             f1_score,\n",
    "                             confusion_matrix, \n",
    "                             classification_report,\n",
    "                             ConfusionMatrixDisplay)"
   ]
  },
  {
   "cell_type": "markdown",
   "id": "affdd41a",
   "metadata": {},
   "source": [
    "Найдём матрицу несоответствий (Confusion matrix):"
   ]
  },
  {
   "cell_type": "code",
   "execution_count": 15,
   "id": "e2d31fe9",
   "metadata": {
    "ExecuteTime": {
     "end_time": "2022-01-22T16:05:46.150583Z",
     "start_time": "2022-01-22T16:05:46.145726Z"
    }
   },
   "outputs": [
    {
     "data": {
      "text/plain": [
       "array([[29,  1],\n",
       "       [11,  4]])"
      ]
     },
     "execution_count": 15,
     "metadata": {},
     "output_type": "execute_result"
    }
   ],
   "source": [
    "cm = confusion_matrix(y_binary[test_ids], y_pred[test_ids])\n",
    "cm"
   ]
  },
  {
   "cell_type": "markdown",
   "id": "cfa3837a",
   "metadata": {},
   "source": [
    "По **вертикали** у нас значение **настоящей** метки класса, а по **горизонтали** - **предсказанной**. \n",
    "Если забыли - всегда можно найти подсказку в документации метода `confusion_matrix`:\n",
    "```\n",
    "Returns\n",
    "-------\n",
    "C : ndarray of shape (n_classes, n_classes)\n",
    "    Confusion matrix whose i-th row and j-th\n",
    "    column entry indicates the number of\n",
    "    samples with true label being i-th class\n",
    "    and predicted label being j-th class.\n",
    "```"
   ]
  },
  {
   "cell_type": "markdown",
   "id": "b5bb88f2",
   "metadata": {},
   "source": [
    "Для отображения матрицы визуально воспользуемся методом `ConfusionMatrixDisplay`."
   ]
  },
  {
   "cell_type": "code",
   "execution_count": 16,
   "id": "6ef1083b",
   "metadata": {
    "ExecuteTime": {
     "end_time": "2022-01-22T16:05:48.761735Z",
     "start_time": "2022-01-22T16:05:48.632727Z"
    }
   },
   "outputs": [
    {
     "data": {
      "image/png": "[encoded data removed]",
      "text/plain": [
       "<Figure size 432x288 with 2 Axes>"
      ]
     },
     "metadata": {
      "needs_background": "light"
     },
     "output_type": "display_data"
    }
   ],
   "source": [
    "disp = ConfusionMatrixDisplay(confusion_matrix=cm,\n",
    "                              display_labels=clf.classes_)\n",
    "disp.plot()\n",
    "\n",
    "plt.show();"
   ]
  },
  {
   "cell_type": "markdown",
   "id": "f7ba5cac",
   "metadata": {},
   "source": [
    "Метрики находим вызовом функций:"
   ]
  },
  {
   "cell_type": "code",
   "execution_count": 17,
   "id": "a940b55b",
   "metadata": {
    "ExecuteTime": {
     "end_time": "2022-01-22T16:05:50.010642Z",
     "start_time": "2022-01-22T16:05:50.004960Z"
    }
   },
   "outputs": [
    {
     "data": {
      "text/plain": [
       "0.652"
      ]
     },
     "execution_count": 17,
     "metadata": {},
     "output_type": "execute_result"
    }
   ],
   "source": [
    "precision_score(y_binary[train_ids], y_pred[train_ids]).round(3)"
   ]
  },
  {
   "cell_type": "markdown",
   "id": "99f54e09",
   "metadata": {},
   "source": [
    "У метрик precision, recall, f1 одинаковый интерфейс, потому можем метрики задавать списком и подсчитывать их в цикле."
   ]
  },
  {
   "cell_type": "code",
   "execution_count": 21,
   "id": "e5a46101",
   "metadata": {
    "ExecuteTime": {
     "end_time": "2022-01-22T16:05:53.054015Z",
     "start_time": "2022-01-22T16:05:53.051643Z"
    }
   },
   "outputs": [],
   "source": [
    "metrics = [precision_score, recall_score, f1_score]"
   ]
  },
  {
   "cell_type": "code",
   "execution_count": 22,
   "id": "625825b4",
   "metadata": {
    "ExecuteTime": {
     "end_time": "2022-01-22T16:05:53.362446Z",
     "start_time": "2022-01-22T16:05:53.349753Z"
    }
   },
   "outputs": [
    {
     "name": "stdout",
     "output_type": "stream",
     "text": [
      "train\n",
      "precision_score 0.652\n",
      "recall_score 0.429\n",
      "f1_score 0.517\n",
      "\n",
      "\n",
      "test\n",
      "precision_score 0.8\n",
      "recall_score 0.267\n",
      "f1_score 0.4\n",
      "\n",
      "\n"
     ]
    }
   ],
   "source": [
    "for dataset_name, dataset_ids in {'train': train_ids, 'test': test_ids}.items():\n",
    "    print(dataset_name)\n",
    "    for metric in metrics:\n",
    "        print(metric.__name__, metric(y_binary[dataset_ids], y_pred[dataset_ids]).round(3))\n",
    "    print('\\n')"
   ]
  },
  {
   "cell_type": "markdown",
   "id": "8651f727",
   "metadata": {},
   "source": [
    "Также сам классификатор имеет `score` - это accuracy."
   ]
  },
  {
   "cell_type": "code",
   "execution_count": 23,
   "id": "19dd97e0",
   "metadata": {
    "ExecuteTime": {
     "end_time": "2022-01-22T16:05:54.204435Z",
     "start_time": "2022-01-22T16:05:54.200103Z"
    }
   },
   "outputs": [
    {
     "data": {
      "text/plain": [
       "0.4533333333333333"
      ]
     },
     "execution_count": 23,
     "metadata": {},
     "output_type": "execute_result"
    }
   ],
   "source": [
    "clf.score(X, y)"
   ]
  },
  {
   "cell_type": "markdown",
   "id": "7c34d65f",
   "metadata": {},
   "source": [
    "Есть возможность вывести несколько метрик одной функцией:"
   ]
  },
  {
   "cell_type": "code",
   "execution_count": 24,
   "id": "453cd0ec",
   "metadata": {
    "ExecuteTime": {
     "end_time": "2022-01-22T16:05:54.607662Z",
     "start_time": "2022-01-22T16:05:54.595872Z"
    }
   },
   "outputs": [
    {
     "name": "stdout",
     "output_type": "stream",
     "text": [
      "              precision    recall  f1-score   support\n",
      "\n",
      "           0       0.76      0.89      0.82        70\n",
      "           1       0.65      0.43      0.52        35\n",
      "\n",
      "    accuracy                           0.73       105\n",
      "   macro avg       0.70      0.66      0.67       105\n",
      "weighted avg       0.72      0.73      0.72       105\n",
      "\n",
      "              precision    recall  f1-score   support\n",
      "\n",
      "           0       0.72      0.97      0.83        30\n",
      "           1       0.80      0.27      0.40        15\n",
      "\n",
      "    accuracy                           0.73        45\n",
      "   macro avg       0.76      0.62      0.61        45\n",
      "weighted avg       0.75      0.73      0.69        45\n",
      "\n"
     ]
    }
   ],
   "source": [
    "for dataset_ids in [train_ids, test_ids]:\n",
    "    print(classification_report(y_binary[dataset_ids], y_pred[dataset_ids]))"
   ]
  },
  {
   "cell_type": "markdown",
   "id": "0f4ebf5f",
   "metadata": {},
   "source": [
    "Выбор метрики зависит от задачи. Если не знаем, какой результат нам более приоритетно избегать: ложноположиельный или ложноорицательный, используем F1."
   ]
  },
  {
   "cell_type": "markdown",
   "id": "80f86374",
   "metadata": {},
   "source": [
    "Тогда в таблице нас интересует значение f1-score для класса 1 для тренировочных и тестовых данных."
   ]
  },
  {
   "cell_type": "markdown",
   "id": "1d8819e9",
   "metadata": {},
   "source": [
    "## Пользовательский порог"
   ]
  },
  {
   "cell_type": "markdown",
   "id": "28707eb5",
   "metadata": {},
   "source": [
    "Если мы хотим установить свой порог определения классов 1 и 0, то предсказания надо получать методом `predict_proba`."
   ]
  },
  {
   "cell_type": "code",
   "execution_count": 25,
   "id": "066e844b",
   "metadata": {
    "ExecuteTime": {
     "end_time": "2022-01-22T16:05:58.867526Z",
     "start_time": "2022-01-22T16:05:58.864989Z"
    }
   },
   "outputs": [],
   "source": [
    "y_pred_prob = clf.predict_proba(X)"
   ]
  },
  {
   "cell_type": "markdown",
   "id": "bcd23d87",
   "metadata": {},
   "source": [
    "Метод возвращает несколько колонок: вероятность пренадлежности экземпляра каждому классу."
   ]
  },
  {
   "cell_type": "code",
   "execution_count": 26,
   "id": "c8df5ec6",
   "metadata": {
    "ExecuteTime": {
     "end_time": "2022-01-22T16:06:20.669915Z",
     "start_time": "2022-01-22T16:06:20.666007Z"
    }
   },
   "outputs": [
    {
     "data": {
      "text/plain": [
       "array([[0.87062397, 0.12937603],\n",
       "       [0.70685516, 0.29314484],\n",
       "       [0.78649679, 0.21350321],\n",
       "       [0.73016414, 0.26983586],\n",
       "       [0.89036045, 0.10963955]])"
      ]
     },
     "execution_count": 26,
     "metadata": {},
     "output_type": "execute_result"
    }
   ],
   "source": [
    "y_pred_prob[:5]"
   ]
  },
  {
   "cell_type": "markdown",
   "id": "a4c8441f",
   "metadata": {},
   "source": [
    "Проверим, что в каждой строке сумма 1."
   ]
  },
  {
   "cell_type": "code",
   "execution_count": 27,
   "id": "acaef0d0",
   "metadata": {
    "ExecuteTime": {
     "end_time": "2022-01-22T16:06:25.214677Z",
     "start_time": "2022-01-22T16:06:25.210595Z"
    }
   },
   "outputs": [
    {
     "data": {
      "text/plain": [
       "True"
      ]
     },
     "execution_count": 27,
     "metadata": {},
     "output_type": "execute_result"
    }
   ],
   "source": [
    "np.all(y_pred_prob.sum(axis=1)==1)"
   ]
  },
  {
   "cell_type": "markdown",
   "id": "5f947b87",
   "metadata": {},
   "source": [
    "Посмотрим, как распределены предсказанные значения. Это может нам помочь найти оптимальный порог для определения положительных и отрицательных меток."
   ]
  },
  {
   "cell_type": "code",
   "execution_count": 28,
   "id": "500bb6d4",
   "metadata": {
    "ExecuteTime": {
     "end_time": "2022-01-22T16:06:26.490043Z",
     "start_time": "2022-01-22T16:06:26.341021Z"
    }
   },
   "outputs": [
    {
     "data": {
      "image/png": "[encoded data removed]",
      "text/plain": [
       "<Figure size 432x288 with 1 Axes>"
      ]
     },
     "metadata": {
      "needs_background": "light"
     },
     "output_type": "display_data"
    }
   ],
   "source": [
    "sns.histplot(y_pred_prob[:,1], bins=30, kde=True);"
   ]
  },
  {
   "cell_type": "code",
   "execution_count": 29,
   "id": "da37c2c5",
   "metadata": {
    "ExecuteTime": {
     "end_time": "2022-01-22T16:06:50.921034Z",
     "start_time": "2022-01-22T16:06:50.914837Z"
    }
   },
   "outputs": [],
   "source": [
    "THRESHOLD = 0.3"
   ]
  },
  {
   "cell_type": "code",
   "execution_count": 31,
   "id": "46b215c4",
   "metadata": {
    "ExecuteTime": {
     "end_time": "2022-01-22T16:07:18.975367Z",
     "start_time": "2022-01-22T16:07:18.972628Z"
    }
   },
   "outputs": [],
   "source": [
    "y_pred = np.where(y_pred_prob[:,1] >= THRESHOLD, 1, 0)"
   ]
  },
  {
   "cell_type": "markdown",
   "id": "03b9e4a8",
   "metadata": {},
   "source": [
    "Найдём метрики:"
   ]
  },
  {
   "cell_type": "code",
   "execution_count": 32,
   "id": "19108df1",
   "metadata": {
    "ExecuteTime": {
     "end_time": "2022-01-22T16:07:44.468991Z",
     "start_time": "2022-01-22T16:07:44.457265Z"
    }
   },
   "outputs": [
    {
     "name": "stdout",
     "output_type": "stream",
     "text": [
      "              precision    recall  f1-score   support\n",
      "\n",
      "           0       0.94      0.66      0.77        70\n",
      "           1       0.57      0.91      0.70        35\n",
      "\n",
      "    accuracy                           0.74       105\n",
      "   macro avg       0.76      0.79      0.74       105\n",
      "weighted avg       0.82      0.74      0.75       105\n",
      "\n",
      "              precision    recall  f1-score   support\n",
      "\n",
      "           0       0.83      0.63      0.72        30\n",
      "           1       0.50      0.73      0.59        15\n",
      "\n",
      "    accuracy                           0.67        45\n",
      "   macro avg       0.66      0.68      0.66        45\n",
      "weighted avg       0.72      0.67      0.68        45\n",
      "\n"
     ]
    }
   ],
   "source": [
    "for dataset_ids in [train_ids, test_ids]:\n",
    "    print(classification_report(y_binary[dataset_ids], y_pred[dataset_ids]))"
   ]
  },
  {
   "cell_type": "markdown",
   "id": "9b82f009",
   "metadata": {},
   "source": [
    "Значение f1-score для класса 1 и для тренировочных, и для тестовых данных улучшилось, значит мы выбрали удачный порог классификации."
   ]
  },
  {
   "cell_type": "markdown",
   "id": "e6713abd",
   "metadata": {},
   "source": [
    "### ROC curve"
   ]
  },
  {
   "cell_type": "markdown",
   "id": "1d35dffd",
   "metadata": {},
   "source": [
    "Для позитивного класса найдём ROC кривую и площадь под ней."
   ]
  },
  {
   "cell_type": "code",
   "execution_count": 44,
   "id": "3bf2fef4",
   "metadata": {
    "ExecuteTime": {
     "end_time": "2022-01-23T12:29:18.915812Z",
     "start_time": "2022-01-23T12:29:18.911391Z"
    }
   },
   "outputs": [],
   "source": [
    "from sklearn.metrics import roc_curve, auc\n",
    "\n",
    "fpr, tpr, _ = roc_curve(y_binary[test_ids], y_pred_prob[test_ids][:, 1])\n",
    "roc_auc = auc(fpr, tpr)"
   ]
  },
  {
   "cell_type": "code",
   "execution_count": 50,
   "id": "6fdcddcc",
   "metadata": {
    "ExecuteTime": {
     "end_time": "2022-01-23T12:31:22.723754Z",
     "start_time": "2022-01-23T12:31:22.716605Z"
    }
   },
   "outputs": [],
   "source": [
    "def plot_roc(fpr, tpr, roc_auc):\n",
    "    plt.figure()\n",
    "    lw = 2 # linewidth - ширина линии на графике\n",
    "    plt.plot(\n",
    "        fpr,\n",
    "        tpr,\n",
    "        color=\"darkorange\",\n",
    "        lw=lw,\n",
    "        label=\"ROC curve (area = %0.2f)\" % roc_auc,\n",
    "    )\n",
    "    plt.plot([0, 1], [0, 1], color=\"navy\", lw=lw, linestyle=\"--\")\n",
    "    plt.xlim([0.0, 1.0])\n",
    "    plt.ylim([0.0, 1.05])\n",
    "    plt.xlabel(\"False Positive Rate\")\n",
    "    plt.ylabel(\"True Positive Rate\")\n",
    "    plt.title(\"Receiver operating characteristic example\")\n",
    "    plt.legend(loc=\"lower right\")\n",
    "    plt.show()"
   ]
  },
  {
   "cell_type": "code",
   "execution_count": 51,
   "id": "03514155",
   "metadata": {
    "ExecuteTime": {
     "end_time": "2022-01-23T12:31:29.089560Z",
     "start_time": "2022-01-23T12:31:28.976070Z"
    }
   },
   "outputs": [
    {
     "data": {
      "image/png": "[encoded data removed]",
      "text/plain": [
       "<Figure size 432x288 with 1 Axes>"
      ]
     },
     "metadata": {
      "needs_background": "light"
     },
     "output_type": "display_data"
    }
   ],
   "source": [
    "plot_roc(fpr, tpr, roc_auc)"
   ]
  },
  {
   "cell_type": "markdown",
   "id": "5c7ca69d",
   "metadata": {},
   "source": [
    "## Мультиклассовая классификация"
   ]
  },
  {
   "cell_type": "markdown",
   "id": "aa3ed6df",
   "metadata": {
    "ExecuteTime": {
     "end_time": "2022-01-23T12:30:27.407174Z",
     "start_time": "2022-01-23T12:30:27.403105Z"
    }
   },
   "source": [
    "Используем оригинальный таргет и построим мультиклассовую классификацию."
   ]
  },
  {
   "cell_type": "code",
   "execution_count": 59,
   "id": "23b06ca6",
   "metadata": {
    "ExecuteTime": {
     "end_time": "2022-01-23T12:33:43.558712Z",
     "start_time": "2022-01-23T12:33:43.530793Z"
    }
   },
   "outputs": [
    {
     "data": {
      "text/plain": [
       "LogisticRegression(multi_class='ovr', random_state=11)"
      ]
     },
     "execution_count": 59,
     "metadata": {},
     "output_type": "execute_result"
    }
   ],
   "source": [
    "clf = LogisticRegression(random_state=RANDOM_STATE, multi_class='ovr')\n",
    "clf.fit(X[train_ids], y[train_ids])"
   ]
  },
  {
   "cell_type": "code",
   "execution_count": 61,
   "id": "357bc62d",
   "metadata": {
    "ExecuteTime": {
     "end_time": "2022-01-23T12:33:57.675605Z",
     "start_time": "2022-01-23T12:33:57.672066Z"
    }
   },
   "outputs": [],
   "source": [
    "y_pred = clf.predict(X)\n",
    "y_pred_prob = clf.predict_proba(X)\n",
    "score = clf.score(X, y)"
   ]
  },
  {
   "cell_type": "markdown",
   "id": "047c5261",
   "metadata": {},
   "source": [
    "Выведем классификационный отчёт:"
   ]
  },
  {
   "cell_type": "code",
   "execution_count": 62,
   "id": "43361bea",
   "metadata": {
    "ExecuteTime": {
     "end_time": "2022-01-23T12:34:10.671592Z",
     "start_time": "2022-01-23T12:34:10.659401Z"
    }
   },
   "outputs": [
    {
     "name": "stdout",
     "output_type": "stream",
     "text": [
      "              precision    recall  f1-score   support\n",
      "\n",
      "           0       1.00      1.00      1.00        34\n",
      "           1       0.94      0.89      0.91        35\n",
      "           2       0.89      0.94      0.92        36\n",
      "\n",
      "    accuracy                           0.94       105\n",
      "   macro avg       0.94      0.94      0.94       105\n",
      "weighted avg       0.94      0.94      0.94       105\n",
      "\n",
      "              precision    recall  f1-score   support\n",
      "\n",
      "           0       1.00      1.00      1.00        16\n",
      "           1       1.00      0.87      0.93        15\n",
      "           2       0.88      1.00      0.93        14\n",
      "\n",
      "    accuracy                           0.96        45\n",
      "   macro avg       0.96      0.96      0.95        45\n",
      "weighted avg       0.96      0.96      0.96        45\n",
      "\n"
     ]
    }
   ],
   "source": [
    "for dataset_ids in [train_ids, test_ids]:\n",
    "    print(classification_report(y[dataset_ids], y_pred[dataset_ids]))"
   ]
  },
  {
   "cell_type": "markdown",
   "id": "b62d422a",
   "metadata": {},
   "source": [
    "Можем также при подсчтёте отдельных метрик (precision, recall, f1) задавать желаемое усреднение."
   ]
  },
  {
   "cell_type": "code",
   "execution_count": 63,
   "id": "c0b199e6",
   "metadata": {
    "ExecuteTime": {
     "end_time": "2022-01-23T12:34:38.601600Z",
     "start_time": "2022-01-23T12:34:38.595886Z"
    }
   },
   "outputs": [
    {
     "data": {
      "text/plain": [
       "0.9583333333333334"
      ]
     },
     "execution_count": 63,
     "metadata": {},
     "output_type": "execute_result"
    }
   ],
   "source": [
    "precision_score(y[test_ids], y_pred[test_ids], average='macro')"
   ]
  },
  {
   "cell_type": "code",
   "execution_count": 64,
   "id": "fa42213c",
   "metadata": {
    "ExecuteTime": {
     "end_time": "2022-01-23T12:34:39.236463Z",
     "start_time": "2022-01-23T12:34:39.231103Z"
    }
   },
   "outputs": [
    {
     "data": {
      "text/plain": [
       "0.9555555555555556"
      ]
     },
     "execution_count": 64,
     "metadata": {},
     "output_type": "execute_result"
    }
   ],
   "source": [
    "precision_score(y[test_ids], y_pred[test_ids], average='micro')"
   ]
  }
 ],
 "metadata": {
  "kernelspec": {
   "display_name": "Python 3 (ipykernel)",
   "language": "python",
   "name": "python3"
  },
  "language_info": {
   "codemirror_mode": {
    "name": "ipython",
    "version": 3
   },
   "file_extension": ".py",
   "mimetype": "text/x-python",
   "name": "python",
   "nbconvert_exporter": "python",
   "pygments_lexer": "ipython3",
   "version": "3.9.7"
  },
  "toc": {
   "base_numbering": 1,
   "nav_menu": {},
   "number_sections": true,
   "sideBar": true,
   "skip_h1_title": false,
   "title_cell": "Table of Contents",
   "title_sidebar": "Contents",
   "toc_cell": false,
   "toc_position": {},
   "toc_section_display": true,
   "toc_window_display": false
  }
 },
 "nbformat": 4,
 "nbformat_minor": 5
}
