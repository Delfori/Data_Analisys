{
 "cells": [
  {
   "cell_type": "markdown",
   "id": "59b733e1",
   "metadata": {},
   "source": [
    "# Домашнее задание 1: Numpy"
   ]
  },
  {
   "cell_type": "markdown",
   "id": "0bb6d6f5",
   "metadata": {},
   "source": [
    "# Разминка"
   ]
  },
  {
   "cell_type": "markdown",
   "id": "37d2a46f",
   "metadata": {
    "ExecuteTime": {
     "end_time": "2021-08-07T17:08:20.430760Z",
     "start_time": "2021-08-07T17:08:20.427198Z"
    }
   },
   "source": [
    "Прочитайте про типизацию в Python: \n",
    "https://tproger.ru/articles/python-typing/ "
   ]
  },
  {
   "cell_type": "code",
   "execution_count": 2,
   "id": "8d2be397",
   "metadata": {
    "ExecuteTime": {
     "end_time": "2021-08-07T17:10:31.598455Z",
     "start_time": "2021-08-07T17:10:31.595106Z"
    }
   },
   "outputs": [],
   "source": [
    "from typing import List, Union\n",
    "\n",
    "Num = Union[int, float]"
   ]
  },
  {
   "cell_type": "markdown",
   "id": "612299d5",
   "metadata": {},
   "source": [
    "0. Импортируйте numpy и убедитесь, что импорт прошёл без ошибок. "
   ]
  },
  {
   "cell_type": "code",
   "execution_count": 3,
   "id": "c88aa138",
   "metadata": {},
   "outputs": [],
   "source": [
    "import numpy as np"
   ]
  },
  {
   "cell_type": "markdown",
   "id": "c4a5cd11",
   "metadata": {},
   "source": [
    "1. Реализуйте векторное умножение (dot product) двух списков типа Python list на чистом Python (используя цикл, без дополнительных библиотек) как фукнцию pure_python_dot_product."
   ]
  },
  {
   "cell_type": "code",
   "execution_count": 4,
   "id": "280fbcf6",
   "metadata": {
    "ExecuteTime": {
     "end_time": "2021-08-07T17:10:42.473320Z",
     "start_time": "2021-08-07T17:10:42.470153Z"
    }
   },
   "outputs": [],
   "source": [
    "def pure_python_dot_product(l1: List[Num], l2: List[Num]) -> float:\n",
    "    dot = 0\n",
    "    if len(l1) != len(l2):\n",
    "        return dot\n",
    "    dot = [l1[i]*l2[i] for i in range(len(l1))]\n",
    "    return dot"
   ]
  },
  {
   "cell_type": "code",
   "execution_count": 5,
   "id": "28034e44",
   "metadata": {},
   "outputs": [
    {
     "data": {
      "text/plain": [
       "[2, 4, 9]"
      ]
     },
     "execution_count": 5,
     "metadata": {},
     "output_type": "execute_result"
    }
   ],
   "source": [
    "l1 = [1, 4, 3]\n",
    "l2 = [2, 1, 3]\n",
    "pure_python_dot_product(l1, l2)"
   ]
  },
  {
   "cell_type": "code",
   "execution_count": 6,
   "id": "3d9587fe",
   "metadata": {},
   "outputs": [
    {
     "data": {
      "text/plain": [
       "array([2, 4, 9])"
      ]
     },
     "execution_count": 6,
     "metadata": {},
     "output_type": "execute_result"
    }
   ],
   "source": [
    "a = np.array(l1)\n",
    "b = np.array(l2)\n",
    "a * b"
   ]
  },
  {
   "cell_type": "markdown",
   "id": "7418f5e2",
   "metadata": {
    "ExecuteTime": {
     "end_time": "2021-08-07T16:49:57.316102Z",
     "start_time": "2021-08-07T16:49:57.313036Z"
    }
   },
   "source": [
    "2. За что отвечает функция assert?"
   ]
  },
  {
   "cell_type": "code",
   "execution_count": null,
   "id": "aa2f4bdd",
   "metadata": {},
   "outputs": [],
   "source": [
    "# ваш ответ тут"
   ]
  },
  {
   "cell_type": "markdown",
   "id": "93f33688",
   "metadata": {},
   "source": [
    "3. Замерьте скорость работы python_pure_dot_product на списках a и b, используя Jupyter magic %%timeit."
   ]
  },
  {
   "cell_type": "code",
   "execution_count": 7,
   "id": "1a4b4ee4",
   "metadata": {
    "ExecuteTime": {
     "end_time": "2021-08-07T16:50:04.280555Z",
     "start_time": "2021-08-07T16:50:04.277353Z"
    }
   },
   "outputs": [],
   "source": [
    "a = range(1,10000,2)\n",
    "b = range(20000,40000, 4)\n",
    "assert len(a) == len(b)"
   ]
  },
  {
   "cell_type": "code",
   "execution_count": 11,
   "id": "9678481b",
   "metadata": {},
   "outputs": [
    {
     "name": "stdout",
     "output_type": "stream",
     "text": [
      "1.62 ms ± 192 µs per loop (mean ± std. dev. of 7 runs, 100 loops each)\n"
     ]
    }
   ],
   "source": [
    "%timeit pure_python_dot_product(a, b)"
   ]
  },
  {
   "cell_type": "markdown",
   "id": "ceb14a24",
   "metadata": {},
   "source": [
    "4. Реализуйте векторное умножение двух массивов типа ndarray, используя Numpy как функицю numpy_dot_product. В параметрах функции numpy_dot_product определите тип входящих переменных."
   ]
  },
  {
   "cell_type": "code",
   "execution_count": 8,
   "id": "75d0a366",
   "metadata": {
    "ExecuteTime": {
     "end_time": "2021-08-07T17:00:35.610755Z",
     "start_time": "2021-08-07T17:00:35.607633Z"
    }
   },
   "outputs": [],
   "source": [
    "def numpy_dot_product(l1: np.ndarray, l2: np.ndarray) -> float:\n",
    "    dot = l1 * l2    \n",
    "    return dot"
   ]
  },
  {
   "cell_type": "markdown",
   "id": "96daf536",
   "metadata": {
    "ExecuteTime": {
     "end_time": "2021-08-07T17:03:28.355746Z",
     "start_time": "2021-08-07T17:03:28.352113Z"
    }
   },
   "source": [
    "5. Преобразуйте списки a, b в массивы Numpy, запишите их соответственно в переменные a_ar, b_ar."
   ]
  },
  {
   "cell_type": "code",
   "execution_count": 9,
   "id": "b9610db7",
   "metadata": {},
   "outputs": [],
   "source": [
    "# ваш код тут\n",
    "a_ar = np.array(a)\n",
    "b_ar = np.array(b)"
   ]
  },
  {
   "cell_type": "markdown",
   "id": "cf70c845",
   "metadata": {},
   "source": [
    "6. Замерьте скорость работы numpy_dot_product на массивах a_ar и b_ar, используя Jupyter magic %%timeit."
   ]
  },
  {
   "cell_type": "code",
   "execution_count": 15,
   "id": "89297fad",
   "metadata": {},
   "outputs": [
    {
     "name": "stdout",
     "output_type": "stream",
     "text": [
      "5 µs ± 129 ns per loop (mean ± std. dev. of 7 runs, 100,000 loops each)\n"
     ]
    }
   ],
   "source": [
    "%timeit numpy_dot_product(a_ar, b_ar)"
   ]
  },
  {
   "cell_type": "markdown",
   "id": "4c055eec",
   "metadata": {},
   "source": [
    "# Чтение из файла. Использование функций Numpy"
   ]
  },
  {
   "cell_type": "markdown",
   "id": "630428c8",
   "metadata": {},
   "source": [
    "https://www.cs.toronto.edu/~frossard/post/linear_regression/"
   ]
  },
  {
   "cell_type": "markdown",
   "id": "f04aff6f",
   "metadata": {
    "ExecuteTime": {
     "end_time": "2021-08-27T13:28:50.924076Z",
     "start_time": "2021-08-27T13:28:50.921121Z"
    }
   },
   "source": [
    "1. Считайте в переменную data_x данные из файла 'data_x.npy' и выведите первые 5 элементов data_x."
   ]
  },
  {
   "cell_type": "code",
   "execution_count": 10,
   "id": "925b5c07",
   "metadata": {},
   "outputs": [
    {
     "data": {
      "text/plain": [
       "array([[0.1       ],\n",
       "       [0.10909091],\n",
       "       [0.11818182],\n",
       "       [0.12727273],\n",
       "       [0.13636364]])"
      ]
     },
     "execution_count": 10,
     "metadata": {},
     "output_type": "execute_result"
    }
   ],
   "source": [
    "data_x = np.load('data_x.npy')\n",
    "data_x[:5]"
   ]
  },
  {
   "cell_type": "markdown",
   "id": "08ded015",
   "metadata": {
    "ExecuteTime": {
     "end_time": "2021-08-27T13:28:50.924076Z",
     "start_time": "2021-08-27T13:28:50.921121Z"
    }
   },
   "source": [
    "2. Считайте в переменную data_y данные из файла 'data_y.txt' и выведите первые 5 элементов data_y."
   ]
  },
  {
   "cell_type": "code",
   "execution_count": 11,
   "id": "65ba70d4",
   "metadata": {},
   "outputs": [
    {
     "data": {
      "text/plain": [
       "array([ 1.10668682, -0.1165718 ,  0.15178231,  0.52171016,  1.2676443 ])"
      ]
     },
     "execution_count": 11,
     "metadata": {},
     "output_type": "execute_result"
    }
   ],
   "source": [
    "data_y = np.loadtxt('data_y.txt')\n",
    "data_y[:5]"
   ]
  },
  {
   "cell_type": "markdown",
   "id": "ceb41eea",
   "metadata": {},
   "source": [
    "Давайте визуализируем загруженные данные.  \n",
    "Для этого импортируем pyplot и выполняем простую визуализацию. Разбор визуализаций будет далее в курсе. Но если вы уже сейчас разберётесь, что делает код - будет отлично!"
   ]
  },
  {
   "cell_type": "markdown",
   "id": "98a3345e",
   "metadata": {},
   "source": [
    "Если у вас не импортируется matplotlib, надо его установить через pip / conda."
   ]
  },
  {
   "cell_type": "code",
   "execution_count": 12,
   "id": "9a1228a5",
   "metadata": {
    "ExecuteTime": {
     "end_time": "2021-08-27T14:35:32.649944Z",
     "start_time": "2021-08-27T14:35:32.519610Z"
    }
   },
   "outputs": [
    {
     "data": {
      "image/png": "[encoded data removed]",
      "text/plain": [
       "<Figure size 432x288 with 1 Axes>"
      ]
     },
     "metadata": {
      "needs_background": "light"
     },
     "output_type": "display_data"
    }
   ],
   "source": [
    "from matplotlib import pyplot as plt\n",
    "\n",
    "plt.scatter(data_x, data_y)\n",
    "plt.xlabel('x data')\n",
    "plt.ylabel('y data')\n",
    "plt.show()"
   ]
  },
  {
   "cell_type": "markdown",
   "id": "f6f968b3",
   "metadata": {},
   "source": [
    "3. С помощью numpy найдите максимум, минимум и форму (shape) x и y."
   ]
  },
  {
   "cell_type": "code",
   "execution_count": 13,
   "id": "106547c9",
   "metadata": {
    "ExecuteTime": {
     "end_time": "2021-08-27T13:39:42.031896Z",
     "start_time": "2021-08-27T13:39:42.027566Z"
    }
   },
   "outputs": [
    {
     "data": {
      "text/plain": [
       "(0.1, 1.0, (100, 1), -1.4798856735208457, 11.870796258618977, (100,))"
      ]
     },
     "execution_count": 13,
     "metadata": {},
     "output_type": "execute_result"
    }
   ],
   "source": [
    "min_x = data_x.min()\n",
    "max_x = data_x.max() # ваш код тут\n",
    "shape_x = data_x.shape # ваш код тут\n",
    "\n",
    "min_y = data_y.min() # ваш код тут\n",
    "max_y = data_y.max() # ваш код тут\n",
    "shape_y = data_y.shape # ваш код тут\n",
    "\n",
    "min_x, max_x, shape_x, min_y, max_y, shape_y"
   ]
  },
  {
   "cell_type": "markdown",
   "id": "6f78bb7f",
   "metadata": {},
   "source": [
    "На графике заметно, что между х и у есть некоторая зависимость. Давайте её смоделируем с помощью линейной регресии, написанной на numpy. Решать задачу линейной регресии будем с помощью методов наименших квадратов."
   ]
  },
  {
   "cell_type": "markdown",
   "id": "3a048b61",
   "metadata": {},
   "source": [
    "4. Для построения линейной регрессии нам надо добавить столбец единичек к data_x как, чтоб в итоге data_x имел вид :\n",
    "```\n",
    "array([[1.        , 0.1       ],\n",
    "          [1.        , 0.10909091],\n",
    "          [1.        , 0.11818182],\n",
    "          [1.        , 0.12727273],\n",
    "          [1.        , 0.13636364],\n",
    "          ......\n",
    "         ]])\n",
    "```\n",
    "\n",
    "Используя функции numpy hstack и ones_like, добавьте столбец единичек к матрице data_x."
   ]
  },
  {
   "cell_type": "code",
   "execution_count": 14,
   "id": "d8093c6f",
   "metadata": {
    "ExecuteTime": {
     "end_time": "2021-08-27T13:52:14.974869Z",
     "start_time": "2021-08-27T13:52:14.972556Z"
    }
   },
   "outputs": [],
   "source": [
    "data_x = np.hstack((np.ones_like(data_x), data_x))\n"
   ]
  },
  {
   "cell_type": "code",
   "execution_count": 45,
   "id": "c71f7654",
   "metadata": {},
   "outputs": [
    {
     "data": {
      "text/plain": [
       "array([[1.        , 0.1       ],\n",
       "       [1.        , 0.10909091],\n",
       "       [1.        , 0.11818182],\n",
       "       [1.        , 0.12727273],\n",
       "       [1.        , 0.13636364],\n",
       "       [1.        , 0.14545455],\n",
       "       [1.        , 0.15454545],\n",
       "       [1.        , 0.16363636],\n",
       "       [1.        , 0.17272727],\n",
       "       [1.        , 0.18181818],\n",
       "       [1.        , 0.19090909],\n",
       "       [1.        , 0.2       ],\n",
       "       [1.        , 0.20909091],\n",
       "       [1.        , 0.21818182],\n",
       "       [1.        , 0.22727273],\n",
       "       [1.        , 0.23636364],\n",
       "       [1.        , 0.24545455],\n",
       "       [1.        , 0.25454545],\n",
       "       [1.        , 0.26363636],\n",
       "       [1.        , 0.27272727],\n",
       "       [1.        , 0.28181818],\n",
       "       [1.        , 0.29090909],\n",
       "       [1.        , 0.3       ],\n",
       "       [1.        , 0.30909091],\n",
       "       [1.        , 0.31818182],\n",
       "       [1.        , 0.32727273],\n",
       "       [1.        , 0.33636364],\n",
       "       [1.        , 0.34545455],\n",
       "       [1.        , 0.35454545],\n",
       "       [1.        , 0.36363636],\n",
       "       [1.        , 0.37272727],\n",
       "       [1.        , 0.38181818],\n",
       "       [1.        , 0.39090909],\n",
       "       [1.        , 0.4       ],\n",
       "       [1.        , 0.40909091],\n",
       "       [1.        , 0.41818182],\n",
       "       [1.        , 0.42727273],\n",
       "       [1.        , 0.43636364],\n",
       "       [1.        , 0.44545455],\n",
       "       [1.        , 0.45454545],\n",
       "       [1.        , 0.46363636],\n",
       "       [1.        , 0.47272727],\n",
       "       [1.        , 0.48181818],\n",
       "       [1.        , 0.49090909],\n",
       "       [1.        , 0.5       ],\n",
       "       [1.        , 0.50909091],\n",
       "       [1.        , 0.51818182],\n",
       "       [1.        , 0.52727273],\n",
       "       [1.        , 0.53636364],\n",
       "       [1.        , 0.54545455],\n",
       "       [1.        , 0.55454545],\n",
       "       [1.        , 0.56363636],\n",
       "       [1.        , 0.57272727],\n",
       "       [1.        , 0.58181818],\n",
       "       [1.        , 0.59090909],\n",
       "       [1.        , 0.6       ],\n",
       "       [1.        , 0.60909091],\n",
       "       [1.        , 0.61818182],\n",
       "       [1.        , 0.62727273],\n",
       "       [1.        , 0.63636364],\n",
       "       [1.        , 0.64545455],\n",
       "       [1.        , 0.65454545],\n",
       "       [1.        , 0.66363636],\n",
       "       [1.        , 0.67272727],\n",
       "       [1.        , 0.68181818],\n",
       "       [1.        , 0.69090909],\n",
       "       [1.        , 0.7       ],\n",
       "       [1.        , 0.70909091],\n",
       "       [1.        , 0.71818182],\n",
       "       [1.        , 0.72727273],\n",
       "       [1.        , 0.73636364],\n",
       "       [1.        , 0.74545455],\n",
       "       [1.        , 0.75454545],\n",
       "       [1.        , 0.76363636],\n",
       "       [1.        , 0.77272727],\n",
       "       [1.        , 0.78181818],\n",
       "       [1.        , 0.79090909],\n",
       "       [1.        , 0.8       ],\n",
       "       [1.        , 0.80909091],\n",
       "       [1.        , 0.81818182],\n",
       "       [1.        , 0.82727273],\n",
       "       [1.        , 0.83636364],\n",
       "       [1.        , 0.84545455],\n",
       "       [1.        , 0.85454545],\n",
       "       [1.        , 0.86363636],\n",
       "       [1.        , 0.87272727],\n",
       "       [1.        , 0.88181818],\n",
       "       [1.        , 0.89090909],\n",
       "       [1.        , 0.9       ],\n",
       "       [1.        , 0.90909091],\n",
       "       [1.        , 0.91818182],\n",
       "       [1.        , 0.92727273],\n",
       "       [1.        , 0.93636364],\n",
       "       [1.        , 0.94545455],\n",
       "       [1.        , 0.95454545],\n",
       "       [1.        , 0.96363636],\n",
       "       [1.        , 0.97272727],\n",
       "       [1.        , 0.98181818],\n",
       "       [1.        , 0.99090909],\n",
       "       [1.        , 1.        ]])"
      ]
     },
     "execution_count": 45,
     "metadata": {},
     "output_type": "execute_result"
    }
   ],
   "source": [
    "data_x"
   ]
  },
  {
   "cell_type": "markdown",
   "id": "0f7b41a7",
   "metadata": {},
   "source": [
    "Наш датасет готов. Теперь нам надо его случайным образом разделить на train и test части. Это стандартная процедура в решении задач машинного обучения. Мы считаем, что test часть - это данные, которые не видила модель, и оценка целевой метрики на этом фрагменте данных даёт нам основания полагать, как модель будет себя вести на новых данных, которые мы ей \"скормим\" после завершения разработки. Тренировочные данные обычно нужны только для обучения весов, а для задач бизнеса модель запускается на новых для неё данных. Мы будем говорить о разбитии датасета на несколько частей ещё в следующих лекциях."
   ]
  },
  {
   "cell_type": "markdown",
   "id": "3c54bc28",
   "metadata": {},
   "source": [
    "5. Наши данные похоже имеют тренд (значение y растёт со временем). Поэтому перед разделением данных мы не будем их перемешивать, как это часто делают.  \n",
    "Мы возьмём в test выборку последние 20 строк данных, а в трейн выборку - всё остальное. Создайте data_x, test_y, train_x, train_y, используя количество строк для теста, указанное в переменной portion."
   ]
  },
  {
   "cell_type": "code",
   "execution_count": 15,
   "id": "ea8da9c7",
   "metadata": {
    "ExecuteTime": {
     "end_time": "2021-08-27T14:33:45.348272Z",
     "start_time": "2021-08-27T14:33:45.345548Z"
    }
   },
   "outputs": [],
   "source": [
    "portion = 20\n",
    "\n",
    "test_x = data_x[-portion:]\n",
    "test_y = data_y[-portion:]\n",
    "train_x = data_x[:-portion]\n",
    "train_y = data_y[:-portion]"
   ]
  },
  {
   "cell_type": "markdown",
   "id": "cf7b064a",
   "metadata": {},
   "source": [
    "Чтобы посмотреть, как разделились в случае правильной имплементации наши данные на трейн и тест выборки, запустите код ниже."
   ]
  },
  {
   "cell_type": "code",
   "execution_count": 16,
   "id": "85954565",
   "metadata": {
    "ExecuteTime": {
     "end_time": "2021-08-27T14:55:46.287733Z",
     "start_time": "2021-08-27T14:55:46.175661Z"
    }
   },
   "outputs": [
    {
     "data": {
      "image/png": "[encoded data removed]",
      "text/plain": [
       "<Figure size 432x288 with 1 Axes>"
      ]
     },
     "metadata": {
      "needs_background": "light"
     },
     "output_type": "display_data"
    }
   ],
   "source": [
    "train_test_labels = [0]*(data_x.shape[0] - portion) + [1] * portion\n",
    "\n",
    "plt.scatter(data_x[:,1], data_y, c=train_test_labels)\n",
    "plt.xlabel('x data')\n",
    "plt.ylabel('y data')\n",
    "plt.show()"
   ]
  },
  {
   "cell_type": "markdown",
   "id": "921033e9",
   "metadata": {},
   "source": [
    "Видим, что тест - это последние 20% данных, которые другого цвета на графике."
   ]
  },
  {
   "cell_type": "markdown",
   "id": "121565e8",
   "metadata": {},
   "source": [
    "6. Теперь нам надо написать функцию поиска весов в линейной регресии. В этом вам помогут слайды с лекции. Найдите формулу для w и реализуйте её с помощью numpy. \n",
    "\n",
    "Используйте для поиска w train_x и train_y данные.\n",
    "\n",
    "Помните, что в формуле у нас происходит матричное умножение.\n",
    "\n",
    "Количество весов должно быть равно количеству колонок в train_x.\n"
   ]
  },
  {
   "cell_type": "code",
   "execution_count": 18,
   "id": "0b36c375",
   "metadata": {},
   "outputs": [],
   "source": [
    "a = np.dot(train_x.T, train_x)\n",
    "a = np.linalg.inv(a)\n",
    "a = np.dot(a, train_x.T)\n",
    "a = np.dot(a, train_y)"
   ]
  },
  {
   "cell_type": "code",
   "execution_count": 19,
   "id": "3b53e4cb",
   "metadata": {},
   "outputs": [
    {
     "data": {
      "text/plain": [
       "array([-1.86139236,  9.61107802])"
      ]
     },
     "execution_count": 19,
     "metadata": {},
     "output_type": "execute_result"
    }
   ],
   "source": [
    "a"
   ]
  },
  {
   "cell_type": "code",
   "execution_count": 75,
   "id": "27093624",
   "metadata": {},
   "outputs": [],
   "source": [
    "# ваш код тут\n",
    "w = np.dot(np.dot(np.dot(train_x.T, train_x)**-1, train_x.T), train_y)"
   ]
  },
  {
   "cell_type": "code",
   "execution_count": 76,
   "id": "761ea702",
   "metadata": {},
   "outputs": [
    {
     "data": {
      "text/plain": [
       "array([ 6.02454395, 11.81429456])"
      ]
     },
     "execution_count": 76,
     "metadata": {},
     "output_type": "execute_result"
    }
   ],
   "source": [
    "w"
   ]
  },
  {
   "cell_type": "markdown",
   "id": "442d2581",
   "metadata": {},
   "source": [
    "7. Давайте теперь посмотрим на то, как выглядит то предсказание, которое строит наша модель с найденными весами.  \n",
    "\n",
    "Для начала напишем функцию, которая будет нам возвращать предсказания для заданного набора x и параметров модели w.  \n",
    "Функция `get_predict` должна возвращать произведение марицы x на w. Размерность возращаемого значения должна быть равна количеству строк в x."
   ]
  },
  {
   "cell_type": "code",
   "execution_count": 20,
   "id": "2c95719d",
   "metadata": {
    "ExecuteTime": {
     "end_time": "2021-08-27T14:44:22.993979Z",
     "start_time": "2021-08-27T14:44:22.991608Z"
    }
   },
   "outputs": [],
   "source": [
    "def get_predict(x, w):\n",
    "    return np.dot(x, w)"
   ]
  },
  {
   "cell_type": "code",
   "execution_count": 21,
   "id": "f9ee7d44",
   "metadata": {
    "ExecuteTime": {
     "end_time": "2021-08-27T14:55:55.085330Z",
     "start_time": "2021-08-27T14:55:55.082639Z"
    }
   },
   "outputs": [],
   "source": [
    "train_predict = get_predict(train_x, a)\n",
    "test_predict = get_predict(test_x, a)\n",
    "full_data_predict = get_predict(data_x, a)"
   ]
  },
  {
   "cell_type": "code",
   "execution_count": 22,
   "id": "5f22be48",
   "metadata": {
    "ExecuteTime": {
     "end_time": "2021-08-27T14:55:58.759900Z",
     "start_time": "2021-08-27T14:55:58.603053Z"
    }
   },
   "outputs": [
    {
     "data": {
      "image/png": "[encoded data removed]",
      "text/plain": [
       "<Figure size 720x432 with 1 Axes>"
      ]
     },
     "metadata": {
      "needs_background": "light"
     },
     "output_type": "display_data"
    }
   ],
   "source": [
    "train_test_labels = [0] * (data_x.shape[0] - portion) + [1] * portion\n",
    "\n",
    "plt.figure(figsize=(10,6))\n",
    "plt.scatter(data_x[:,1], data_y, c=train_test_labels)\n",
    "plt.plot(data_x[:,1], full_data_predict, color = \"green\", label = 'prediction')\n",
    "plt.xlabel('x data')\n",
    "plt.ylabel('y data')\n",
    "plt.legend()\n",
    "plt.show()"
   ]
  },
  {
   "cell_type": "markdown",
   "id": "0a36e051",
   "metadata": {},
   "source": [
    "Можем видеть, что мы неплохо угадали направление тренировочных данных, но не угадали динамику. Также на тестовой выборке в самом конце мы сильно ошибаемся (данные идут вверх более стремительно, чем линия предсказания).  \n",
    "\n",
    "Можем посмотреть отдельно на тестовой и тренировочной выборках взаимное расположение данных и предсказаний.   \n",
    "Запустите две клетки ниже."
   ]
  },
  {
   "cell_type": "code",
   "execution_count": 23,
   "id": "4f1b0d71",
   "metadata": {
    "ExecuteTime": {
     "end_time": "2021-08-27T14:56:02.019631Z",
     "start_time": "2021-08-27T14:56:01.744966Z"
    }
   },
   "outputs": [
    {
     "data": {
      "image/png": "[encoded data removed]",
      "text/plain": [
       "<Figure size 432x288 with 1 Axes>"
      ]
     },
     "metadata": {
      "needs_background": "light"
     },
     "output_type": "display_data"
    }
   ],
   "source": [
    "plt.scatter(train_x[:,1], train_y, color = \"red\", label='real data')\n",
    "plt.plot(train_x[:,1], train_predict, color = \"green\", label = 'prediction')\n",
    "plt.title(\"Model vs real data (Training set)\")\n",
    "plt.xlabel(\"x\")\n",
    "plt.ylabel(\"y\")\n",
    "plt.legend()\n",
    "plt.show()"
   ]
  },
  {
   "cell_type": "code",
   "execution_count": 24,
   "id": "c531c880",
   "metadata": {
    "ExecuteTime": {
     "end_time": "2021-08-27T14:56:07.744156Z",
     "start_time": "2021-08-27T14:56:07.581452Z"
    }
   },
   "outputs": [
    {
     "data": {
      "image/png": "[encoded data removed]",
      "text/plain": [
       "<Figure size 432x288 with 1 Axes>"
      ]
     },
     "metadata": {
      "needs_background": "light"
     },
     "output_type": "display_data"
    }
   ],
   "source": [
    "plt.scatter(test_x[:,1], test_y, color = \"blue\", label='real data')\n",
    "plt.plot(test_x[:,1], test_predict, color = \"green\", label = 'prediction')\n",
    "plt.title(\"Model vs real data (Test set)\")\n",
    "plt.xlabel(\"x\")\n",
    "plt.ylabel(\"y\")\n",
    "plt.legend()\n",
    "plt.show()"
   ]
  },
  {
   "cell_type": "markdown",
   "id": "bf236524",
   "metadata": {
    "ExecuteTime": {
     "end_time": "2021-08-27T14:57:36.833574Z",
     "start_time": "2021-08-27T14:57:36.830528Z"
    }
   },
   "source": [
    "Видим, что действительно, линия проходит ниже большинства точек тестового набора данных. Модель точно можно улучшить.\n",
    "\n",
    "Далее в курсе мы научимся это делать :)"
   ]
  }
 ],
 "metadata": {
  "kernelspec": {
   "display_name": "Python 3.10.4 64-bit",
   "language": "python",
   "name": "python3"
  },
  "language_info": {
   "codemirror_mode": {
    "name": "ipython",
    "version": 3
   },
   "file_extension": ".py",
   "mimetype": "text/x-python",
   "name": "python",
   "nbconvert_exporter": "python",
   "pygments_lexer": "ipython3",
   "version": "3.10.4"
  },
  "toc": {
   "base_numbering": 1,
   "nav_menu": {},
   "number_sections": true,
   "sideBar": true,
   "skip_h1_title": false,
   "title_cell": "Table of Contents",
   "title_sidebar": "Contents",
   "toc_cell": false,
   "toc_position": {},
   "toc_section_display": true,
   "toc_window_display": false
  },
  "vscode": {
   "interpreter": {
    "hash": "aee8b7b246df8f9039afb4144a1f6fd8d2ca17a180786b69acc140d282b71a49"
   }
  }
 },
 "nbformat": 4,
 "nbformat_minor": 5
}
