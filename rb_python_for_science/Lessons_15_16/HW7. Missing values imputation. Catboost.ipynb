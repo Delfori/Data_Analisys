{
 "cells": [
  {
   "cell_type": "markdown",
   "id": "0474feda",
   "metadata": {
    "ExecuteTime": {
     "end_time": "2022-04-18T10:17:07.360367Z",
     "start_time": "2022-04-18T10:17:07.352629Z"
    }
   },
   "source": [
    "# Homework 7. Missing values imputation. Catboost"
   ]
  },
  {
   "cell_type": "markdown",
   "id": "9f13b206",
   "metadata": {},
   "source": [
    "В этом домашнем задании мы будем работь с набором данных, содержащим цены на дома в городе Эймс штата Айова.    \n",
    "Данные можно найти в `data/ames_house_prices/`. Описание данных - в `data/ames_house_prices/data_description.txt`. Прочитайте описание переменных перед выполнением задания.   \n",
    "Данные взяты с [соревнования](https://www.kaggle.com/c/house-prices-advanced-regression-techniques) на Kaggle.\n",
    "\n",
    "C этими данными мы уже работали, тогда мы делали EDA. Теперь мы будем заполнять отсутствующие значения и строить модель прогнозирования."
   ]
  },
  {
   "cell_type": "markdown",
   "id": "03e7fc12",
   "metadata": {},
   "source": [
    "Размещаем импорты вверху."
   ]
  },
  {
   "cell_type": "code",
   "execution_count": null,
   "id": "e5b78dc4",
   "metadata": {},
   "outputs": [],
   "source": []
  },
  {
   "cell_type": "markdown",
   "id": "6ec4482b",
   "metadata": {},
   "source": [
    "0.Загрузите в переменную df данные из ames_house_prices/train.csv."
   ]
  },
  {
   "cell_type": "code",
   "execution_count": null,
   "id": "5d51587d",
   "metadata": {},
   "outputs": [],
   "source": []
  },
  {
   "cell_type": "markdown",
   "id": "6d0972b9",
   "metadata": {},
   "source": [
    "1.С помощью pandas выведите все колонки с отсутствующими значениями, необходимо вывести:\n",
    "- сколько отсутствующих значений,\n",
    "- какой это процент от данных, \n",
    "- какой тип имеет эта колонка.  \n",
    "\n",
    "Информация должна быть в одном dataframe, который содержит колонки dtype, n_missing, percentage_missing, а индексом выступает название колонки.   \n",
    "Отфильтруйте только те колонки, в которых есть отсутствующие значения.  \n",
    "Отсортируйте набор данных по убыванию значений `percentage_missing` и выведите на экран."
   ]
  },
  {
   "cell_type": "code",
   "execution_count": null,
   "id": "d8ae3dca",
   "metadata": {},
   "outputs": [],
   "source": []
  },
  {
   "cell_type": "markdown",
   "id": "dbeaec4e",
   "metadata": {
    "ExecuteTime": {
     "end_time": "2021-11-19T08:59:32.236546Z",
     "start_time": "2021-11-19T08:59:32.231330Z"
    }
   },
   "source": [
    "Сделайте вывод, какие колонки стоит удалить, а в каких мы сможем заполнить отсутствующие значения?  \n",
    "Обычно мы удаляем те колонки, которые имеют слишком много отсутствующих значений.  \n",
    "Пока только напишите вывод о том, какие колонки стоит удалить, но не удаляйте.\n"
   ]
  },
  {
   "cell_type": "code",
   "execution_count": null,
   "id": "c8c9cd79",
   "metadata": {},
   "outputs": [],
   "source": []
  },
  {
   "cell_type": "markdown",
   "id": "e99d1aee",
   "metadata": {
    "ExecuteTime": {
     "end_time": "2021-11-19T09:13:38.505738Z",
     "start_time": "2021-11-19T09:13:38.502158Z"
    }
   },
   "source": [
    "2.В нашем наборе данных целевая переменная - это `SalePrice`. Выделите набор признаков Х и переменную содержащую целевые значения у. "
   ]
  },
  {
   "cell_type": "code",
   "execution_count": null,
   "id": "f7786b36",
   "metadata": {},
   "outputs": [],
   "source": []
  },
  {
   "cell_type": "markdown",
   "id": "c61e143d",
   "metadata": {},
   "source": [
    "3.В переменные num_cols, cat_cols сохраните названия колонок в наборе признаков, содержащих числовые и категориальные данные соответственно. Тут можно не делать детального анализа и трансформации переменных в зависимости от их значения в наборе данных. Суть данного ДЗ не в этом. Но если вы сделаете аккуратное преобразование типов - велика вероятность, что точности моделей у вас будут лучше."
   ]
  },
  {
   "cell_type": "code",
   "execution_count": null,
   "id": "600d3d3c",
   "metadata": {},
   "outputs": [],
   "source": []
  },
  {
   "cell_type": "markdown",
   "id": "a75a456d",
   "metadata": {},
   "source": [
    "4.Разделите данные на трейн и тест. В тест отведите 20% данных. Данные необходимо при разделении перемешать. Зафиксируйте перемешивание для воспроизводимости указав `random_state`."
   ]
  },
  {
   "cell_type": "code",
   "execution_count": null,
   "id": "3043a2d6",
   "metadata": {},
   "outputs": [],
   "source": []
  },
  {
   "cell_type": "markdown",
   "id": "76bc6672",
   "metadata": {
    "ExecuteTime": {
     "end_time": "2021-11-19T09:24:28.139865Z",
     "start_time": "2021-11-19T09:24:28.136141Z"
    }
   },
   "source": [
    "5.Обучим модель catboost. В этой модели не надо кодировать категориальные переменные.  \n",
    "5.1.Перед обучением необходимо заполнить отсутствующие значения в категориальных переменных значением строки \"None\". В таком случае catboost будет воспринимать отсутствующие значения как отдельную категорию.\n",
    "Выполните это запонение для X_train и X_test."
   ]
  },
  {
   "cell_type": "code",
   "execution_count": null,
   "id": "3e324b5f",
   "metadata": {},
   "outputs": [],
   "source": []
  },
  {
   "cell_type": "markdown",
   "id": "cbf7aed2",
   "metadata": {},
   "source": [
    "5.2.Запустите обучение **регрессионной** модели Catboost (в catboost регрессионные модели и классификаторы имеют разные названия классов, но один интерфейс того, как мы передаём туда данные и обучаем модель).  \n",
    "Инициируйте модель с параметрами по умолчанию. При обучении необходимо передать в `fit` метод набор тренировочных и тестовых данных, а также список категориальных переменных. \n",
    "Задайте также параметры `vebose=200` и `plot=True` - это позволит следить за прогрессом модели. \n",
    "Для передачи данных можно использовать `catboost.Pool`, а можно не использовать. Узнать преимущества использования этой структуры Вы можете в документации catboost.\n",
    "\n",
    "Обучение должно запуститься без ошибок на данном этапе, если вы всё сделали по инструкциям выше."
   ]
  },
  {
   "cell_type": "code",
   "execution_count": null,
   "id": "211edf87",
   "metadata": {},
   "outputs": [],
   "source": []
  },
  {
   "cell_type": "markdown",
   "id": "3669a5c1",
   "metadata": {
    "ExecuteTime": {
     "end_time": "2021-11-19T09:29:42.568217Z",
     "start_time": "2021-11-19T09:29:42.565006Z"
    }
   },
   "source": [
    "5.3.Выведите изменение лосса в модели для тренировочного и тестового набора данных также с помощью matplotlib. Это позволит сохранить график при перезагрузке нотубука.  \n",
    "**Подсказка**: пример был в лекции.\n",
    "Да, у вас уже есть график обучения, но он пропадёт при перезагрузке ноутбука. Когда будете тренировать катбуст самостоятельно в своих рабочих задачах, я также рекомендую где-то сохранять график обучения и метрики лучшей модели, в Jupyter Notebook, или в Google Spreadsheets/в файле на рабочей машине, т.к. визуализация пропадёт."
   ]
  },
  {
   "cell_type": "code",
   "execution_count": null,
   "id": "dbe71fe5",
   "metadata": {},
   "outputs": [],
   "source": []
  },
  {
   "cell_type": "markdown",
   "id": "b52ab055",
   "metadata": {},
   "source": [
    "5.4.Выведите лучшее значение ошибки модели на тренировочных и тестовых данных."
   ]
  },
  {
   "cell_type": "code",
   "execution_count": null,
   "id": "eae37744",
   "metadata": {},
   "outputs": [],
   "source": []
  },
  {
   "cell_type": "markdown",
   "id": "c31ee21a",
   "metadata": {},
   "source": [
    "5.5.Выведите топ 10 важных признаков для модели визуально в виде barplot, где столбцы расположены горизонтально.  \n",
    "**Подсказка**: пример был в лекции."
   ]
  },
  {
   "cell_type": "code",
   "execution_count": null,
   "id": "e7f3c7e2",
   "metadata": {},
   "outputs": [],
   "source": []
  },
  {
   "cell_type": "markdown",
   "id": "8610a2a0",
   "metadata": {},
   "source": [
    "6.Теперь давайте заполним отсутствующие значения. Потом мы ещё раз натренируем CatBoost модель и сравним качество."
   ]
  },
  {
   "cell_type": "markdown",
   "id": "5261537c",
   "metadata": {
    "ExecuteTime": {
     "end_time": "2021-11-19T09:43:26.211680Z",
     "start_time": "2021-11-19T09:43:26.208473Z"
    }
   },
   "source": [
    "6.1.Удалите из df те колонки, которые вы ранее написали, что следует удалить.   \n",
    "Результат запишите в новый датафрейм df_drop."
   ]
  },
  {
   "cell_type": "code",
   "execution_count": null,
   "id": "71061a61",
   "metadata": {},
   "outputs": [],
   "source": []
  },
  {
   "cell_type": "markdown",
   "id": "a1f23774",
   "metadata": {},
   "source": [
    "6.2.Выделите Х и у из df_drop, и разделите данные на train и test точно так же, как мы делали это выше. При разделении данных на train/test используйте те же настройки, что и ранее (процентовку теста и random_state)."
   ]
  },
  {
   "cell_type": "code",
   "execution_count": null,
   "id": "9576fb03",
   "metadata": {},
   "outputs": [],
   "source": []
  },
  {
   "cell_type": "markdown",
   "id": "e89e778e",
   "metadata": {},
   "source": [
    "6.3.С помощью MICE заполните отсутствующие значения в числовых колонках X_train, X_test. После заполнения результат должен быть преобразован снова в dataframe с соответствующими названиями колонок."
   ]
  },
  {
   "cell_type": "code",
   "execution_count": null,
   "id": "aaee2554",
   "metadata": {},
   "outputs": [],
   "source": []
  },
  {
   "cell_type": "markdown",
   "id": "24403d2d",
   "metadata": {
    "ExecuteTime": {
     "end_time": "2021-11-19T09:56:22.197418Z",
     "start_time": "2021-11-19T09:56:22.194379Z"
    }
   },
   "source": [
    "7.Теперь заполните отсутствующие значения в категориальных колонках самым частотным по колонке. Используйте для этого SimpleImputer из Sklearn.\n",
    "Тренируем метод на тренировочных данных, применяем к тренировочным и тестовым."
   ]
  },
  {
   "cell_type": "code",
   "execution_count": null,
   "id": "812cc974",
   "metadata": {},
   "outputs": [],
   "source": []
  },
  {
   "cell_type": "markdown",
   "id": "42852522",
   "metadata": {},
   "source": [
    "8.Запустите модель catboost, так же как и ранее, с параметрами по умолчанию, передав новые тренировочные и тестовые данные. \n",
    "\n",
    "Выведите графики уменьшения лосса на тестовых и трен. данных, стала ли модель обучаться лучше?  \n",
    "Выведите метрику качества лучшей модели на трен. и тест. данных. Можно ли считать, что метрика значительно изменилась?  \n",
    "Выведите топ 10 самых важных признаков на графике. Изменился ли их набор? Если изменился, то что могло на ваш взгляд послужить причиной?\n"
   ]
  },
  {
   "cell_type": "code",
   "execution_count": null,
   "id": "a83466d2",
   "metadata": {},
   "outputs": [],
   "source": []
  }
 ],
 "metadata": {
  "kernelspec": {
   "display_name": "Python 3 (ipykernel)",
   "language": "python",
   "name": "python3"
  },
  "language_info": {
   "codemirror_mode": {
    "name": "ipython",
    "version": 3
   },
   "file_extension": ".py",
   "mimetype": "text/x-python",
   "name": "python",
   "nbconvert_exporter": "python",
   "pygments_lexer": "ipython3",
   "version": "3.9.7"
  },
  "toc": {
   "base_numbering": 1,
   "nav_menu": {},
   "number_sections": true,
   "sideBar": true,
   "skip_h1_title": false,
   "title_cell": "Table of Contents",
   "title_sidebar": "Contents",
   "toc_cell": false,
   "toc_position": {},
   "toc_section_display": true,
   "toc_window_display": false
  }
 },
 "nbformat": 4,
 "nbformat_minor": 5
}
