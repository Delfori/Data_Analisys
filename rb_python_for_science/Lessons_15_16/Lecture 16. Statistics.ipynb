{
 "cells": [
  {
   "cell_type": "code",
   "execution_count": 1,
   "id": "f07f93e5",
   "metadata": {
    "ExecuteTime": {
     "end_time": "2022-04-17T14:45:24.560241Z",
     "start_time": "2022-04-17T14:45:21.291618Z"
    }
   },
   "outputs": [],
   "source": [
    "import numpy as np\n",
    "import pandas as pd\n",
    "import matplotlib.pyplot as plt\n",
    "import scipy\n",
    "from scipy import stats as st\n",
    "from scipy.stats import norm\n",
    "import statsmodels.api as sm\n",
    "import math\n",
    "import random\n",
    "import re"
   ]
  },
  {
   "cell_type": "markdown",
   "id": "ef240a28",
   "metadata": {},
   "source": [
    "# Обзор scipy.stats"
   ]
  },
  {
   "cell_type": "code",
   "execution_count": 2,
   "id": "a6365c9b",
   "metadata": {
    "ExecuteTime": {
     "end_time": "2022-04-17T14:45:24.612888Z",
     "start_time": "2022-04-17T14:45:24.565284Z"
    }
   },
   "outputs": [
    {
     "data": {
      "text/plain": [
       "<scipy.stats._distn_infrastructure.rv_frozen at 0x182c4c6d0>"
      ]
     },
     "execution_count": 2,
     "metadata": {},
     "output_type": "execute_result"
    }
   ],
   "source": [
    "norm()"
   ]
  },
  {
   "cell_type": "code",
   "execution_count": 3,
   "id": "a48ed67d",
   "metadata": {
    "ExecuteTime": {
     "end_time": "2022-04-17T14:45:24.618766Z",
     "start_time": "2022-04-17T14:45:24.615503Z"
    }
   },
   "outputs": [],
   "source": [
    "rv = norm()"
   ]
  },
  {
   "cell_type": "code",
   "execution_count": 4,
   "id": "a76fd216",
   "metadata": {
    "ExecuteTime": {
     "end_time": "2022-04-17T14:45:24.629494Z",
     "start_time": "2022-04-17T14:45:24.622488Z"
    }
   },
   "outputs": [
    {
     "data": {
      "text/plain": [
       "['__call__',\n",
       " '__class__',\n",
       " '__delattr__',\n",
       " '__dict__',\n",
       " '__dir__',\n",
       " '__doc__',\n",
       " '__eq__',\n",
       " '__format__',\n",
       " '__ge__',\n",
       " '__getattribute__',\n",
       " '__getstate__',\n",
       " '__gt__',\n",
       " '__hash__',\n",
       " '__init__',\n",
       " '__init_subclass__',\n",
       " '__le__',\n",
       " '__lt__',\n",
       " '__module__',\n",
       " '__ne__',\n",
       " '__new__',\n",
       " '__reduce__',\n",
       " '__reduce_ex__',\n",
       " '__repr__',\n",
       " '__setattr__',\n",
       " '__setstate__',\n",
       " '__sizeof__',\n",
       " '__str__',\n",
       " '__subclasshook__',\n",
       " '__weakref__',\n",
       " '_argcheck',\n",
       " '_argcheck_rvs',\n",
       " '_attach_argparser_methods',\n",
       " '_attach_methods',\n",
       " '_cdf',\n",
       " '_cdf_single',\n",
       " '_cdfvec',\n",
       " '_construct_argparser',\n",
       " '_construct_default_doc',\n",
       " '_construct_doc',\n",
       " '_ctor_param',\n",
       " '_entropy',\n",
       " '_fit_loc_scale_support',\n",
       " '_fitstart',\n",
       " '_get_support',\n",
       " '_isf',\n",
       " '_logcdf',\n",
       " '_logpdf',\n",
       " '_logsf',\n",
       " '_mom0_sc',\n",
       " '_mom1_sc',\n",
       " '_mom_integ0',\n",
       " '_mom_integ1',\n",
       " '_moment_error',\n",
       " '_munp',\n",
       " '_nnlf',\n",
       " '_nnlf_and_penalty',\n",
       " '_open_support_mask',\n",
       " '_parse_arg_template',\n",
       " '_parse_args',\n",
       " '_parse_args_rvs',\n",
       " '_parse_args_stats',\n",
       " '_pdf',\n",
       " '_penalized_nnlf',\n",
       " '_ppf',\n",
       " '_ppf_single',\n",
       " '_ppf_to_solve',\n",
       " '_ppfvec',\n",
       " '_random_state',\n",
       " '_reduce_func',\n",
       " '_rvs',\n",
       " '_rvs_size_warned',\n",
       " '_rvs_uses_size_attribute',\n",
       " '_sf',\n",
       " '_stats',\n",
       " '_stats_has_moments',\n",
       " '_support_mask',\n",
       " '_unpack_loc_scale',\n",
       " '_updated_ctor_param',\n",
       " 'a',\n",
       " 'b',\n",
       " 'badvalue',\n",
       " 'cdf',\n",
       " 'entropy',\n",
       " 'expect',\n",
       " 'extradoc',\n",
       " 'fit',\n",
       " 'fit_loc_scale',\n",
       " 'freeze',\n",
       " 'generic_moment',\n",
       " 'interval',\n",
       " 'isf',\n",
       " 'logcdf',\n",
       " 'logpdf',\n",
       " 'logsf',\n",
       " 'mean',\n",
       " 'median',\n",
       " 'moment',\n",
       " 'moment_type',\n",
       " 'name',\n",
       " 'nnlf',\n",
       " 'numargs',\n",
       " 'pdf',\n",
       " 'ppf',\n",
       " 'random_state',\n",
       " 'rvs',\n",
       " 'sf',\n",
       " 'shapes',\n",
       " 'stats',\n",
       " 'std',\n",
       " 'support',\n",
       " 'var',\n",
       " 'vecentropy',\n",
       " 'xtol']"
      ]
     },
     "execution_count": 4,
     "metadata": {},
     "output_type": "execute_result"
    }
   ],
   "source": [
    "dir(norm)"
   ]
  },
  {
   "cell_type": "code",
   "execution_count": 5,
   "id": "32ed40b1",
   "metadata": {
    "ExecuteTime": {
     "end_time": "2022-04-17T14:45:24.662814Z",
     "start_time": "2022-04-17T14:45:24.631093Z"
    }
   },
   "outputs": [
    {
     "name": "stdout",
     "output_type": "stream",
     "text": [
      "Количество непрерывных распределений: 104\n",
      "Количество дискретных распределений:   19\n"
     ]
    }
   ],
   "source": [
    "dist_continu = [d for d in dir(st) if\n",
    "                isinstance(getattr(st, d), st.rv_continuous)]\n",
    "dist_discrete = [d for d in dir(st) if\n",
    "                 isinstance(getattr(st, d), st.rv_discrete)]\n",
    "print('Количество непрерывных распределений: %d' % len(dist_continu))\n",
    "print('Количество дискретных распределений:   %d' % len(dist_discrete))"
   ]
  },
  {
   "cell_type": "code",
   "execution_count": 6,
   "id": "0e9fd340",
   "metadata": {
    "ExecuteTime": {
     "end_time": "2022-04-17T14:45:24.670331Z",
     "start_time": "2022-04-17T14:45:24.664901Z"
    }
   },
   "outputs": [
    {
     "data": {
      "text/plain": [
       "0.5"
      ]
     },
     "execution_count": 6,
     "metadata": {},
     "output_type": "execute_result"
    }
   ],
   "source": [
    "norm.cdf(0)"
   ]
  },
  {
   "cell_type": "markdown",
   "id": "91c256ca",
   "metadata": {},
   "source": [
    "Можем вывести для нескольких точек."
   ]
  },
  {
   "cell_type": "code",
   "execution_count": 7,
   "id": "f1d2b73e",
   "metadata": {
    "ExecuteTime": {
     "end_time": "2022-04-17T14:45:24.687321Z",
     "start_time": "2022-04-17T14:45:24.673286Z"
    }
   },
   "outputs": [
    {
     "data": {
      "text/plain": [
       "array([0.15865525, 0.5       , 0.84134475])"
      ]
     },
     "execution_count": 7,
     "metadata": {},
     "output_type": "execute_result"
    }
   ],
   "source": [
    "norm.cdf([-1., 0, 1])"
   ]
  },
  {
   "cell_type": "markdown",
   "id": "7c2bda65",
   "metadata": {},
   "source": [
    "Если хотим получить CDF и PDF некоторого распределения:"
   ]
  },
  {
   "cell_type": "code",
   "execution_count": 8,
   "id": "c28e6e8d",
   "metadata": {
    "ExecuteTime": {
     "end_time": "2022-04-17T14:45:25.042866Z",
     "start_time": "2022-04-17T14:45:24.690235Z"
    }
   },
   "outputs": [
    {
     "data": {
      "image/png": "[encoded data removed]",
      "text/plain": [
       "<Figure size 432x288 with 1 Axes>"
      ]
     },
     "metadata": {
      "needs_background": "light"
     },
     "output_type": "display_data"
    }
   ],
   "source": [
    "x = np.linspace(-5, 5, 5000)\n",
    "mu = 0\n",
    "sigma = 1\n",
    "\n",
    "y_pdf = norm.pdf(x, mu, sigma) # pdf нормального распределения\n",
    "y_cdf = norm.cdf(x, mu, sigma) # cdf нормального распределения\n",
    "\n",
    "plt.plot(x, y_pdf, label='pdf')\n",
    "plt.plot(x, y_cdf, label='cdf')\n",
    "plt.legend();"
   ]
  },
  {
   "cell_type": "markdown",
   "id": "fb5442af",
   "metadata": {},
   "source": [
    "Можем исследовать как параметры расрпделения влияют на его вид:"
   ]
  },
  {
   "cell_type": "code",
   "execution_count": 9,
   "id": "b69847c4",
   "metadata": {
    "ExecuteTime": {
     "end_time": "2022-04-17T14:45:30.191225Z",
     "start_time": "2022-04-17T14:45:30.187073Z"
    }
   },
   "outputs": [],
   "source": [
    "def plot_normal(x_range, mu=0, sigma=1, cdf=False, **kwargs):\n",
    "    x = x_range\n",
    "    if cdf:\n",
    "        y = norm.cdf(x, mu, sigma)\n",
    "    else:\n",
    "        y = norm.pdf(x, mu, sigma)\n",
    "    plt.plot(x, y, **kwargs)"
   ]
  },
  {
   "cell_type": "code",
   "execution_count": 10,
   "id": "dcf39fae",
   "metadata": {
    "ExecuteTime": {
     "end_time": "2022-04-17T14:45:30.484488Z",
     "start_time": "2022-04-17T14:45:30.357408Z"
    }
   },
   "outputs": [
    {
     "data": {
      "image/png": "[encoded data removed]",
      "text/plain": [
       "<Figure size 432x288 with 1 Axes>"
      ]
     },
     "metadata": {
      "needs_background": "light"
     },
     "output_type": "display_data"
    }
   ],
   "source": [
    "plot_normal(x, -2, 1, color='red', lw=2, ls='-', alpha=0.5)\n",
    "plot_normal(x, 2, 1.2, color='blue', lw=2, ls='-', alpha=0.5)\n",
    "plot_normal(x, 0, 0.8, color='green', lw=2, ls='-', alpha=0.5);"
   ]
  },
  {
   "cell_type": "markdown",
   "id": "c4ebd0cf",
   "metadata": {},
   "source": [
    "Создадим и исследуем выборку из заданного распределения:"
   ]
  },
  {
   "cell_type": "code",
   "execution_count": 11,
   "id": "9dd0b238",
   "metadata": {
    "ExecuteTime": {
     "end_time": "2022-04-17T14:45:31.296817Z",
     "start_time": "2022-04-17T14:45:31.288154Z"
    }
   },
   "outputs": [],
   "source": [
    "from scipy.stats import beta\n",
    "\n",
    "# для воспроизводимости\n",
    "np.random.seed(seed=233423)\n",
    "\n",
    "a, b = 2, 6\n",
    "\n",
    "x = beta.rvs(a, b, size=1000)"
   ]
  },
  {
   "cell_type": "code",
   "execution_count": 12,
   "id": "ac3999bb",
   "metadata": {
    "ExecuteTime": {
     "end_time": "2022-04-17T14:45:31.615797Z",
     "start_time": "2022-04-17T14:45:31.611231Z"
    }
   },
   "outputs": [
    {
     "data": {
      "text/plain": [
       "0.24882674925049722"
      ]
     },
     "execution_count": 12,
     "metadata": {},
     "output_type": "execute_result"
    }
   ],
   "source": [
    "x.mean()"
   ]
  },
  {
   "cell_type": "code",
   "execution_count": 13,
   "id": "1b592a19",
   "metadata": {
    "ExecuteTime": {
     "end_time": "2022-04-17T14:45:59.434117Z",
     "start_time": "2022-04-17T14:45:59.297993Z"
    }
   },
   "outputs": [
    {
     "data": {
      "image/png": "[encoded data removed]",
      "text/plain": [
       "<Figure size 432x288 with 1 Axes>"
      ]
     },
     "metadata": {
      "needs_background": "light"
     },
     "output_type": "display_data"
    }
   ],
   "source": [
    "fig, ax = plt.subplots(1, 1)\n",
    "ax.hist(x, density=True, histtype='stepfilled', alpha=0.2)\n",
    "plt.show()"
   ]
  },
  {
   "cell_type": "markdown",
   "id": "14668d17",
   "metadata": {},
   "source": [
    "Выведем статистику распределения:"
   ]
  },
  {
   "cell_type": "code",
   "execution_count": 14,
   "id": "68c6830a",
   "metadata": {
    "ExecuteTime": {
     "end_time": "2022-04-17T14:46:04.001006Z",
     "start_time": "2022-04-17T14:46:03.991272Z"
    }
   },
   "outputs": [
    {
     "name": "stdout",
     "output_type": "stream",
     "text": [
      "mean : 0.250\n",
      "var : 0.021\n",
      "shape a : 0.000\n",
      "shape b : 1.000\n",
      "median : 0.228\n"
     ]
    }
   ],
   "source": [
    "m = beta.mean(a,b)\n",
    "v = beta.var(a,b)\n",
    "shp_a = beta.a\n",
    "shp_b = beta.b\n",
    "median = beta.median(a,b)\n",
    "\n",
    "rv_stats = {\"mean\": m, \"var\": v, \"shape a\": shp_a, \"shape b\": shp_b, \"median\": median}\n",
    "_ = [print(k,\":\",f'{v:.3f}') for k,v in rv_stats.items()]"
   ]
  },
  {
   "cell_type": "markdown",
   "id": "1738ebdb",
   "metadata": {},
   "source": [
    "Первые 4 момента:"
   ]
  },
  {
   "cell_type": "code",
   "execution_count": 15,
   "id": "8378f01b",
   "metadata": {
    "ExecuteTime": {
     "end_time": "2022-04-17T14:46:04.859366Z",
     "start_time": "2022-04-17T14:46:04.853747Z"
    }
   },
   "outputs": [
    {
     "name": "stdout",
     "output_type": "stream",
     "text": [
      "mean : 0.250\n",
      "var : 0.021\n",
      "skew : 0.693\n",
      "kurt : 0.109\n"
     ]
    }
   ],
   "source": [
    "moments_values = beta.stats(a,b, moments=\"mvsk\")\n",
    "\n",
    "moments_names = [\"mean\", \"var\", \"skew\", \"kurt\"]\n",
    "moments = dict(zip(moments_names, moments_values))\n",
    "_ = [print(k,\":\",f'{v:.3f}') for k,v in moments.items()]"
   ]
  },
  {
   "cell_type": "markdown",
   "id": "3ca4b806",
   "metadata": {},
   "source": [
    "# Подгонка распределения к данным"
   ]
  },
  {
   "cell_type": "markdown",
   "id": "5c0bd067",
   "metadata": {},
   "source": [
    "Предположим, мы хотим некоторое распределение к нашим наблюдениям. Для этого можем попробовать зафитить несколько разных распределений и посмотреть, какое лучше всего описывает наши данные."
   ]
  },
  {
   "cell_type": "code",
   "execution_count": 26,
   "id": "553b35cc",
   "metadata": {
    "ExecuteTime": {
     "end_time": "2022-04-17T17:07:03.981630Z",
     "start_time": "2022-04-17T17:07:03.929620Z"
    }
   },
   "outputs": [],
   "source": [
    "def doane_formula(data):\n",
    "    \"\"\"\n",
    "    https://en.wikipedia.org/wiki/Histogram#Doane's_formula\n",
    "    \"\"\"\n",
    "    N = len(data)\n",
    "    skewness = st.skew(data)\n",
    "    sigma_g1 = math.sqrt((6*(N-2))/((N+1)*(N+3)))\n",
    "    num_bins = 1 + math.log(N,2) + math.log(1+abs(skewness)/sigma_g1,2)\n",
    "    num_bins = round(num_bins)\n",
    "    return num_bins\n",
    "\n",
    "def plot_histogram(data, results, n):\n",
    "    # N первых распределений в ранжировании\n",
    "    N_DISTRIBUTIONS = {k: results[k] for k in list(results)[:n]}\n",
    "\n",
    "    # Гистограмма данных\n",
    "    plt.figure(figsize=(10, 5))\n",
    "    plt.hist(data, density=True, ec='white', color=(63/235, 149/235, 170/235))\n",
    "    plt.title('HISTOGRAM')\n",
    "    plt.xlabel('Values')\n",
    "    plt.ylabel('Frequencies')\n",
    "    \n",
    "    # Распределения\n",
    "    for distribution, result in N_DISTRIBUTIONS.items():\n",
    "        sse = result[0]\n",
    "        arg = result[1]\n",
    "        loc = result[2]\n",
    "        scale = result[3]\n",
    "        x_plot = np.linspace(min(data), max(data), 1000)\n",
    "        y_plot = distribution.pdf(x_plot, loc=loc, scale=scale, *arg)\n",
    "        dist_name = re.search(r'_continuous_distns\\.(.*?) object', str(distribution)).group(1)\n",
    "        plt.plot(x_plot, y_plot, label=dist_name + \": \" + str(sse)[0:6], color=(random.uniform(0, 1), random.uniform(0, 1), random.uniform(0, 1)))\n",
    "    \n",
    "    plt.legend(title='DISTRIBUTIONS', bbox_to_anchor=(1.05, 1), loc='upper left')\n",
    "    plt.show()\n",
    "\n",
    "def fit_data(data):\n",
    "    ALL_DISTRIBUTIONS = [d for d in dir(st) if\n",
    "                isinstance(getattr(st, d), st.rv_continuous)]\n",
    "    \n",
    "    MY_DISTRIBUTIONS = [st.beta, st.expon, st.norm, \n",
    "                        st.uniform, st.johnsonsb, st.gennorm,\n",
    "                        st.gausshyper]\n",
    "\n",
    "    # Ищем оптимальное количество бинов в гистограмме по формуле Доани\n",
    "    num_bins = doane_formula(data)\n",
    "    frequencies, bin_edges = np.histogram(data, num_bins, density=True)\n",
    "    central_values = [(bin_edges[i] + bin_edges[i+1])/2 for i in range(len(bin_edges)-1)]\n",
    "\n",
    "    results = {}\n",
    "    for distribution in MY_DISTRIBUTIONS:\n",
    "        # Получаем параметры распределения\n",
    "        params = distribution.fit(data)\n",
    "        \n",
    "        # Выделяем нужные нам части параметров\n",
    "        arg = params[:-2]\n",
    "        loc = params[-2]\n",
    "        scale = params[-1]\n",
    "    \n",
    "        # Рассчитываем подогнанный PDF и погрешность подгонки распределения \n",
    "        pdf_values = [distribution.pdf(c, loc=loc, scale=scale, *arg) for c in central_values]\n",
    "        \n",
    "        # Считаем сумму квадратов ошибки\n",
    "        sse = np.sum(np.power(frequencies - pdf_values, 2.0))\n",
    "        \n",
    "        # Собираем результаты\n",
    "        results[distribution] = [sse, arg, loc, scale]\n",
    "        \n",
    "    results = {k: results[k] for k in sorted(results, key=results.get)}\n",
    "    return results"
   ]
  },
  {
   "cell_type": "markdown",
   "id": "e7e72d38",
   "metadata": {
    "ExecuteTime": {
     "end_time": "2021-11-18T15:16:57.368857Z",
     "start_time": "2021-11-18T15:16:57.365343Z"
    }
   },
   "source": [
    "Набор данных содержит океанографические и приземные метеорологические данные, полученные с ряда буев, расположенных по всей экваториальной части Тихого океана:\n",
    "https://archive.ics.uci.edu/ml/datasets/El+Nino  \n",
    "\n",
    "Данные собраны за несколько лет, колонки - это месяца. Потому перед анализом нам надо трансформировать набор данных."
   ]
  },
  {
   "cell_type": "code",
   "execution_count": 27,
   "id": "73d4103a",
   "metadata": {
    "ExecuteTime": {
     "end_time": "2022-04-17T17:07:06.240746Z",
     "start_time": "2022-04-17T17:07:06.032162Z"
    }
   },
   "outputs": [],
   "source": [
    "df = sm.datasets.elnino.load_pandas().data.set_index('YEAR')"
   ]
  },
  {
   "cell_type": "code",
   "execution_count": 28,
   "id": "457516a4",
   "metadata": {
    "ExecuteTime": {
     "end_time": "2022-04-17T17:07:06.782688Z",
     "start_time": "2022-04-17T17:07:06.699218Z"
    }
   },
   "outputs": [
    {
     "data": {
      "text/html": [
       "<div>\n",
       "<style scoped>\n",
       "    .dataframe tbody tr th:only-of-type {\n",
       "        vertical-align: middle;\n",
       "    }\n",
       "\n",
       "    .dataframe tbody tr th {\n",
       "        vertical-align: top;\n",
       "    }\n",
       "\n",
       "    .dataframe thead th {\n",
       "        text-align: right;\n",
       "    }\n",
       "</style>\n",
       "<table border=\"1\" class=\"dataframe\">\n",
       "  <thead>\n",
       "    <tr style=\"text-align: right;\">\n",
       "      <th></th>\n",
       "      <th>JAN</th>\n",
       "      <th>FEB</th>\n",
       "      <th>MAR</th>\n",
       "      <th>APR</th>\n",
       "      <th>MAY</th>\n",
       "      <th>JUN</th>\n",
       "      <th>JUL</th>\n",
       "      <th>AUG</th>\n",
       "      <th>SEP</th>\n",
       "      <th>OCT</th>\n",
       "      <th>NOV</th>\n",
       "      <th>DEC</th>\n",
       "    </tr>\n",
       "    <tr>\n",
       "      <th>YEAR</th>\n",
       "      <th></th>\n",
       "      <th></th>\n",
       "      <th></th>\n",
       "      <th></th>\n",
       "      <th></th>\n",
       "      <th></th>\n",
       "      <th></th>\n",
       "      <th></th>\n",
       "      <th></th>\n",
       "      <th></th>\n",
       "      <th></th>\n",
       "      <th></th>\n",
       "    </tr>\n",
       "  </thead>\n",
       "  <tbody>\n",
       "    <tr>\n",
       "      <th>1950.0</th>\n",
       "      <td>23.11</td>\n",
       "      <td>24.20</td>\n",
       "      <td>25.37</td>\n",
       "      <td>23.86</td>\n",
       "      <td>23.03</td>\n",
       "      <td>21.57</td>\n",
       "      <td>20.63</td>\n",
       "      <td>20.15</td>\n",
       "      <td>19.67</td>\n",
       "      <td>20.03</td>\n",
       "      <td>20.02</td>\n",
       "      <td>21.80</td>\n",
       "    </tr>\n",
       "    <tr>\n",
       "      <th>1951.0</th>\n",
       "      <td>24.19</td>\n",
       "      <td>25.28</td>\n",
       "      <td>25.60</td>\n",
       "      <td>25.37</td>\n",
       "      <td>24.79</td>\n",
       "      <td>24.69</td>\n",
       "      <td>23.86</td>\n",
       "      <td>22.32</td>\n",
       "      <td>21.44</td>\n",
       "      <td>21.77</td>\n",
       "      <td>22.33</td>\n",
       "      <td>22.89</td>\n",
       "    </tr>\n",
       "    <tr>\n",
       "      <th>1952.0</th>\n",
       "      <td>24.52</td>\n",
       "      <td>26.21</td>\n",
       "      <td>26.37</td>\n",
       "      <td>24.73</td>\n",
       "      <td>23.71</td>\n",
       "      <td>22.34</td>\n",
       "      <td>20.89</td>\n",
       "      <td>20.02</td>\n",
       "      <td>19.63</td>\n",
       "      <td>20.40</td>\n",
       "      <td>20.77</td>\n",
       "      <td>22.39</td>\n",
       "    </tr>\n",
       "    <tr>\n",
       "      <th>1953.0</th>\n",
       "      <td>24.15</td>\n",
       "      <td>26.34</td>\n",
       "      <td>27.36</td>\n",
       "      <td>27.03</td>\n",
       "      <td>25.47</td>\n",
       "      <td>23.49</td>\n",
       "      <td>22.20</td>\n",
       "      <td>21.45</td>\n",
       "      <td>21.25</td>\n",
       "      <td>20.95</td>\n",
       "      <td>21.60</td>\n",
       "      <td>22.44</td>\n",
       "    </tr>\n",
       "    <tr>\n",
       "      <th>1954.0</th>\n",
       "      <td>23.02</td>\n",
       "      <td>25.00</td>\n",
       "      <td>25.33</td>\n",
       "      <td>22.97</td>\n",
       "      <td>21.73</td>\n",
       "      <td>20.77</td>\n",
       "      <td>19.52</td>\n",
       "      <td>19.33</td>\n",
       "      <td>18.95</td>\n",
       "      <td>19.11</td>\n",
       "      <td>20.27</td>\n",
       "      <td>21.30</td>\n",
       "    </tr>\n",
       "    <tr>\n",
       "      <th>...</th>\n",
       "      <td>...</td>\n",
       "      <td>...</td>\n",
       "      <td>...</td>\n",
       "      <td>...</td>\n",
       "      <td>...</td>\n",
       "      <td>...</td>\n",
       "      <td>...</td>\n",
       "      <td>...</td>\n",
       "      <td>...</td>\n",
       "      <td>...</td>\n",
       "      <td>...</td>\n",
       "      <td>...</td>\n",
       "    </tr>\n",
       "    <tr>\n",
       "      <th>2006.0</th>\n",
       "      <td>24.76</td>\n",
       "      <td>26.52</td>\n",
       "      <td>26.22</td>\n",
       "      <td>24.29</td>\n",
       "      <td>23.84</td>\n",
       "      <td>22.82</td>\n",
       "      <td>22.20</td>\n",
       "      <td>21.89</td>\n",
       "      <td>21.93</td>\n",
       "      <td>22.46</td>\n",
       "      <td>22.61</td>\n",
       "      <td>24.15</td>\n",
       "    </tr>\n",
       "    <tr>\n",
       "      <th>2007.0</th>\n",
       "      <td>25.82</td>\n",
       "      <td>26.81</td>\n",
       "      <td>26.41</td>\n",
       "      <td>24.96</td>\n",
       "      <td>23.05</td>\n",
       "      <td>21.61</td>\n",
       "      <td>21.05</td>\n",
       "      <td>19.95</td>\n",
       "      <td>19.85</td>\n",
       "      <td>19.31</td>\n",
       "      <td>19.82</td>\n",
       "      <td>21.15</td>\n",
       "    </tr>\n",
       "    <tr>\n",
       "      <th>2008.0</th>\n",
       "      <td>24.24</td>\n",
       "      <td>26.39</td>\n",
       "      <td>26.91</td>\n",
       "      <td>25.68</td>\n",
       "      <td>24.43</td>\n",
       "      <td>23.19</td>\n",
       "      <td>23.02</td>\n",
       "      <td>22.14</td>\n",
       "      <td>21.60</td>\n",
       "      <td>21.39</td>\n",
       "      <td>21.54</td>\n",
       "      <td>22.73</td>\n",
       "    </tr>\n",
       "    <tr>\n",
       "      <th>2009.0</th>\n",
       "      <td>24.39</td>\n",
       "      <td>25.53</td>\n",
       "      <td>25.48</td>\n",
       "      <td>25.84</td>\n",
       "      <td>24.95</td>\n",
       "      <td>24.09</td>\n",
       "      <td>23.09</td>\n",
       "      <td>22.03</td>\n",
       "      <td>21.48</td>\n",
       "      <td>21.64</td>\n",
       "      <td>21.99</td>\n",
       "      <td>23.21</td>\n",
       "    </tr>\n",
       "    <tr>\n",
       "      <th>2010.0</th>\n",
       "      <td>24.70</td>\n",
       "      <td>26.16</td>\n",
       "      <td>26.54</td>\n",
       "      <td>26.04</td>\n",
       "      <td>24.75</td>\n",
       "      <td>23.26</td>\n",
       "      <td>21.11</td>\n",
       "      <td>19.49</td>\n",
       "      <td>19.28</td>\n",
       "      <td>19.73</td>\n",
       "      <td>20.44</td>\n",
       "      <td>22.07</td>\n",
       "    </tr>\n",
       "  </tbody>\n",
       "</table>\n",
       "<p>61 rows × 12 columns</p>\n",
       "</div>"
      ],
      "text/plain": [
       "          JAN    FEB    MAR    APR    MAY    JUN    JUL    AUG    SEP    OCT  \\\n",
       "YEAR                                                                           \n",
       "1950.0  23.11  24.20  25.37  23.86  23.03  21.57  20.63  20.15  19.67  20.03   \n",
       "1951.0  24.19  25.28  25.60  25.37  24.79  24.69  23.86  22.32  21.44  21.77   \n",
       "1952.0  24.52  26.21  26.37  24.73  23.71  22.34  20.89  20.02  19.63  20.40   \n",
       "1953.0  24.15  26.34  27.36  27.03  25.47  23.49  22.20  21.45  21.25  20.95   \n",
       "1954.0  23.02  25.00  25.33  22.97  21.73  20.77  19.52  19.33  18.95  19.11   \n",
       "...       ...    ...    ...    ...    ...    ...    ...    ...    ...    ...   \n",
       "2006.0  24.76  26.52  26.22  24.29  23.84  22.82  22.20  21.89  21.93  22.46   \n",
       "2007.0  25.82  26.81  26.41  24.96  23.05  21.61  21.05  19.95  19.85  19.31   \n",
       "2008.0  24.24  26.39  26.91  25.68  24.43  23.19  23.02  22.14  21.60  21.39   \n",
       "2009.0  24.39  25.53  25.48  25.84  24.95  24.09  23.09  22.03  21.48  21.64   \n",
       "2010.0  24.70  26.16  26.54  26.04  24.75  23.26  21.11  19.49  19.28  19.73   \n",
       "\n",
       "          NOV    DEC  \n",
       "YEAR                  \n",
       "1950.0  20.02  21.80  \n",
       "1951.0  22.33  22.89  \n",
       "1952.0  20.77  22.39  \n",
       "1953.0  21.60  22.44  \n",
       "1954.0  20.27  21.30  \n",
       "...       ...    ...  \n",
       "2006.0  22.61  24.15  \n",
       "2007.0  19.82  21.15  \n",
       "2008.0  21.54  22.73  \n",
       "2009.0  21.99  23.21  \n",
       "2010.0  20.44  22.07  \n",
       "\n",
       "[61 rows x 12 columns]"
      ]
     },
     "execution_count": 28,
     "metadata": {},
     "output_type": "execute_result"
    }
   ],
   "source": [
    "df"
   ]
  },
  {
   "cell_type": "code",
   "execution_count": 29,
   "id": "69847aea",
   "metadata": {
    "ExecuteTime": {
     "end_time": "2022-04-17T17:07:07.774977Z",
     "start_time": "2022-04-17T17:07:07.770175Z"
    }
   },
   "outputs": [],
   "source": [
    "data = pd.Series(df.values.ravel())"
   ]
  },
  {
   "cell_type": "code",
   "execution_count": 30,
   "id": "e6a065e6",
   "metadata": {
    "ExecuteTime": {
     "end_time": "2022-04-17T17:07:09.055728Z",
     "start_time": "2022-04-17T17:07:08.456178Z"
    }
   },
   "outputs": [],
   "source": [
    "results = fit_data(data)"
   ]
  },
  {
   "cell_type": "code",
   "execution_count": 32,
   "id": "f51da67b",
   "metadata": {
    "ExecuteTime": {
     "end_time": "2022-04-17T17:07:11.032481Z",
     "start_time": "2022-04-17T17:07:10.683408Z"
    }
   },
   "outputs": [
    {
     "data": {
      "image/png": "[encoded data removed]",
      "text/plain": [
       "<Figure size 720x360 with 1 Axes>"
      ]
     },
     "metadata": {
      "needs_background": "light"
     },
     "output_type": "display_data"
    }
   ],
   "source": [
    "plot_histogram(data, results, 5)"
   ]
  },
  {
   "cell_type": "markdown",
   "id": "bb40a0b3",
   "metadata": {},
   "source": [
    "# Z-test"
   ]
  },
  {
   "cell_type": "code",
   "execution_count": 16,
   "id": "2b0f49d0",
   "metadata": {
    "ExecuteTime": {
     "end_time": "2022-04-17T15:49:20.239642Z",
     "start_time": "2022-04-17T15:49:20.181519Z"
    }
   },
   "outputs": [],
   "source": [
    "from statsmodels.stats.weightstats import ztest  "
   ]
  },
  {
   "cell_type": "markdown",
   "id": "9cdfbc15",
   "metadata": {},
   "source": [
    "## На одной выборке"
   ]
  },
  {
   "cell_type": "markdown",
   "id": "425bb019",
   "metadata": {
    "ExecuteTime": {
     "end_time": "2021-11-18T22:11:26.527037Z",
     "start_time": "2021-11-18T22:11:26.434988Z"
    }
   },
   "source": [
    "Сгенерируем случайный массив из 50 чисел, имеющих среднее значение 110 и стандартное отклонение 15 аналогично данным IQ, которые мы предполагаем в задаче."
   ]
  },
  {
   "cell_type": "code",
   "execution_count": null,
   "id": "c39b4a39",
   "metadata": {
    "ExecuteTime": {
     "end_time": "2022-04-17T16:05:42.185043Z",
     "start_time": "2022-04-17T16:05:42.180463Z"
    }
   },
   "outputs": [],
   "source": [
    "mean_iq = 110\n",
    "sd_iq = 15 / math.sqrt(50)\n",
    "alpha = 0.05\n",
    "null_mean = 100\n",
    "# генерируем данные\n",
    "data = np.random.randn(50) + mean_iq"
   ]
  },
  {
   "cell_type": "code",
   "execution_count": 22,
   "id": "6ea9b0fe",
   "metadata": {
    "ExecuteTime": {
     "end_time": "2022-04-17T16:05:43.147487Z",
     "start_time": "2022-04-17T16:05:43.142677Z"
    }
   },
   "outputs": [
    {
     "name": "stdout",
     "output_type": "stream",
     "text": [
      "mean=109.94 stdv=0.93\n"
     ]
    }
   ],
   "source": [
    "print('mean=%.2f stdv=%.2f' % (np.mean(data), np.std(data)))\n",
    "  "
   ]
  },
  {
   "cell_type": "markdown",
   "id": "d7fcf34b",
   "metadata": {
    "ExecuteTime": {
     "end_time": "2021-11-18T22:13:57.648731Z",
     "start_time": "2021-11-18T22:13:57.643927Z"
    }
   },
   "source": [
    "Теперь проводим тест. В этой функции мы передали данные, в параметре значения мы передали среднее значение в нулевой гипотезе, в альтернативной гипотезе мы проверяем, больше ли среднее значение"
   ]
  },
  {
   "cell_type": "code",
   "execution_count": 23,
   "id": "c0040f5a",
   "metadata": {
    "ExecuteTime": {
     "end_time": "2022-04-17T16:05:46.172905Z",
     "start_time": "2022-04-17T16:05:46.169497Z"
    }
   },
   "outputs": [],
   "source": [
    "ztest_Score, p_value = ztest(data, value = null_mean, alternative='larger')"
   ]
  },
  {
   "cell_type": "code",
   "execution_count": 24,
   "id": "0b3b3c77",
   "metadata": {
    "ExecuteTime": {
     "end_time": "2022-04-17T16:05:49.199204Z",
     "start_time": "2022-04-17T16:05:49.195138Z"
    }
   },
   "outputs": [
    {
     "data": {
      "text/plain": [
       "(74.5938069638874, 0.0)"
      ]
     },
     "execution_count": 24,
     "metadata": {},
     "output_type": "execute_result"
    }
   ],
   "source": [
    "ztest_Score, p_value"
   ]
  },
  {
   "cell_type": "markdown",
   "id": "bda82122",
   "metadata": {
    "ExecuteTime": {
     "end_time": "2021-11-18T22:14:40.100021Z",
     "start_time": "2021-11-18T22:14:40.094813Z"
    }
   },
   "source": [
    "Функция выводит p_value и z-score, соответствующие этому значению, мы сравниваем p-значение с альфа, если оно больше альфа, то мы не принимаем нулевую гипотезу, иначе мы ее отклоняем."
   ]
  },
  {
   "cell_type": "code",
   "execution_count": 124,
   "id": "c662cf02",
   "metadata": {
    "ExecuteTime": {
     "end_time": "2021-11-19T18:01:18.128840Z",
     "start_time": "2021-11-19T18:01:18.123979Z"
    }
   },
   "outputs": [
    {
     "name": "stdout",
     "output_type": "stream",
     "text": [
      "Отклонить Н0.\n"
     ]
    }
   ],
   "source": [
    "if(p_value <  alpha):\n",
    "    print(\"Отклонить Н0.\")\n",
    "else:\n",
    "    print(\"Н0 не может быть отклонена.\")"
   ]
  },
  {
   "cell_type": "markdown",
   "id": "e76e73e1",
   "metadata": {},
   "source": [
    "## На двух выборках"
   ]
  },
  {
   "cell_type": "markdown",
   "id": "2451ba9b",
   "metadata": {},
   "source": [
    "Сравним уровни IQ в двух разных городах."
   ]
  },
  {
   "cell_type": "code",
   "execution_count": 33,
   "id": "5220d17e",
   "metadata": {
    "ExecuteTime": {
     "end_time": "2022-04-17T17:07:26.799494Z",
     "start_time": "2022-04-17T17:07:26.795401Z"
    }
   },
   "outputs": [],
   "source": [
    "cityA = [82, 84, 85, 89, 91, 91, 92, 94, 99, 99,\n",
    "         105, 109, 109, 109, 110, 112, 112, 113, 114, 114]\n",
    "\n",
    "cityB = [90, 91, 91, 91, 95, 95, 99, 99, 108, 109,\n",
    "         109, 114, 115, 116, 117, 117, 128, 129, 130, 133]"
   ]
  },
  {
   "cell_type": "markdown",
   "id": "29f9d1ba",
   "metadata": {
    "ExecuteTime": {
     "end_time": "2021-11-18T22:29:17.895822Z",
     "start_time": "2021-11-18T22:29:17.861475Z"
    }
   },
   "source": [
    "Выполняем тест."
   ]
  },
  {
   "cell_type": "markdown",
   "id": "09a3e103",
   "metadata": {},
   "source": [
    "value : float  \n",
    "    In the one sample case, value is the mean of x1 under the Null\n",
    "    hypothesis.\n",
    "    In the two sample case, value is the difference between mean of x1 and\n",
    "    mean of x2 under the Null hypothesis. The test statistic is\n",
    "    `x1_mean - x2_mean - value`."
   ]
  },
  {
   "cell_type": "code",
   "execution_count": 34,
   "id": "1072f324",
   "metadata": {
    "ExecuteTime": {
     "end_time": "2022-04-17T17:07:27.898078Z",
     "start_time": "2022-04-17T17:07:27.891827Z"
    }
   },
   "outputs": [
    {
     "data": {
      "text/plain": [
       "(-1.9953236073282115, 0.046007596761332065)"
      ]
     },
     "execution_count": 34,
     "metadata": {},
     "output_type": "execute_result"
    }
   ],
   "source": [
    "ztest(cityA, cityB, value=0) "
   ]
  },
  {
   "cell_type": "markdown",
   "id": "c8dd37db",
   "metadata": {
    "ExecuteTime": {
     "end_time": "2021-11-18T22:36:43.559957Z",
     "start_time": "2021-11-18T22:36:43.506713Z"
    }
   },
   "source": [
    "Статистика для двух выборок z-критерия составляет -1.9953, а соответствующее p-value равно 0.0460.\n",
    "\n",
    "Поскольку p-value < 0.05, у нас есть достаточно доказательств, чтобы отвергнуть нулевую гипотезу. Другими словами, средний уровень IQ значительно различается между двумя городами."
   ]
  }
 ],
 "metadata": {
  "kernelspec": {
   "display_name": "Python 3 (ipykernel)",
   "language": "python",
   "name": "python3"
  },
  "language_info": {
   "codemirror_mode": {
    "name": "ipython",
    "version": 3
   },
   "file_extension": ".py",
   "mimetype": "text/x-python",
   "name": "python",
   "nbconvert_exporter": "python",
   "pygments_lexer": "ipython3",
   "version": "3.9.7"
  },
  "toc": {
   "base_numbering": 1,
   "nav_menu": {},
   "number_sections": true,
   "sideBar": true,
   "skip_h1_title": false,
   "title_cell": "Table of Contents",
   "title_sidebar": "Contents",
   "toc_cell": false,
   "toc_position": {},
   "toc_section_display": true,
   "toc_window_display": false
  }
 },
 "nbformat": 4,
 "nbformat_minor": 5
}
