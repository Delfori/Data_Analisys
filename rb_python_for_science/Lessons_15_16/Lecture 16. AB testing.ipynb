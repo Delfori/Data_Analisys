{
 "cells": [
  {
   "cell_type": "markdown",
   "metadata": {},
   "source": [
    "# A/B testing: A step-by-step guide in Python"
   ]
  },
  {
   "cell_type": "markdown",
   "metadata": {},
   "source": [
    "Рассмотрим процесс анализа A / B-теста, от формулирования гипотезы, ее проверки и, наконец, интерпретации результатов. Для наших данных мы будем использовать <a href='https://www.kaggle.com/zhangluyuan/ab-testing?select=ab_data.csv'>набор данных из Kaggle</a> который содержит результаты A/B-теста двух разных дизайнов страницы веб-сайта (old_page и new_page). Вот что мы сделаем:\n",
    "\n",
    "1. [Дизайн эксперимента](#1.-Дизайн-эксперимента)\n",
    "2. [Сбор и подготовка данных](#2.-Сбор-и-подготовка-данных)\n",
    "3. [Визуализация результатов](#3.-Визуализация-результатов)\n",
    "4. [Тестирование гипотезы](#4.-Тестирование-гипотезы)\n",
    "5. [Выводы](#5.-Выводы)\n",
    "\n",
    "Чтобы сделать это немного более реалистичным, вот потенциальный **сценарий** для нашего исследования:\n",
    "\n",
    "> Представьте, что вы работаете в группе разработчиков **предприятия электронной коммерции в Интернете**. Дизайнер UX очень усердно поработал над новой версией страницы продукта, надеясь, что это приведет к более высокому коэффициенту конверсии. Менеджер по продукту (PM)сказал вам, что **текущий коэффициент конверсии** составляет в среднем **13%** в течение года, и что команда будет довольна **увеличением на 2%**, что означает что новый дизайн будет считаться успешным, если он поднимет коэффициент конверсии до 15%.\n",
    "\n",
    "Перед внедрением изменения команде будет удобнее протестировать его на небольшом количестве пользователей, чтобы увидеть, как оно работает, поэтому вы предлагаете выполнить **A/B-тест** на подмножестве пользователей из вашей пользовательской базы."
   ]
  },
  {
   "cell_type": "markdown",
   "metadata": {},
   "source": [
    "***\n",
    "## 1. Дизайн эксперимента"
   ]
  },
  {
   "cell_type": "markdown",
   "metadata": {},
   "source": [
    "### Формулировка гипотезы\n",
    "\n",
    "Прежде всего, мы хотим убедиться, что сформулировали гипотезу в начале нашего проекта. Это обеспечит правильность и строгость нашей интерпретации результатов.\n",
    "\n",
    "Поскольку мы не знаем, будет ли новый дизайн работать лучше или хуже (или будет таким же?), мы выберем <a href=\"https://en.wikipedia.org/wiki/One-_and_two-tailed_tests\">**двухсторонний  тест**</a>:\n",
    "\n",
    "$$H_0: p = p_0$$\n",
    "$$H_a: p \\ne p_0$$\n",
    "\n",
    "где $p$ и $p_0$ обозначают коэффициент конверсии нового и старого дизайна соответственно. Мы также установим **уровень достоверности 95%**\n",
    "\n",
    "$$\\alpha = 0.05$$\n",
    "\n",
    "Значение $\\alpha$ - это установленный нами порог, по которому мы говорим: «Если вероятность получения результата как экстремального или большего ($p$ -значение) ниже, чем $\\alpha$, то мы отклоняем нулевую гипотезу». . Поскольку наше $\\alpha = 0.05$ (что указывает на вероятность 5%), наша уверенность (1 - $\\alpha$) составляет 95%.\n",
    "\n",
    "Если вы не знакомы с вышеизложенным, все это на самом деле означает, что какой бы коэффициент конверсии мы ни наблюдали для нашего нового дизайна в нашем тесте, мы хотим быть уверены на 95%, что он статистически отличается от коэффициента конверсии нашего старого дизайн, прежде чем мы решим отвергнуть нулевую гипотезу $H_0$."
   ]
  },
  {
   "cell_type": "markdown",
   "metadata": {},
   "source": [
    "### Выбор переменных\n",
    "\n",
    "Для нашего теста нам понадобятся **две группы**:\n",
    "* Группа `control` - им будет показан старый дизайн\n",
    "* `treatment` (или экспериментальная, тестовая) группа - им будет показан новый дизайн.\n",
    "\n",
    "Это будет наша *независимая переменная*. Причина, по которой у нас есть две группы, хотя мы знаем базовый коэффициент конверсии, заключается в том, что мы хотим контролировать другие переменные, которые могут повлиять на наши результаты, такие как сезонность: имея `control` группу, мы можем напрямую сравнивать их результаты с группой `treatment`, потому что единственное систематическое различие между группами - это дизайн страницы продукта, и поэтому мы можем связать любые различия в результатах с дизайном.\n",
    "\n",
    "Для нашей *Зависимой переменной* (то есть того, что мы пытаемся измерить) мы заинтересованы в регистрации «коэффициента конверсии». Мы можем закодировать это с помощью каждого пользовательского сеанса с двоичной переменной:\n",
    "* `0` - пользователь не покупал товар во время этой пользовательской сессии.\n",
    "* `1` - пользователь купил продукт во время этой пользовательской сессии.\n",
    "\n",
    "Таким образом, мы можем легко вычислить среднее значение для каждой группы, чтобы получить коэффициент конверсии каждого дизайна."
   ]
  },
  {
   "cell_type": "markdown",
   "metadata": {},
   "source": [
    "### Выбор размера выборки\n",
    "\n",
    "Важно отметить, что, поскольку мы не будем тестировать всю базу пользователей (наше <a href = \"https://www.bmj.com/about-bmj/resources-readers/publications/statistics-square-one/3 -populations-and-samples \"> население </a>), полученные нами коэффициенты конверсии неизбежно будут лишь *оценками* истинных коэффициентов.\n",
    "\n",
    "Количество людей (или пользовательских сеансов), которых мы решаем охватить в каждой группе, повлияет на точность наших расчетных коэффициентов конверсии: **чем больше размер выборки**, тем точнее наши оценки (т. е. Тем меньше наши интервалы уверенности - confidence intervals), **тем выше шанс обнаружить разницу** в двух группах, если она есть.\n",
    "\n",
    "С другой стороны, чем больше становится наша выборка, тем дороже (и непрактичнее) становится наше исследование.\n",
    "\n",
    "*Итак, сколько человек должно быть в каждой группе?*\n",
    "\n",
    "Размер необходимой нам выборки оценивается с помощью так называемого <a href=\"https://research.usu.edu//irb/wp-content/uploads/sites/12/2015/08/A_Researchers_Guide_to_Power_Analysis_USU.pdf\"> *Анализа мощности* </a>, и это зависит от нескольких факторов:\n",
    "* **Мощность теста** ($ 1 - \\beta $) - представляет собой вероятность обнаружения статистической разницы между группами в нашем тесте, когда разница действительно присутствует. Обычно это значение устанавливается на 0.8 (если вам интересно, дополнительную информацию о <a href=\"https://en.wikipedia.org/wiki/Power_of_a_test\"> статистической мощности </a> см. здесь)\n",
    "* **Альфа-значение** ($ \\alpha $) - критическое значение, которое мы ранее установили равным 0.05.\n",
    "* **Размер эффекта** - насколько большой, по нашему мнению, будет разница между коэффициентами конверсии.\n",
    "\n",
    "Поскольку наша команда была бы довольна разницей в 2%, мы можем использовать конверсии 13% и 15% для расчета ожидаемого эффекта.\n",
    "\n",
    "К счастью, **Python позаботится обо всех этих вычислениях за нас**:"
   ]
  },
  {
   "cell_type": "code",
   "execution_count": 24,
   "metadata": {
    "ExecuteTime": {
     "end_time": "2021-11-19T18:16:25.149565Z",
     "start_time": "2021-11-19T18:16:24.818273Z"
    }
   },
   "outputs": [],
   "source": [
    "import numpy as np\n",
    "import pandas as pd\n",
    "import scipy.stats as stats\n",
    "import statsmodels.stats.api as sms\n",
    "import matplotlib as mpl\n",
    "import matplotlib.pyplot as plt\n",
    "import seaborn as sns\n",
    "from math import ceil\n",
    "\n",
    "%matplotlib inline\n",
    "\n",
    "# Для построения графиков\n",
    "plt.style.use('seaborn-whitegrid')\n",
    "font = {'family' : 'Helvetica',\n",
    "        'weight' : 'bold',\n",
    "        'size'   : 14}\n",
    "\n",
    "mpl.rc('font', **font)"
   ]
  },
  {
   "cell_type": "code",
   "execution_count": null,
   "metadata": {
    "ExecuteTime": {
     "end_time": "2021-11-19T18:16:28.163983Z",
     "start_time": "2021-11-19T18:16:28.054460Z"
    }
   },
   "outputs": [],
   "source": [
    "effect_size = sms.proportion_effectsize(0.13, 0.15)    # Расчет размера эффекта на основе наших ожидаемых показателей"
   ]
  },
  {
   "cell_type": "code",
   "execution_count": 26,
   "metadata": {
    "ExecuteTime": {
     "end_time": "2021-11-19T18:17:14.872489Z",
     "start_time": "2021-11-19T18:17:14.827357Z"
    }
   },
   "outputs": [
    {
     "data": {
      "text/plain": [
       "-0.0576728617308947"
      ]
     },
     "execution_count": 26,
     "metadata": {},
     "output_type": "execute_result"
    }
   ],
   "source": [
    "effect_size"
   ]
  },
  {
   "cell_type": "code",
   "execution_count": 25,
   "metadata": {
    "ExecuteTime": {
     "end_time": "2021-11-19T18:16:28.163983Z",
     "start_time": "2021-11-19T18:16:28.054460Z"
    }
   },
   "outputs": [
    {
     "name": "stdout",
     "output_type": "stream",
     "text": [
      "4720\n"
     ]
    }
   ],
   "source": [
    "required_n = sms.NormalIndPower().solve_power(\n",
    "    effect_size, \n",
    "    power=0.8, \n",
    "    alpha=0.05, \n",
    "    ratio=1\n",
    "    )                                                  # Расчет необходимого размера выборки\n",
    "\n",
    "required_n = ceil(required_n)                          # Округление до следующего целого числа                        \n",
    "\n",
    "print(required_n)"
   ]
  },
  {
   "cell_type": "markdown",
   "metadata": {},
   "source": [
    "Нам потребуется **минимум 4720 наблюдений для каждой группы**.\n",
    "\n",
    "Установка параметра power на 0.8 на практике означает, что если существует реальная разница в коэффициенте конверсии между нашими версиями продукта, предполагая, что разница является той, которую мы оценили (13% против 15%), у нас есть 80% шанс определить его как статистически значимый в нашем тесте с размером выборки, который мы рассчитали."
   ]
  },
  {
   "cell_type": "markdown",
   "metadata": {},
   "source": [
    "***\n",
    "## 2. Сбор и подготовка данных"
   ]
  },
  {
   "cell_type": "markdown",
   "metadata": {},
   "source": [
    "Итак, теперь, когда у нас есть требуемый размер выборки, нам нужно собрать данные. Обычно на этом этапе вы работаете со своей командой над настройкой эксперимента, вероятно, с помощью группы инженеров, и убедитесь, что вы собрали достаточно данных с точки зрения необходимого размера выборки.\n",
    "\n",
    "Для примера, однако, поскольку мы будем использовать набор открытых данных, потому мы:\n",
    "1. Загрузим <a href='https://www.kaggle.com/zhangluyuan/ab-testing?select=ab_data.csv'> набор данных из Kaggle </a>.\n",
    "2. Считаем данные в фрейм данных pandas.\n",
    "3. Проверим и при необходимости очистим данные.\n",
    "4. Произвольно выберем n = 4720 строк из DataFrame для каждой группы.\n",
    "\n",
    "**Примечание**: Обычно нам не нужно выполнять шаг 4, это просто ради упражнения."
   ]
  },
  {
   "cell_type": "code",
   "execution_count": 27,
   "metadata": {
    "ExecuteTime": {
     "end_time": "2021-11-19T18:20:43.061317Z",
     "start_time": "2021-11-19T18:20:41.595204Z"
    }
   },
   "outputs": [
    {
     "data": {
      "text/html": [
       "<div>\n",
       "<style scoped>\n",
       "    .dataframe tbody tr th:only-of-type {\n",
       "        vertical-align: middle;\n",
       "    }\n",
       "\n",
       "    .dataframe tbody tr th {\n",
       "        vertical-align: top;\n",
       "    }\n",
       "\n",
       "    .dataframe thead th {\n",
       "        text-align: right;\n",
       "    }\n",
       "</style>\n",
       "<table border=\"1\" class=\"dataframe\">\n",
       "  <thead>\n",
       "    <tr style=\"text-align: right;\">\n",
       "      <th></th>\n",
       "      <th>user_id</th>\n",
       "      <th>timestamp</th>\n",
       "      <th>group</th>\n",
       "      <th>landing_page</th>\n",
       "      <th>converted</th>\n",
       "    </tr>\n",
       "  </thead>\n",
       "  <tbody>\n",
       "    <tr>\n",
       "      <th>0</th>\n",
       "      <td>851104</td>\n",
       "      <td>2017-01-21 22:11:48.556739</td>\n",
       "      <td>control</td>\n",
       "      <td>old_page</td>\n",
       "      <td>0</td>\n",
       "    </tr>\n",
       "    <tr>\n",
       "      <th>1</th>\n",
       "      <td>804228</td>\n",
       "      <td>2017-01-12 08:01:45.159739</td>\n",
       "      <td>control</td>\n",
       "      <td>old_page</td>\n",
       "      <td>0</td>\n",
       "    </tr>\n",
       "    <tr>\n",
       "      <th>2</th>\n",
       "      <td>661590</td>\n",
       "      <td>2017-01-11 16:55:06.154213</td>\n",
       "      <td>treatment</td>\n",
       "      <td>new_page</td>\n",
       "      <td>0</td>\n",
       "    </tr>\n",
       "    <tr>\n",
       "      <th>3</th>\n",
       "      <td>853541</td>\n",
       "      <td>2017-01-08 18:28:03.143765</td>\n",
       "      <td>treatment</td>\n",
       "      <td>new_page</td>\n",
       "      <td>0</td>\n",
       "    </tr>\n",
       "    <tr>\n",
       "      <th>4</th>\n",
       "      <td>864975</td>\n",
       "      <td>2017-01-21 01:52:26.210827</td>\n",
       "      <td>control</td>\n",
       "      <td>old_page</td>\n",
       "      <td>1</td>\n",
       "    </tr>\n",
       "  </tbody>\n",
       "</table>\n",
       "</div>"
      ],
      "text/plain": [
       "   user_id                   timestamp      group landing_page  converted\n",
       "0   851104  2017-01-21 22:11:48.556739    control     old_page          0\n",
       "1   804228  2017-01-12 08:01:45.159739    control     old_page          0\n",
       "2   661590  2017-01-11 16:55:06.154213  treatment     new_page          0\n",
       "3   853541  2017-01-08 18:28:03.143765  treatment     new_page          0\n",
       "4   864975  2017-01-21 01:52:26.210827    control     old_page          1"
      ]
     },
     "execution_count": 27,
     "metadata": {},
     "output_type": "execute_result"
    }
   ],
   "source": [
    "df = pd.read_csv('../data/ab_data/ab_data.csv.zip')\n",
    "\n",
    "df.head()"
   ]
  },
  {
   "cell_type": "code",
   "execution_count": 28,
   "metadata": {
    "ExecuteTime": {
     "end_time": "2021-11-19T18:20:47.018392Z",
     "start_time": "2021-11-19T18:20:46.855209Z"
    }
   },
   "outputs": [
    {
     "name": "stdout",
     "output_type": "stream",
     "text": [
      "<class 'pandas.core.frame.DataFrame'>\n",
      "RangeIndex: 294478 entries, 0 to 294477\n",
      "Data columns (total 5 columns):\n",
      " #   Column        Non-Null Count   Dtype \n",
      "---  ------        --------------   ----- \n",
      " 0   user_id       294478 non-null  int64 \n",
      " 1   timestamp     294478 non-null  object\n",
      " 2   group         294478 non-null  object\n",
      " 3   landing_page  294478 non-null  object\n",
      " 4   converted     294478 non-null  int64 \n",
      "dtypes: int64(2), object(3)\n",
      "memory usage: 11.2+ MB\n"
     ]
    }
   ],
   "source": [
    "df.info()"
   ]
  },
  {
   "cell_type": "code",
   "execution_count": 8,
   "metadata": {
    "ExecuteTime": {
     "end_time": "2021-11-18T16:06:20.993489Z",
     "start_time": "2021-11-18T16:06:20.885432Z"
    }
   },
   "outputs": [
    {
     "data": {
      "text/html": [
       "<div>\n",
       "<style scoped>\n",
       "    .dataframe tbody tr th:only-of-type {\n",
       "        vertical-align: middle;\n",
       "    }\n",
       "\n",
       "    .dataframe tbody tr th {\n",
       "        vertical-align: top;\n",
       "    }\n",
       "\n",
       "    .dataframe thead th {\n",
       "        text-align: right;\n",
       "    }\n",
       "</style>\n",
       "<table border=\"1\" class=\"dataframe\">\n",
       "  <thead>\n",
       "    <tr style=\"text-align: right;\">\n",
       "      <th>landing_page</th>\n",
       "      <th>new_page</th>\n",
       "      <th>old_page</th>\n",
       "    </tr>\n",
       "    <tr>\n",
       "      <th>group</th>\n",
       "      <th></th>\n",
       "      <th></th>\n",
       "    </tr>\n",
       "  </thead>\n",
       "  <tbody>\n",
       "    <tr>\n",
       "      <th>control</th>\n",
       "      <td>1928</td>\n",
       "      <td>145274</td>\n",
       "    </tr>\n",
       "    <tr>\n",
       "      <th>treatment</th>\n",
       "      <td>145311</td>\n",
       "      <td>1965</td>\n",
       "    </tr>\n",
       "  </tbody>\n",
       "</table>\n",
       "</div>"
      ],
      "text/plain": [
       "landing_page  new_page  old_page\n",
       "group                           \n",
       "control           1928    145274\n",
       "treatment       145311      1965"
      ]
     },
     "execution_count": 8,
     "metadata": {},
     "output_type": "execute_result"
    }
   ],
   "source": [
    "# Чтобы убедиться, что вся контрольная группа видит старую страницу и наоборот.\n",
    "\n",
    "pd.crosstab(df['group'], df['landing_page'])"
   ]
  },
  {
   "cell_type": "markdown",
   "metadata": {},
   "source": [
    "В DataFrame **294478 строк**, каждая из которых представляет сеанс пользователя, а также **5 столбцов**:\n",
    "* `user_id` - ID пользователя каждой сессии\n",
    "* `timestamp` - отметка времени сеанса\n",
    "* `group` - в какую группу был назначен пользователь для этого сеанса {`control`, `treatment`}\n",
    "* `landing_page` - какой дизайн каждый пользователь видел в этом сеансе {`old_page`, `new_page`}\n",
    "* `convert` - завершился ли сеанс конверсией (двоичная переменная,` 0` - нет конверсии, `1` - есть конверсия)\n",
    "\n",
    "Фактически мы будем использовать для анализа только столбцы «group» и «convert».\n",
    "\n",
    "Прежде чем мы продолжим и проанализируем данные для получения нашего подмножества, давайте удостоверимся, что нет пользователей, которые были выбраны несколько раз."
   ]
  },
  {
   "cell_type": "code",
   "execution_count": 29,
   "metadata": {
    "ExecuteTime": {
     "end_time": "2021-11-19T18:22:21.852294Z",
     "start_time": "2021-11-19T18:22:21.757005Z"
    }
   },
   "outputs": [
    {
     "name": "stdout",
     "output_type": "stream",
     "text": [
      "Есть 3894 пользователей, который встречаются несколько раз в наборе данных.\n"
     ]
    }
   ],
   "source": [
    "session_counts = df['user_id'].value_counts(ascending=False)\n",
    "multi_users = session_counts[session_counts > 1].count()\n",
    "\n",
    "print(f'Есть {multi_users} пользователей, который встречаются несколько раз в наборе данных.')"
   ]
  },
  {
   "cell_type": "markdown",
   "metadata": {},
   "source": [
    "На самом деле есть пользователи, которые появляются более одного раза. Поскольку это число сравнительно мало, мы удалим их из DataFrame, чтобы избежать выборки одних и тех же пользователей дважды. "
   ]
  },
  {
   "cell_type": "code",
   "execution_count": 30,
   "metadata": {
    "ExecuteTime": {
     "end_time": "2021-11-19T18:22:36.266326Z",
     "start_time": "2021-11-19T18:22:36.200013Z"
    }
   },
   "outputs": [
    {
     "name": "stdout",
     "output_type": "stream",
     "text": [
      "Новый размер набора данных: (286690, 5)\n"
     ]
    }
   ],
   "source": [
    "users_to_drop = session_counts[session_counts > 1].index\n",
    "\n",
    "df = df[~df['user_id'].isin(users_to_drop)]\n",
    "print(f'Новый размер набора данных: {df.shape}')"
   ]
  },
  {
   "cell_type": "markdown",
   "metadata": {},
   "source": [
    "### Самплинг\n",
    "\n",
    "Теперь, когда наш DataFrame красивый и чистый, мы можем продолжить и выбрать n=4720 записей для каждой из групп."
   ]
  },
  {
   "cell_type": "code",
   "execution_count": 31,
   "metadata": {
    "ExecuteTime": {
     "end_time": "2021-11-19T18:22:54.842212Z",
     "start_time": "2021-11-19T18:22:54.709345Z"
    }
   },
   "outputs": [],
   "source": [
    "control_sample = df[df['group'] == 'control'].sample(n=required_n, random_state=22)\n",
    "treatment_sample = df[df['group'] == 'treatment'].sample(n=required_n, random_state=22)\n",
    "\n",
    "ab_test = pd.concat([control_sample, treatment_sample], axis=0)\n",
    "ab_test.reset_index(drop=True, inplace=True)"
   ]
  },
  {
   "cell_type": "code",
   "execution_count": 15,
   "metadata": {
    "ExecuteTime": {
     "end_time": "2021-11-18T16:09:30.073848Z",
     "start_time": "2021-11-18T16:09:30.061582Z"
    }
   },
   "outputs": [
    {
     "data": {
      "text/html": [
       "<div>\n",
       "<style scoped>\n",
       "    .dataframe tbody tr th:only-of-type {\n",
       "        vertical-align: middle;\n",
       "    }\n",
       "\n",
       "    .dataframe tbody tr th {\n",
       "        vertical-align: top;\n",
       "    }\n",
       "\n",
       "    .dataframe thead th {\n",
       "        text-align: right;\n",
       "    }\n",
       "</style>\n",
       "<table border=\"1\" class=\"dataframe\">\n",
       "  <thead>\n",
       "    <tr style=\"text-align: right;\">\n",
       "      <th></th>\n",
       "      <th>user_id</th>\n",
       "      <th>timestamp</th>\n",
       "      <th>group</th>\n",
       "      <th>landing_page</th>\n",
       "      <th>converted</th>\n",
       "    </tr>\n",
       "  </thead>\n",
       "  <tbody>\n",
       "    <tr>\n",
       "      <th>0</th>\n",
       "      <td>763854</td>\n",
       "      <td>2017-01-21 03:43:17.188315</td>\n",
       "      <td>control</td>\n",
       "      <td>old_page</td>\n",
       "      <td>0</td>\n",
       "    </tr>\n",
       "    <tr>\n",
       "      <th>1</th>\n",
       "      <td>690555</td>\n",
       "      <td>2017-01-18 06:38:13.079449</td>\n",
       "      <td>control</td>\n",
       "      <td>old_page</td>\n",
       "      <td>0</td>\n",
       "    </tr>\n",
       "    <tr>\n",
       "      <th>2</th>\n",
       "      <td>861520</td>\n",
       "      <td>2017-01-06 21:13:40.044766</td>\n",
       "      <td>control</td>\n",
       "      <td>old_page</td>\n",
       "      <td>0</td>\n",
       "    </tr>\n",
       "    <tr>\n",
       "      <th>3</th>\n",
       "      <td>630778</td>\n",
       "      <td>2017-01-05 16:42:36.995204</td>\n",
       "      <td>control</td>\n",
       "      <td>old_page</td>\n",
       "      <td>0</td>\n",
       "    </tr>\n",
       "    <tr>\n",
       "      <th>4</th>\n",
       "      <td>656634</td>\n",
       "      <td>2017-01-04 15:31:21.676130</td>\n",
       "      <td>control</td>\n",
       "      <td>old_page</td>\n",
       "      <td>0</td>\n",
       "    </tr>\n",
       "    <tr>\n",
       "      <th>...</th>\n",
       "      <td>...</td>\n",
       "      <td>...</td>\n",
       "      <td>...</td>\n",
       "      <td>...</td>\n",
       "      <td>...</td>\n",
       "    </tr>\n",
       "    <tr>\n",
       "      <th>9435</th>\n",
       "      <td>908512</td>\n",
       "      <td>2017-01-14 22:02:29.922674</td>\n",
       "      <td>treatment</td>\n",
       "      <td>new_page</td>\n",
       "      <td>0</td>\n",
       "    </tr>\n",
       "    <tr>\n",
       "      <th>9436</th>\n",
       "      <td>873211</td>\n",
       "      <td>2017-01-05 00:57:16.167151</td>\n",
       "      <td>treatment</td>\n",
       "      <td>new_page</td>\n",
       "      <td>0</td>\n",
       "    </tr>\n",
       "    <tr>\n",
       "      <th>9437</th>\n",
       "      <td>631276</td>\n",
       "      <td>2017-01-20 18:56:58.167809</td>\n",
       "      <td>treatment</td>\n",
       "      <td>new_page</td>\n",
       "      <td>0</td>\n",
       "    </tr>\n",
       "    <tr>\n",
       "      <th>9438</th>\n",
       "      <td>662301</td>\n",
       "      <td>2017-01-03 08:10:57.768806</td>\n",
       "      <td>treatment</td>\n",
       "      <td>new_page</td>\n",
       "      <td>0</td>\n",
       "    </tr>\n",
       "    <tr>\n",
       "      <th>9439</th>\n",
       "      <td>944623</td>\n",
       "      <td>2017-01-19 10:56:01.648653</td>\n",
       "      <td>treatment</td>\n",
       "      <td>new_page</td>\n",
       "      <td>1</td>\n",
       "    </tr>\n",
       "  </tbody>\n",
       "</table>\n",
       "<p>9440 rows × 5 columns</p>\n",
       "</div>"
      ],
      "text/plain": [
       "      user_id                   timestamp      group landing_page  converted\n",
       "0      763854  2017-01-21 03:43:17.188315    control     old_page          0\n",
       "1      690555  2017-01-18 06:38:13.079449    control     old_page          0\n",
       "2      861520  2017-01-06 21:13:40.044766    control     old_page          0\n",
       "3      630778  2017-01-05 16:42:36.995204    control     old_page          0\n",
       "4      656634  2017-01-04 15:31:21.676130    control     old_page          0\n",
       "...       ...                         ...        ...          ...        ...\n",
       "9435   908512  2017-01-14 22:02:29.922674  treatment     new_page          0\n",
       "9436   873211  2017-01-05 00:57:16.167151  treatment     new_page          0\n",
       "9437   631276  2017-01-20 18:56:58.167809  treatment     new_page          0\n",
       "9438   662301  2017-01-03 08:10:57.768806  treatment     new_page          0\n",
       "9439   944623  2017-01-19 10:56:01.648653  treatment     new_page          1\n",
       "\n",
       "[9440 rows x 5 columns]"
      ]
     },
     "execution_count": 15,
     "metadata": {},
     "output_type": "execute_result"
    }
   ],
   "source": [
    "ab_test"
   ]
  },
  {
   "cell_type": "code",
   "execution_count": 16,
   "metadata": {
    "ExecuteTime": {
     "end_time": "2021-11-18T16:09:31.305180Z",
     "start_time": "2021-11-18T16:09:31.293630Z"
    }
   },
   "outputs": [
    {
     "name": "stdout",
     "output_type": "stream",
     "text": [
      "<class 'pandas.core.frame.DataFrame'>\n",
      "RangeIndex: 9440 entries, 0 to 9439\n",
      "Data columns (total 5 columns):\n",
      " #   Column        Non-Null Count  Dtype \n",
      "---  ------        --------------  ----- \n",
      " 0   user_id       9440 non-null   int64 \n",
      " 1   timestamp     9440 non-null   object\n",
      " 2   group         9440 non-null   object\n",
      " 3   landing_page  9440 non-null   object\n",
      " 4   converted     9440 non-null   int64 \n",
      "dtypes: int64(2), object(3)\n",
      "memory usage: 368.9+ KB\n"
     ]
    }
   ],
   "source": [
    "ab_test.info()"
   ]
  },
  {
   "cell_type": "code",
   "execution_count": 17,
   "metadata": {
    "ExecuteTime": {
     "end_time": "2021-11-18T16:09:31.913259Z",
     "start_time": "2021-11-18T16:09:31.907394Z"
    }
   },
   "outputs": [
    {
     "data": {
      "text/plain": [
       "control      4720\n",
       "treatment    4720\n",
       "Name: group, dtype: int64"
      ]
     },
     "execution_count": 17,
     "metadata": {},
     "output_type": "execute_result"
    }
   ],
   "source": [
    "ab_test['group'].value_counts()"
   ]
  },
  {
   "cell_type": "markdown",
   "metadata": {},
   "source": [
    "Теперь мы готовы анализировать наши результаты."
   ]
  },
  {
   "cell_type": "markdown",
   "metadata": {},
   "source": [
    "***\n",
    "## 3. Визуализация результатов"
   ]
  },
  {
   "cell_type": "markdown",
   "metadata": {},
   "source": [
    "Первое, что мы можем сделать, это вычислить некоторую **базовую статистику**, чтобы получить представление о том, как выглядят наши образцы."
   ]
  },
  {
   "cell_type": "code",
   "execution_count": 18,
   "metadata": {
    "ExecuteTime": {
     "end_time": "2021-11-18T16:11:09.012454Z",
     "start_time": "2021-11-18T16:11:08.429066Z"
    }
   },
   "outputs": [
    {
     "data": {
      "text/html": [
       "<style  type=\"text/css\" >\n",
       "</style><table id=\"T_45266_\" ><thead>    <tr>        <th class=\"blank level0\" ></th>        <th class=\"col_heading level0 col0\" >conversion_rate</th>        <th class=\"col_heading level0 col1\" >std_deviation</th>        <th class=\"col_heading level0 col2\" >std_error</th>    </tr>    <tr>        <th class=\"index_name level0\" >group</th>        <th class=\"blank\" ></th>        <th class=\"blank\" ></th>        <th class=\"blank\" ></th>    </tr></thead><tbody>\n",
       "                <tr>\n",
       "                        <th id=\"T_45266_level0_row0\" class=\"row_heading level0 row0\" >control</th>\n",
       "                        <td id=\"T_45266_row0_col0\" class=\"data row0 col0\" >0.123</td>\n",
       "                        <td id=\"T_45266_row0_col1\" class=\"data row0 col1\" >0.329</td>\n",
       "                        <td id=\"T_45266_row0_col2\" class=\"data row0 col2\" >0.005</td>\n",
       "            </tr>\n",
       "            <tr>\n",
       "                        <th id=\"T_45266_level0_row1\" class=\"row_heading level0 row1\" >treatment</th>\n",
       "                        <td id=\"T_45266_row1_col0\" class=\"data row1 col0\" >0.126</td>\n",
       "                        <td id=\"T_45266_row1_col1\" class=\"data row1 col1\" >0.331</td>\n",
       "                        <td id=\"T_45266_row1_col2\" class=\"data row1 col2\" >0.005</td>\n",
       "            </tr>\n",
       "    </tbody></table>"
      ],
      "text/plain": [
       "<pandas.io.formats.style.Styler at 0x7fe49221e400>"
      ]
     },
     "execution_count": 18,
     "metadata": {},
     "output_type": "execute_result"
    }
   ],
   "source": [
    "conversion_rates = ab_test.groupby('group')['converted']\n",
    "\n",
    "std_p = lambda x: np.std(x, ddof=0)              # Std. deviation \n",
    "se_p = lambda x: stats.sem(x, ddof=0)            # (std / sqrt(n))\n",
    "\n",
    "conversion_rates = conversion_rates.agg([np.mean, std_p, se_p])\n",
    "conversion_rates.columns = ['conversion_rate', 'std_deviation', 'std_error']\n",
    "\n",
    "\n",
    "conversion_rates.style.format('{:.3f}')"
   ]
  },
  {
   "cell_type": "markdown",
   "metadata": {},
   "source": [
    "Судя по статистике выше, **наши два дизайна работали очень похоже**, но наш новый дизайн работал немного лучше, прибл. **коэффициент конверсии 12,3% против 12,6%**.\n",
    "\n",
    "Нанесение данных на график упростит понимание этих результатов:"
   ]
  },
  {
   "cell_type": "code",
   "execution_count": 32,
   "metadata": {
    "ExecuteTime": {
     "end_time": "2021-11-19T18:25:01.530769Z",
     "start_time": "2021-11-19T18:25:00.788592Z"
    }
   },
   "outputs": [
    {
     "data": {
      "image/png": "[encoded data removed]",
      "text/plain": [
       "<Figure size 576x432 with 1 Axes>"
      ]
     },
     "metadata": {},
     "output_type": "display_data"
    }
   ],
   "source": [
    "plt.figure(figsize=(8,6))\n",
    "\n",
    "sns.barplot(x=ab_test['group'], y=ab_test['converted'], ci=False)\n",
    "\n",
    "plt.ylim(0, 0.17)\n",
    "plt.title('Conversion rate by group', pad=20)\n",
    "plt.xlabel('Group', labelpad=15)\n",
    "plt.ylabel('Converted (proportion)', labelpad=15);"
   ]
  },
  {
   "cell_type": "markdown",
   "metadata": {},
   "source": [
    "Коэффициенты конверсии для наших групп действительно очень близки. Также обратите внимание, что коэффициент конверсии контрольной группы ниже, чем то, что мы ожидали исходя из знаний о нашем среднем коэффициенте конверсии (12,3% против 13%). Это говорит о том, что есть некоторые различия в результатах при отборе выборки из совокупности.\n",
    "\n",
    "Итак, значение группы `treatment` выше. **Является ли эта разница *статистически значимой***?"
   ]
  },
  {
   "cell_type": "markdown",
   "metadata": {},
   "source": [
    "***\n",
    "## 4. Тестирование гипотезы"
   ]
  },
  {
   "cell_type": "markdown",
   "metadata": {},
   "source": [
    "Последний шаг нашего анализа - проверка нашей гипотезы. Поскольку у нас очень большая выборка, мы можем использовать <a href=\"https://en.wikipedia.org/wiki/Binomial_proportion_confidence_interval#Normal_approximation_interval\"> нормальное приближение </a> для вычисления нашего значения $p$ (т. е. z-тест).\n",
    "\n",
    "Опять же, Python упрощает все вычисления. Мы можем использовать модуль statsmodels.stats.proportion, чтобы получить значение $p$ и доверительные интервалы:"
   ]
  },
  {
   "cell_type": "code",
   "execution_count": 33,
   "metadata": {
    "ExecuteTime": {
     "end_time": "2021-11-19T18:25:16.452647Z",
     "start_time": "2021-11-19T18:25:16.447407Z"
    }
   },
   "outputs": [],
   "source": [
    "from statsmodels.stats.proportion import proportions_ztest, proportion_confint"
   ]
  },
  {
   "cell_type": "code",
   "execution_count": 34,
   "metadata": {
    "ExecuteTime": {
     "end_time": "2021-11-19T18:25:26.256705Z",
     "start_time": "2021-11-19T18:25:26.239674Z"
    }
   },
   "outputs": [],
   "source": [
    "control_results = ab_test[ab_test['group'] == 'control']['converted']\n",
    "treatment_results = ab_test[ab_test['group'] == 'treatment']['converted']"
   ]
  },
  {
   "cell_type": "code",
   "execution_count": 35,
   "metadata": {
    "ExecuteTime": {
     "end_time": "2021-11-19T18:25:44.318632Z",
     "start_time": "2021-11-19T18:25:44.303011Z"
    }
   },
   "outputs": [
    {
     "name": "stdout",
     "output_type": "stream",
     "text": [
      "z statistic: -0.34\n",
      "p-value: 0.732\n",
      "Доверительный интервал 95% для группы control: [0.114, 0.133]\n",
      "Доверительный интервал 95% для группы treatment: [0.116, 0.135]\n"
     ]
    }
   ],
   "source": [
    "n_con = control_results.count()\n",
    "n_treat = treatment_results.count()\n",
    "successes = [control_results.sum(), treatment_results.sum()]\n",
    "nobs = [n_con, n_treat]\n",
    "\n",
    "z_stat, pval = proportions_ztest(successes, nobs=nobs)\n",
    "(lower_con, lower_treat), (upper_con, upper_treat) = proportion_confint(successes, nobs=nobs, alpha=0.05)\n",
    "\n",
    "print(f'z statistic: {z_stat:.2f}')\n",
    "print(f'p-value: {pval:.3f}')\n",
    "print(f'Доверительный интервал 95% для группы control: [{lower_con:.3f}, {upper_con:.3f}]')\n",
    "print(f'Доверительный интервал 95% для группы treatment: [{lower_treat:.3f}, {upper_treat:.3f}]')"
   ]
  },
  {
   "cell_type": "markdown",
   "metadata": {},
   "source": [
    "***\n",
    "## 5. Выводы"
   ]
  },
  {
   "cell_type": "markdown",
   "metadata": {},
   "source": [
    "Поскольку наше $p$ -значение=0.732 намного выше нашего $\\alpha$ = 0.05, мы не можем отклонить нулевую гипотезу $H_0$, что означает, что наш новый дизайн не работал значительно (не говоря уже о лучшем), чем наш старый.\n",
    "\n",
    "Кроме того, если мы посмотрим доверительный интервал для группы `treatment` ([0,116, 0,135], т.е. 11,6-13,5%), мы заметим, что:\n",
    "1. Он включает наше базовое значение коэффициента конверсии 13%.\n",
    "2. Он не включает наше целевое значение в 15% (рост на 2%, к которому мы стремились).\n",
    "\n",
    "Это означает, что более вероятно, что истинный коэффициент конверсии нового дизайна будет похож на наш базовый уровень, а не на целевые 15%, на которые мы надеялись. Это еще одно доказательство того, что наш новый дизайн вряд ли станет улучшением нашего старого. Значит нужно придумать что-нибудь другое :)"
   ]
  }
 ],
 "metadata": {
  "kernelspec": {
   "display_name": "Python 3",
   "language": "python",
   "name": "python3"
  },
  "language_info": {
   "codemirror_mode": {
    "name": "ipython",
    "version": 3
   },
   "file_extension": ".py",
   "mimetype": "text/x-python",
   "name": "python",
   "nbconvert_exporter": "python",
   "pygments_lexer": "ipython3",
   "version": "3.8.8"
  },
  "toc": {
   "base_numbering": 1,
   "nav_menu": {},
   "number_sections": true,
   "sideBar": true,
   "skip_h1_title": false,
   "title_cell": "Table of Contents",
   "title_sidebar": "Contents",
   "toc_cell": false,
   "toc_position": {},
   "toc_section_display": true,
   "toc_window_display": false
  }
 },
 "nbformat": 4,
 "nbformat_minor": 4
}
