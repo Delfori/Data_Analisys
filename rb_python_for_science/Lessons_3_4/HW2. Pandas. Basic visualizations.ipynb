{
 "cells": [
  {
   "cell_type": "markdown",
   "id": "6bbb4b6a",
   "metadata": {},
   "source": [
    "# Домашнее задание 2: Pandas и простые визуализации"
   ]
  },
  {
   "cell_type": "markdown",
   "id": "7ef4e602",
   "metadata": {},
   "source": [
    "В данном домашнем задании очень важно **внимательно** читать формулировку задания и все комментарии."
   ]
  },
  {
   "cell_type": "markdown",
   "id": "fd7f076b",
   "metadata": {
    "ExecuteTime": {
     "end_time": "2021-09-20T19:43:50.443031Z",
     "start_time": "2021-09-20T19:43:50.439600Z"
    }
   },
   "source": [
    "1. С помощью Pandas вызовом одной фукнкци считайте набор данных из файла  'supermarket_sales.csv' , который лежит в папке `data`."
   ]
  },
  {
   "cell_type": "code",
   "execution_count": null,
   "id": "ac12f89b",
   "metadata": {},
   "outputs": [],
   "source": [
    "df = None # ваш код тут"
   ]
  },
  {
   "cell_type": "markdown",
   "id": "ca064875",
   "metadata": {
    "ExecuteTime": {
     "end_time": "2021-09-20T19:44:56.499824Z",
     "start_time": "2021-09-20T19:44:56.496923Z"
    }
   },
   "source": [
    "2. Покажите первые 5 и последние 5 записей в наборе данных."
   ]
  },
  {
   "cell_type": "code",
   "execution_count": null,
   "id": "d095f26b",
   "metadata": {},
   "outputs": [],
   "source": [
    "# ваш код тут"
   ]
  },
  {
   "cell_type": "markdown",
   "id": "2d54e0e4",
   "metadata": {},
   "source": [
    "3. Выведите названия колонок в наборе данных вместе с их типами данных."
   ]
  },
  {
   "cell_type": "code",
   "execution_count": null,
   "id": "509e34a4",
   "metadata": {},
   "outputs": [],
   "source": [
    "# ваш код тут"
   ]
  },
  {
   "cell_type": "markdown",
   "id": "75f38c1e",
   "metadata": {
    "ExecuteTime": {
     "end_time": "2021-09-20T19:46:49.248936Z",
     "start_time": "2021-09-20T19:46:49.245644Z"
    }
   },
   "source": [
    "4. Сколько колонок имеют текстовый тип данных? Сколько колонок содержат числа (тип данных float/int)? Ответ нужно вывести с помощью использования функций Pandas."
   ]
  },
  {
   "cell_type": "code",
   "execution_count": null,
   "id": "6ecd4a85",
   "metadata": {
    "ExecuteTime": {
     "end_time": "2021-09-20T19:47:21.096833Z",
     "start_time": "2021-09-20T19:47:21.094560Z"
    }
   },
   "outputs": [],
   "source": [
    "# ваш код тут"
   ]
  },
  {
   "cell_type": "markdown",
   "id": "815f9cc0",
   "metadata": {},
   "source": [
    "5. Сколько всего покупок сделали мужчины, а сколько женщины? Ответ должен быть сгенерирован одной строчкой кода и содержаться в одной pd.Series. Вывести отдельно количество покупок мужчин и количество покупок женщин будет в данном задании ошибкой.\n",
    "Подсказка: можно выполнить задание используя метод value_counts(), а можно - используя метод groupby()"
   ]
  },
  {
   "cell_type": "code",
   "execution_count": null,
   "id": "f167d0a9",
   "metadata": {
    "ExecuteTime": {
     "end_time": "2021-09-20T19:52:36.126936Z",
     "start_time": "2021-09-20T19:52:36.121615Z"
    }
   },
   "outputs": [],
   "source": [
    "# ваш код тут"
   ]
  },
  {
   "cell_type": "markdown",
   "id": "f4c8d00f",
   "metadata": {},
   "source": [
    "6. Какие есть продуктовые линии в наборе данных? Вывести уникальные названия."
   ]
  },
  {
   "cell_type": "code",
   "execution_count": null,
   "id": "61ae9569",
   "metadata": {
    "ExecuteTime": {
     "end_time": "2021-09-20T19:53:58.379972Z",
     "start_time": "2021-09-20T19:53:58.375472Z"
    }
   },
   "outputs": [],
   "source": [
    "# ваш код тут"
   ]
  },
  {
   "cell_type": "markdown",
   "id": "7d3dc308",
   "metadata": {
    "ExecuteTime": {
     "end_time": "2021-09-20T19:54:26.232269Z",
     "start_time": "2021-09-20T19:54:26.229253Z"
    }
   },
   "source": [
    "7. Какая средняя цена товара в каждой продуктовой линии? Сгенерировать ответ одной строчкой кода.  \n",
    "Цена товара содержится в колонке `'Unit price'`"
   ]
  },
  {
   "cell_type": "code",
   "execution_count": null,
   "id": "575a0ffd",
   "metadata": {},
   "outputs": [],
   "source": [
    "# ваш код тут"
   ]
  },
  {
   "cell_type": "markdown",
   "id": "3b0b09a7",
   "metadata": {
    "ExecuteTime": {
     "end_time": "2021-09-21T09:36:19.846132Z",
     "start_time": "2021-09-21T09:36:19.842310Z"
    }
   },
   "source": [
    "8. Преобразуйте колонку Date в формат datetime."
   ]
  },
  {
   "cell_type": "code",
   "execution_count": null,
   "id": "f5112291",
   "metadata": {},
   "outputs": [],
   "source": [
    "df['Date'] = None # ваш код тут"
   ]
  },
  {
   "cell_type": "markdown",
   "id": "36df4c40",
   "metadata": {
    "ExecuteTime": {
     "end_time": "2021-09-20T19:59:14.456652Z",
     "start_time": "2021-09-20T19:59:14.452991Z"
    }
   },
   "source": [
    "9. C помощью команды plot() выведите линейный график сумы всех покупок за каждый день, что есть в наборе данных. Задайте линии зелёный цвет.   \n",
    "В данном задании надо просуммировать значения колонки Total по дням и вывести на графике. Не забудьте подписать оси и дать графику название (`title`). К примеру, по оси ОУ у нас будет название 'Total amount', а заголовок графика 'Daily total samount of sales'. Но можете придумать и свои названия :)  \n",
    "Задание можно (но не обязательно) выполнить одной строкой кода пользуясь только методами pandas."
   ]
  },
  {
   "cell_type": "code",
   "execution_count": null,
   "id": "d6f3e55b",
   "metadata": {},
   "outputs": [],
   "source": [
    "# ваш код тут"
   ]
  },
  {
   "cell_type": "markdown",
   "id": "eb08f39b",
   "metadata": {
    "ExecuteTime": {
     "end_time": "2021-09-20T20:10:04.154440Z",
     "start_time": "2021-09-20T20:10:04.144681Z"
    }
   },
   "source": [
    "10. А теперь вывите на линейном графике подневно сколько продаж было сделано в каждой ветке (`Branch`). Задайте размер фигуры (10,6).\n",
    "Должны быть три линии (по одной на ветвь) на одном графике.\n",
    "Количеством продаж счистаем количество `Invoice ID` в этот день.\n",
    "\n",
    "Задание можно (но не обязательно) выполнить одной строкой кода пользуясь только методами pandas.  \n",
    "Один из способов выполнить это задание - сначала преобразовать данные в формат, где индексом выступает дата, колонками - названия ветвей, а значения - это количество продаж.   \n",
    "Эту таблицу потом легко отрисовать функцией `plot()`.  \n",
    "Для описанной трансформации данных используйте `pivot_table()`."
   ]
  },
  {
   "cell_type": "code",
   "execution_count": null,
   "id": "e090ee05",
   "metadata": {
    "ExecuteTime": {
     "end_time": "2021-09-20T20:24:10.478441Z",
     "start_time": "2021-09-20T20:24:10.121497Z"
    }
   },
   "outputs": [],
   "source": [
    "# ваш код тут"
   ]
  },
  {
   "cell_type": "markdown",
   "id": "135b71f8",
   "metadata": {},
   "source": [
    "Кажется, на этом графике сложно что-то понять. \n",
    "Выведите динамику по каждой из ветвей на отдельный график.  \n",
    "Максимально просто это сделать передав значение параметра `subplots=True` в функцию `plot()`.  \n",
    "Задайте размер фигуры (10,10)."
   ]
  },
  {
   "cell_type": "code",
   "execution_count": null,
   "id": "2be13edf",
   "metadata": {
    "ExecuteTime": {
     "end_time": "2021-09-20T20:32:09.735316Z",
     "start_time": "2021-09-20T20:32:08.948675Z"
    }
   },
   "outputs": [],
   "source": [
    "# ваш код тут"
   ]
  },
  {
   "cell_type": "markdown",
   "id": "7406d6d1",
   "metadata": {},
   "source": [
    "Удобнее было бы наверное смотреть на эти графики, если бы они были сглажены.  \n",
    "Один из методов сглаживания - скользящее среднее (Moving Average - MA). Суть его в том, что в каждой точке значение равно среднему N предыдущих.  \n",
    "Для того, чтоб посчитать скользящее среднее мы можем использовать функцию [pandas.DataFrame.rolling](https://pandas.pydata.org/docs/reference/api/pandas.DataFrame.rolling.html).     \n",
    "\n",
    "Используя параметры window=10 и min_periods=1 выведите сглаженные подневные графики количества продаж по ветвям. "
   ]
  },
  {
   "cell_type": "code",
   "execution_count": null,
   "id": "5d52e558",
   "metadata": {
    "ExecuteTime": {
     "end_time": "2021-09-20T20:44:22.715996Z",
     "start_time": "2021-09-20T20:44:22.712644Z"
    }
   },
   "outputs": [],
   "source": [
    "# ваш код тут"
   ]
  },
  {
   "cell_type": "markdown",
   "id": "e96bcfcd",
   "metadata": {
    "ExecuteTime": {
     "end_time": "2021-09-20T20:47:23.016233Z",
     "start_time": "2021-09-20T20:47:23.012993Z"
    }
   },
   "source": [
    "11. В каком городе расположена каждая из ветвей?"
   ]
  },
  {
   "cell_type": "code",
   "execution_count": null,
   "id": "d8775d69",
   "metadata": {},
   "outputs": [],
   "source": [
    "# ваш код тут"
   ]
  },
  {
   "cell_type": "markdown",
   "id": "1635a0be",
   "metadata": {
    "ExecuteTime": {
     "end_time": "2021-09-20T20:52:59.173329Z",
     "start_time": "2021-09-20T20:52:59.169950Z"
    }
   },
   "source": [
    "12. В каком городе чаще всего пользуются для расчётов наличкой (`Cash`), а в каком - электронным кошельком (`Ewallet`)?  \n",
    "Для выполнения этого задания сначала сформируйте таблицу, в которой строкам соответствуют способы оплаты (`Payment`), в столбцам - `City`, значения - количество покупок (они же - продажи).\n",
    "\n",
    "Нас интересует процент покупок, сделанных каждым из способов. Потому после того, как таблица сформирвоана, нам надо разделить каждую колонку на сумму значений в ней. Это будет просто `DataFrame.sum()`.\n",
    "В конце необходимо \"разукрасить\" таблицу, чтоб найти наибольшее и наименьшее значение по колонкам `Cash` и `Ewallet` соответственно."
   ]
  },
  {
   "cell_type": "code",
   "execution_count": null,
   "id": "d4891a4e",
   "metadata": {},
   "outputs": [],
   "source": [
    "# ваш код тут"
   ]
  },
  {
   "cell_type": "markdown",
   "id": "b357a816",
   "metadata": {},
   "source": [
    "13. Посмотрим на распределение цен на товары. Выведите распределение цен в каждой из товарных групп на графике. В какой группе товаров больше всего дорогих тововаров (от 90 до 100 у.е.)?\n",
    "\n",
    "В ходе выполнения задания необходимо построить гистограмму распределения цен на товары в каждой группе. Возможно, будет удобно вывести все гистограммы на однйо фигуре, но можно и на разных."
   ]
  },
  {
   "cell_type": "code",
   "execution_count": null,
   "id": "cbcfb6f6",
   "metadata": {
    "ExecuteTime": {
     "end_time": "2021-09-20T21:11:56.022797Z",
     "start_time": "2021-09-20T21:11:56.020757Z"
    }
   },
   "outputs": [],
   "source": [
    "# ваш код тут"
   ]
  },
  {
   "cell_type": "markdown",
   "id": "77d0262d",
   "metadata": {
    "ExecuteTime": {
     "end_time": "2021-09-20T21:16:05.418990Z",
     "start_time": "2021-09-20T21:16:05.415452Z"
    }
   },
   "source": [
    "14. Есть ли зависимость между ценой и рейтингом товаров группы \"Health and beauty\" ? Чтобы выяснить - отобразите график рассеянья и выведите коэффициент корреляции.\n",
    "\n",
    "Если не видим линейных зависимостей на граифке рассеянья, значит зависимости нет.  \n",
    "Если коэффициент корреляции меньше 0.2 - значит зависимости нет."
   ]
  },
  {
   "cell_type": "code",
   "execution_count": null,
   "id": "1b7f4a21",
   "metadata": {
    "ExecuteTime": {
     "end_time": "2021-09-20T21:17:38.919913Z",
     "start_time": "2021-09-20T21:17:38.917828Z"
    }
   },
   "outputs": [],
   "source": [
    "# ваш код тут"
   ]
  },
  {
   "cell_type": "markdown",
   "id": "6a563940",
   "metadata": {},
   "source": [
    "15*. Опциональное, но желательное задание.   \n",
    "Постройте все графики, фигурирующие в заданиях, с помощью seaborn."
   ]
  },
  {
   "cell_type": "code",
   "execution_count": null,
   "id": "c71668b9",
   "metadata": {},
   "outputs": [],
   "source": [
    "# ваш код тут"
   ]
  }
 ],
 "metadata": {
  "kernelspec": {
   "display_name": "Python 3",
   "language": "python",
   "name": "python3"
  },
  "language_info": {
   "codemirror_mode": {
    "name": "ipython",
    "version": 3
   },
   "file_extension": ".py",
   "mimetype": "text/x-python",
   "name": "python",
   "nbconvert_exporter": "python",
   "pygments_lexer": "ipython3",
   "version": "3.8.8"
  },
  "toc": {
   "base_numbering": 1,
   "nav_menu": {},
   "number_sections": true,
   "sideBar": true,
   "skip_h1_title": false,
   "title_cell": "Table of Contents",
   "title_sidebar": "Contents",
   "toc_cell": false,
   "toc_position": {},
   "toc_section_display": true,
   "toc_window_display": false
  }
 },
 "nbformat": 4,
 "nbformat_minor": 5
}
